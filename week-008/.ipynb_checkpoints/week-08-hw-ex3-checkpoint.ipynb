{
 "cells": [
  {
   "cell_type": "markdown",
   "metadata": {},
   "source": [
    "<div style=\"background: #000;\n",
    "            color: #FFF;\n",
    "            margin: 0px;\n",
    "                padding: 10px 0px 20px 0px;\n",
    "            text-align: center; \n",
    "                \">\n",
    "    <h1>Week 8 Homework</h1>\n",
    "</div>"
   ]
  },
  {
   "cell_type": "markdown",
   "metadata": {},
   "source": [
    "# Exercise 3:\n",
    "\n",
    "Given a string s containing just the characters `'('`, `')'`, `'{'`, `'}'`, `'['` and `']'`, determine if the input string is valid.\n",
    "\n",
    "An input string is valid if:\n",
    "* Open brackets must be closed by the same type of brackets.\n",
    "* Open brackets must be closed in the correct order.\n",
    "\n",
    "test cases:\n",
    "```\n",
    "Input: s = \"()\"\n",
    "Output: True\n",
    "\n",
    "Input: s = \"()[]{}\"\n",
    "Output: True\n",
    "\n",
    "Input: s = \"(]\"\n",
    "Output: False\n",
    "\n",
    "Input: s = \"([)]\"\n",
    "Output: False\n",
    "\n",
    "Input: s = \"{[]}\"\n",
    "Output: True\n",
    "```"
   ]
  },
  {
   "cell_type": "code",
   "execution_count": 1,
   "metadata": {},
   "outputs": [
    {
     "name": "stdout",
     "output_type": "stream",
     "text": [
      "solution is correct\n"
     ]
    }
   ],
   "source": [
    "# complete the following function:\n",
    "def check_string(input):\n",
    "    stack = []\n",
    "    \n",
    "    open_symbols = ['(','[','{']\n",
    "    closed_symbols = [')',']','}']\n",
    "    \n",
    "    symbol_dict = {')':'(', ']':'[','}':'{'}\n",
    "    \n",
    "    for char in input:\n",
    "        #print(char, stack)\n",
    "        # if open symbol, add to stack and continue to next symbol\n",
    "        if char in open_symbols:\n",
    "            stack.append(char)\n",
    "        \n",
    "            continue\n",
    "           \n",
    "        # if closing symbol, check most recent entry in stack\n",
    "        if char in closed_symbols:\n",
    "            \n",
    "            # if last element of stack corresponds to closing symbol\n",
    "            if symbol_dict[char] == stack[-1]:\n",
    "                stack.pop()\n",
    "                continue\n",
    "                \n",
    "            # if not matching, then unbalanced expression\n",
    "            else:\n",
    "                return False\n",
    "       \n",
    "    # return True if program reaches end of string (balanced)\n",
    "    return True\n",
    "\n",
    "# run the cell with the following code\n",
    "# to test your solution\n",
    "try:\n",
    "    assert(check_string(\"()\") == True)\n",
    "    assert(check_string(\"()[]{}\") == True)\n",
    "    assert(check_string(\"(]\") == False)\n",
    "    assert(check_string(\"([)]\") == False)\n",
    "    # bonus points:\n",
    "    # get this test case to work\n",
    "    assert(check_string(\"{[]}\") == True)\n",
    "    print(\"solution is correct\")\n",
    "except AssertionError:\n",
    "    print(\"solution is incorrect\")\n",
    "    print(\"please check your code.\")"
   ]
  }
 ],
 "metadata": {
  "kernelspec": {
   "display_name": "Python 3",
   "language": "python",
   "name": "python3"
  },
  "language_info": {
   "codemirror_mode": {
    "name": "ipython",
    "version": 3
   },
   "file_extension": ".py",
   "mimetype": "text/x-python",
   "name": "python",
   "nbconvert_exporter": "python",
   "pygments_lexer": "ipython3",
   "version": "3.8.0"
  }
 },
 "nbformat": 4,
 "nbformat_minor": 4
}
