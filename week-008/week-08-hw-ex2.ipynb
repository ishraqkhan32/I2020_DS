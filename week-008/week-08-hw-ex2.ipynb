{
 "cells": [
  {
   "cell_type": "markdown",
   "metadata": {},
   "source": [
    "<div style=\"background: #000;\n",
    "            color: #FFF;\n",
    "            margin: 0px;\n",
    "                padding: 10px 0px 20px 0px;\n",
    "            text-align: center; \n",
    "                \">\n",
    "    <h1>Week 8 Homework</h1>\n",
    "</div>"
   ]
  },
  {
   "cell_type": "markdown",
   "metadata": {},
   "source": [
    "# Exercise 2:\n",
    "\n",
    "Given an int `n`, create a function that creates an `n` x `n` matrix containing increasing integers starting with 1 and write the matrix into a csv file. \n",
    "\n",
    "\n",
    "#### Example:\n",
    "```    \n",
    "Input: 1\n",
    "Output: output.csv\n",
    "```\n",
    "The `output.csv` file should contain:\n",
    "```\n",
    "1\n",
    "```\n",
    "#### Example:\n",
    "```    \n",
    "Input: 2\n",
    "Output: output.csv\n",
    "```\n",
    "The `output.csv` file should contain:\n",
    "\n",
    "```\n",
    "1,2\n",
    "3,4\n",
    "```\n",
    "\n",
    "\n",
    "#### Example:\n",
    "```    \n",
    "Input: 3\n",
    "Output: output.csv\n",
    "```\n",
    "The `output.csv` file should contain:\n",
    "\n",
    "```\n",
    "1,2,3\n",
    "4,5,6\n",
    "7,8,9\n",
    "```"
   ]
  },
  {
   "cell_type": "code",
   "execution_count": 32,
   "metadata": {},
   "outputs": [
    {
     "data": {
      "text/plain": [
       "[[1, 2], [3, 4]]"
      ]
     },
     "execution_count": 32,
     "metadata": {},
     "output_type": "execute_result"
    }
   ],
   "source": [
    "# helper function that takes input n (int) and returns n x n matrix from 1 to n^2\n",
    "def create_matrix(n):\n",
    "    lis = []\n",
    "    counter = 1\n",
    "    for i in range(n):\n",
    "        temp = []\n",
    "        for j in range(n):\n",
    "            temp.append(counter)\n",
    "            counter += 1\n",
    "        lis.append(temp)\n",
    "    return lis\n",
    "\n",
    "create_matrix(2)"
   ]
  },
  {
   "cell_type": "code",
   "execution_count": 33,
   "metadata": {},
   "outputs": [],
   "source": [
    "import csv\n",
    "\n",
    "# complete the following code:\n",
    "def matrix_to_csv(n):\n",
    "    \n",
    "    # create n by n matrix\n",
    "    n_matrix = create_matrix(n)\n",
    "    \n",
    "    # open csv file\n",
    "    with open('output.csv', 'w', newline='') as f:\n",
    "        writer = csv.writer(f)\n",
    "        \n",
    "        # write matrix row to csv\n",
    "        for n_row in n_matrix:\n",
    "            writer.writerow(n_row) \n",
    "        \n",
    "    return \n",
    "\n",
    "matrix_to_csv(10)"
   ]
  },
  {
   "cell_type": "code",
   "execution_count": 36,
   "metadata": {},
   "outputs": [
    {
     "data": {
      "text/plain": [
       "[['1', '2', '3', '4', '5', '6', '7', '8', '9', '10'],\n",
       " ['11', '12', '13', '14', '15', '16', '17', '18', '19', '20'],\n",
       " ['21', '22', '23', '24', '25', '26', '27', '28', '29', '30'],\n",
       " ['31', '32', '33', '34', '35', '36', '37', '38', '39', '40'],\n",
       " ['41', '42', '43', '44', '45', '46', '47', '48', '49', '50'],\n",
       " ['51', '52', '53', '54', '55', '56', '57', '58', '59', '60'],\n",
       " ['61', '62', '63', '64', '65', '66', '67', '68', '69', '70'],\n",
       " ['71', '72', '73', '74', '75', '76', '77', '78', '79', '80'],\n",
       " ['81', '82', '83', '84', '85', '86', '87', '88', '89', '90'],\n",
       " ['91', '92', '93', '94', '95', '96', '97', '98', '99', '100']]"
      ]
     },
     "execution_count": 36,
     "metadata": {},
     "output_type": "execute_result"
    }
   ],
   "source": [
    "# print contents of output.csv as list of lists\n",
    "infile = open(\"output.csv\", \"r\")\n",
    "data = csv.reader(infile, delimiter=',')\n",
    "list_of_data = [line for line in data]\n",
    "list_of_data"
   ]
  }
 ],
 "metadata": {
  "kernelspec": {
   "display_name": "Python 3",
   "language": "python",
   "name": "python3"
  },
  "language_info": {
   "codemirror_mode": {
    "name": "ipython",
    "version": 3
   },
   "file_extension": ".py",
   "mimetype": "text/x-python",
   "name": "python",
   "nbconvert_exporter": "python",
   "pygments_lexer": "ipython3",
   "version": "3.8.0"
  }
 },
 "nbformat": 4,
 "nbformat_minor": 4
}
