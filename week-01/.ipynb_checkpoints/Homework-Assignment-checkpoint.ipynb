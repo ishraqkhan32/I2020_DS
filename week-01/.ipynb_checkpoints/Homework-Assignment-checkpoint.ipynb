{
 "cells": [
  {
   "cell_type": "markdown",
   "metadata": {},
   "source": [
    "# Week 1 HW\n",
    "\n",
    "**Exercise 1 and 3 are due Monday 9/20**  \n",
    "**Exercise 2 and 4 are due Tuesday 9/21**  \n",
    "**Exercise 5 and 6 are due Wednesday 9/22**  "
   ]
  },
  {
   "cell_type": "markdown",
   "metadata": {},
   "source": [
    "# Exercise 1"
   ]
  },
  {
   "cell_type": "markdown",
   "metadata": {},
   "source": [
    "a. Set a variable to a user input. "
   ]
  },
  {
   "cell_type": "code",
   "execution_count": 1,
   "metadata": {},
   "outputs": [
    {
     "name": "stdout",
     "output_type": "stream",
     "text": [
      "please enter your nameishraq\n"
     ]
    }
   ],
   "source": [
    "var = input(\"please enter your name\")"
   ]
  },
  {
   "cell_type": "markdown",
   "metadata": {},
   "source": [
    "b. Set two variables in the same statement."
   ]
  },
  {
   "cell_type": "code",
   "execution_count": 2,
   "metadata": {},
   "outputs": [
    {
     "name": "stdout",
     "output_type": "stream",
     "text": [
      "5 3\n"
     ]
    }
   ],
   "source": [
    "x, y = 5, 3\n",
    "print(x,y)"
   ]
  },
  {
   "cell_type": "markdown",
   "metadata": {},
   "source": [
    "c. Create a variable with a value that when cast as a bool returns True."
   ]
  },
  {
   "cell_type": "code",
   "execution_count": 4,
   "metadata": {},
   "outputs": [
    {
     "data": {
      "text/plain": [
       "True"
      ]
     },
     "execution_count": 4,
     "metadata": {},
     "output_type": "execute_result"
    }
   ],
   "source": [
    "a = 1\n",
    "bool(a)"
   ]
  },
  {
   "cell_type": "markdown",
   "metadata": {},
   "source": [
    "d. If we add up all the numbers from 0 to 100, we get 5050. \n",
    "\n",
    "What sum do we get if we add up all the numbers from 0 to 1000?\n",
    "\n",
    "(Show your work)"
   ]
  },
  {
   "cell_type": "code",
   "execution_count": 6,
   "metadata": {},
   "outputs": [
    {
     "name": "stdout",
     "output_type": "stream",
     "text": [
      "500500\n"
     ]
    }
   ],
   "source": [
    "sum = 0\n",
    "for i in range(1001):\n",
    "    sum += i\n",
    "print(sum)"
   ]
  },
  {
   "cell_type": "markdown",
   "metadata": {},
   "source": [
    "# Exercise 2 \n",
    "\n",
    "Convert the following logical statements into python. Print the result for each possible combination (TT, TF, FT, FF)"
   ]
  },
  {
   "cell_type": "markdown",
   "metadata": {},
   "source": [
    "¬(p || q )  "
   ]
  },
  {
   "cell_type": "markdown",
   "metadata": {
    "collapsed": true
   },
   "source": [
    "not (p or q)\n",
    "T T -> F\n",
    "T F -> F\n",
    "F T -> F\n",
    "F F -> T"
   ]
  },
  {
   "cell_type": "markdown",
   "metadata": {},
   "source": [
    "( p || q ) ⊕ ( p & q)"
   ]
  },
  {
   "cell_type": "markdown",
   "metadata": {},
   "source": [
    "(p or q) xor (p and q)\n",
    "\n",
    "T T T T -> T xor T -> F\n",
    "\n",
    "T T T F -> T xor F -> T\n",
    "\n",
    "T T F T -> T xor F -> T\n",
    "\n",
    "T T F F -> T xor F -> T\n",
    "\n",
    "T F T T -> T xor T -> F\n",
    "\n",
    "T F T F -> T xor F -> T\n",
    "\n",
    "T F F T -> T xor F -> T\n",
    "\n",
    "T F F F -> T xor F -> T\n",
    "\n",
    "F T T T -> T xor T -> F\n",
    "\n",
    "F T T F -> T xor F -> T\n",
    "\n",
    "F T F T -> T xor F -> T\n",
    "\n",
    "F T F F -> T xor F -> T\n",
    "\n",
    "F F T T -> F xor T -> T\n",
    "\n",
    "F F T F -> F xor F -> F\n",
    "\n",
    "F F F T -> F xor F -> F\n",
    "\n",
    "F F F F -> F xor F -> F"
   ]
  },
  {
   "cell_type": "markdown",
   "metadata": {},
   "source": [
    "(p & ¬q ) || (¬p & q)"
   ]
  },
  {
   "cell_type": "markdown",
   "metadata": {},
   "source": [
    "(p and not q) or (not p and q)\n",
    "T T T T -> F or F -> F\n",
    "\n",
    "T T T F -> F or F -> F\n",
    "\n",
    "T T F T -> F or F -> F\n",
    "\n",
    "T T F F -> F or F -> F\n",
    "\n",
    "T F T T -> T or F -> T\n",
    "\n",
    "T F T F -> T or F -> T\n",
    "\n",
    "T F F T -> T or F -> T\n",
    "\n",
    "T F F F -> T or F -> T\n",
    "\n",
    "F T T T -> F or T -> T\n",
    "\n",
    "F T T F -> F or T -> T\n",
    "\n",
    "F T F T -> F or T -> T\n",
    "\n",
    "F T F F -> F or T -> T\n",
    "\n",
    "F F T T -> F or F -> F\n",
    "\n",
    "F F T F -> F or F -> F\n",
    "\n",
    "F F F T -> F or F -> F\n",
    "\n",
    "F F F F -> F or F -> F"
   ]
  },
  {
   "cell_type": "markdown",
   "metadata": {},
   "source": [
    "# Exercise 3"
   ]
  },
  {
   "cell_type": "markdown",
   "metadata": {},
   "source": [
    " a. Create an array of strings that consist of five individual zeros followed by five individual ones. Demonstrate that it's an array, and that this is an array of strings using a built-in python function."
   ]
  },
  {
   "cell_type": "code",
   "execution_count": 5,
   "metadata": {},
   "outputs": [
    {
     "name": "stdout",
     "output_type": "stream",
     "text": [
      "['0', '0', '0', '0', '0', '1', '1', '1', '1', '1']\n",
      "Array is of type  <class 'list'> where each element is of type  <class 'str'>\n"
     ]
    }
   ],
   "source": [
    "array = []\n",
    "for i in range(5):\n",
    "    array.append('0')\n",
    "for i in range(5):\n",
    "    array.append('1')\n",
    "print(array)\n",
    "print('Array is of type ', type(array), 'where each element is of type ', type(array[0]))"
   ]
  },
  {
   "cell_type": "markdown",
   "metadata": {},
   "source": [
    "b. Create an array of integers that consists of the same. Output the number of elements in the array using a built-in python function"
   ]
  },
  {
   "cell_type": "code",
   "execution_count": 6,
   "metadata": {},
   "outputs": [
    {
     "name": "stdout",
     "output_type": "stream",
     "text": [
      "10\n"
     ]
    }
   ],
   "source": [
    "array = []\n",
    "for i in range(5):\n",
    "    array.append(0)\n",
    "for i in range(5):\n",
    "    array.append(1) \n",
    "print(len(array))"
   ]
  },
  {
   "cell_type": "markdown",
   "metadata": {},
   "source": [
    "c. Create an array of floats that consists of the same. Demonstrate that this array is one of floats using a built-in python function."
   ]
  },
  {
   "cell_type": "code",
   "execution_count": 9,
   "metadata": {},
   "outputs": [
    {
     "name": "stdout",
     "output_type": "stream",
     "text": [
      "[0.0, 0.0, 0.0, 0.0, 0.0, 1.0, 1.0, 1.0, 1.0, 1.0]\n",
      "Array is of type  <class 'list'> where each element is of type  <class 'float'>\n"
     ]
    }
   ],
   "source": [
    "array = []\n",
    "for i in range(5):\n",
    "    array.append(0.0)\n",
    "for i in range(5):\n",
    "    array.append(1.0) \n",
    "print(array)\n",
    "print('Array is of type ', type(array), 'where each element is of type ', type(array[0]))"
   ]
  },
  {
   "cell_type": "markdown",
   "metadata": {},
   "source": [
    "d. Create an array of bools that consists of the same. Demonstrate that this array is one of bools using a built-in python function."
   ]
  },
  {
   "cell_type": "code",
   "execution_count": 10,
   "metadata": {},
   "outputs": [
    {
     "name": "stdout",
     "output_type": "stream",
     "text": [
      "[False, False, False, False, False, True, True, True, True, True]\n",
      "Array is of type  <class 'list'> where each element is of type  <class 'bool'>\n"
     ]
    }
   ],
   "source": [
    "array = []\n",
    "for i in range(5):\n",
    "    array.append(bool(0))\n",
    "for i in range(5):\n",
    "    array.append(bool(1)) \n",
    "print(array)\n",
    "print('Array is of type ', type(array), 'where each element is of type ', type(array[0]))"
   ]
  },
  {
   "cell_type": "markdown",
   "metadata": {},
   "source": [
    "# Exercise 4\n",
    "\n",
    "Without actually using Python, determine what the following would evaluate\n",
    "to in Python and explain step-by-step how you arrived at this answer:\n",
    "\n",
    "    a. (1 or ((0 or 0) or 1)) or 1\n",
    "    b. ((1 or 0) or 0 or 1) or 1\n",
    "    c. 1 or 0 or 0 or 1 or 1\n",
    "    \n",
    "Change the following cells to markdown and fill your answer in them."
   ]
  },
  {
   "cell_type": "markdown",
   "metadata": {},
   "source": [
    "For each of these, we perform the operations one at-a-time by evaluating whatever is in the innermost parenthesis, keeping in mind the truth table for the or operator and that 0 is false and 1 is true.\n",
    "\n",
    "a. (1 or ((0 or 0) or 1)) or 1\n",
    "\n",
    "(1 or (0 or 1)) or 1\n",
    "\n",
    "(1 or 1) or 1\n",
    "\n",
    "1 or 1\n",
    "\n",
    "1\n",
    "\n",
    "b. ((1 or 0) or 0 or 1) or 1\n",
    "\n",
    "(1 or 0 or 1) or 1\n",
    "\n",
    "1 or 1\n",
    "\n",
    "1\n",
    "\n",
    "c. 1 or 0 or 0 or 1 or 1\n",
    "\n",
    "1\n",
    "\n",
    "For c, I just remembered that for an or operator, as long as one of the inputs is true, the entire statement is true. Since there are no parenthesis, that means there are 5 inputs at once, with at least one true, so it evaluates to true. \n",
    "\n"
   ]
  },
  {
   "cell_type": "markdown",
   "metadata": {},
   "source": [
    "# Exercise 5\n",
    "\n",
    "To convert Fahrenheit to Celsius, you use the following formula:\n",
    "\n",
    "$$\n",
    "    C^{\\circ} = \\frac{ (F^{\\circ} - 32)}{1.8}\n",
    "$$\n",
    "\n",
    "Given a Fahrenheit input `temperature`, write some python statements to print the temperature in Celsius.\n"
   ]
  },
  {
   "cell_type": "code",
   "execution_count": 3,
   "metadata": {},
   "outputs": [
    {
     "name": "stdout",
     "output_type": "stream",
     "text": [
      "Enter temperature in Fahrenheit: 100\n",
      "100°F = 37.78°C\n"
     ]
    }
   ],
   "source": [
    "temperature = input(\"Enter temperature in Fahrenheit: \")\n",
    "celsius = (int(temperature) - 32)/1.8\n",
    "print(f\"{temperature}°F = {celsius:.2f}°C\")"
   ]
  },
  {
   "cell_type": "markdown",
   "metadata": {},
   "source": [
    "# Exercise 6\n",
    "\n",
    "If given a height and a radius, print the volume of a cylinder.\n",
    "\n",
    "$$ \n",
    "    V = \\pi r^2h\n",
    "$$"
   ]
  },
  {
   "cell_type": "code",
   "execution_count": 4,
   "metadata": {},
   "outputs": [
    {
     "name": "stdout",
     "output_type": "stream",
     "text": [
      "Enter a height: 10\n",
      "Enter a radius: 10\n"
     ]
    }
   ],
   "source": [
    "height = input(\"Enter a height: \")\n",
    "radius = input(\"Enter a radius: \")"
   ]
  },
  {
   "cell_type": "code",
   "execution_count": 6,
   "metadata": {},
   "outputs": [
    {
     "name": "stdout",
     "output_type": "stream",
     "text": [
      "3141.5926535897934\n"
     ]
    }
   ],
   "source": [
    "import math\n",
    "volume = math.pi * (int(radius) * int(radius)) * int(height)\n",
    "print(volume)"
   ]
  }
 ],
 "metadata": {
  "kernelspec": {
   "display_name": "Python 3",
   "language": "python",
   "name": "python3"
  },
  "language_info": {
   "codemirror_mode": {
    "name": "ipython",
    "version": 3
   },
   "file_extension": ".py",
   "mimetype": "text/x-python",
   "name": "python",
   "nbconvert_exporter": "python",
   "pygments_lexer": "ipython3",
   "version": "3.8.0"
  }
 },
 "nbformat": 4,
 "nbformat_minor": 4
}
