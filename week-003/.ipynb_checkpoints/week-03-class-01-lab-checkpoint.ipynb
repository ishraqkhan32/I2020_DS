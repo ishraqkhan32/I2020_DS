{
 "cells": [
  {
   "cell_type": "markdown",
   "metadata": {},
   "source": [
    "<div style=\"background: #000;\n",
    "            color: #FFF;\n",
    "            margin: 0px;\n",
    "                padding: 10px 0px 20px 0px;\n",
    "            text-align: center; \n",
    "                \">\n",
    "    <h1>Week 3 - Class 1 - Lab</h1>\n",
    "</div>\n"
   ]
  },
  {
   "cell_type": "markdown",
   "metadata": {},
   "source": [
    "# Question 1\n",
    "    \n",
    "Why do we need control structures and conditionals? Name one scenario we've encountered in previous assignments that could have benefitted from the use of these things. How would it have helped?"
   ]
  },
  {
   "cell_type": "markdown",
   "metadata": {},
   "source": [
    "We need control structures and conditionals in order to reuse pieces of our code. If we did not have control structures, then we would need to rewrite the same piece of code over and over again to perform an action on an input. Instead of simply allowing us to control what a computer can do, we can code in more complex decision making. One scenario would be Exercise 3 from Week 2 Lab 3 where we were asked to print the students from the list of students. "
   ]
  },
  {
   "cell_type": "markdown",
   "metadata": {},
   "source": [
    "# Exercise 1\n",
    "\n",
    "Given the input variable, write conditional statements to return True if an element:\n",
    "* contains a string longer than 30.\n",
    "* is a number greater than 30.\n",
    "* is a string less than 30 characters containing a number.\n",
    "* otherwise store the value to a list."
   ]
  },
  {
   "cell_type": "code",
   "execution_count": 3,
   "metadata": {},
   "outputs": [],
   "source": [
    "variable = \"2134\""
   ]
  },
  {
   "cell_type": "code",
   "execution_count": 4,
   "metadata": {},
   "outputs": [
    {
     "name": "stdout",
     "output_type": "stream",
     "text": [
      "True\n"
     ]
    }
   ],
   "source": [
    "digits = {\"0\", \"1\", \"2\", \"3\", \"4\", \"5\", \"6\", \"7\", \"8\", \"9\"}\n",
    "lis = []\n",
    "\n",
    "if len(variable) > 30:\n",
    "    print(True)\n",
    "# if intersection of digits set and variable set is empty, 2nd statement returns False and control goes to else\n",
    "elif len(variable) < 30 and set(variable).intersection(digits):\n",
    "    print(True)\n",
    "else:\n",
    "    lis.append(variable)\n",
    "    print(lis)"
   ]
  },
  {
   "cell_type": "markdown",
   "metadata": {},
   "source": [
    "# Exercise 2\n",
    "\n",
    "Create a \"switch\" statement that takes a number and prints \"fizz\" if the number is greater than 0 **and** even, \"buzz\" if greater than 0 and odd, an absolute value of the number if negative, \"ZERO\" if 0 and \"not a number\" otherwise. \n"
   ]
  },
  {
   "cell_type": "code",
   "execution_count": 5,
   "metadata": {},
   "outputs": [],
   "source": [
    "# number = 10 #prints fizz\n",
    "# number = 15 #prints buzz\n",
    "# number = -100 #prints 100\n",
    "# number = 0 #prints ZERO\n",
    "number = 'helo' #prints \"not a number\""
   ]
  },
  {
   "cell_type": "code",
   "execution_count": 6,
   "metadata": {},
   "outputs": [
    {
     "name": "stdout",
     "output_type": "stream",
     "text": [
      "not a number\n"
     ]
    }
   ],
   "source": [
    "number = \"not int\"\n",
    "if type(number) is int:\n",
    "    if number > 0 and not (number % 2):\n",
    "        print(\"fizz\")\n",
    "    elif number > 0 and (number % 2):\n",
    "        print(\"buzz\")\n",
    "    elif number < 0:\n",
    "        number = number * -1\n",
    "        print(number)\n",
    "    elif number == 0:\n",
    "        print(\"ZERO\")\n",
    "else:\n",
    "    print(\"not a number\")"
   ]
  },
  {
   "cell_type": "markdown",
   "metadata": {},
   "source": [
    "# Exercise 3\n",
    "\n",
    "Using the following code. Write an if statement that takes the `value` returned by the `random_function` and does the following:\n",
    "* print \"true\" if False\n",
    "* print \"false\" if True,\n",
    "* sorts a string and prints it if the string is all lowercase\n",
    "* prints \"one char\" if there's a single uppercase character\n",
    "* prints \"string\" if the other two don't apply (hint: nest)\n",
    "* append the value to a list if a number greater or equal to 0.\n",
    "* add the absolute value of a negative number to a sum\n"
   ]
  },
  {
   "cell_type": "code",
   "execution_count": 7,
   "metadata": {},
   "outputs": [],
   "source": [
    "from random import choice, randint, triangular\n",
    "from string import ascii_letters\n",
    "\n",
    "def random_string():\n",
    "    letters = ascii_letters\n",
    "    r = [choice(letters) for i in range(4)]\n",
    "    return \"\".join(r)\n",
    "\n",
    "def random_number():\n",
    "    return randint(-1000,1000)\n",
    "\n",
    "def random_bool():\n",
    "    return bool(randint(0,1))\n",
    "    \n",
    "def random_function():\n",
    "    s = {\n",
    "        0: random_string(),\n",
    "        1: random_number(), \n",
    "        2: random_bool(),\n",
    "    }\n",
    "    return s[randint(0, 2)]"
   ]
  },
  {
   "cell_type": "code",
   "execution_count": 8,
   "metadata": {},
   "outputs": [
    {
     "name": "stdout",
     "output_type": "stream",
     "text": [
      "Kjvo\n"
     ]
    }
   ],
   "source": [
    "value = random_function()\n",
    "print(value)"
   ]
  },
  {
   "cell_type": "code",
   "execution_count": 9,
   "metadata": {},
   "outputs": [
    {
     "name": "stdout",
     "output_type": "stream",
     "text": [
      "one char\n"
     ]
    }
   ],
   "source": [
    "#put your code here:\n",
    "lis_nums = [] # for numbers greater than or equal to 0\n",
    "running_sum = 0 # for negative numbers\n",
    "\n",
    "# handles scenarios where value is bool\n",
    "if type(value) is bool:\n",
    "    if value is False:\n",
    "        print(\"true\")\n",
    "    elif value is True:\n",
    "        print(\"false\")\n",
    "# handles when value is string\n",
    "elif type(value) is str:\n",
    "    if value.islower():\n",
    "        print(sorted(value))\n",
    "    elif [letter.isupper() for letter in value].count(True) == 1:\n",
    "        print('one char')\n",
    "    else:\n",
    "        print(\"string\")\n",
    "elif type(value) is int:\n",
    "    if value >= 0:\n",
    "        lis_nums.append(value)\n",
    "    else:\n",
    "        sum = sum + (value*-1)"
   ]
  },
  {
   "cell_type": "code",
   "execution_count": null,
   "metadata": {},
   "outputs": [],
   "source": []
  }
 ],
 "metadata": {
  "kernelspec": {
   "display_name": "Python 3",
   "language": "python",
   "name": "python3"
  },
  "language_info": {
   "codemirror_mode": {
    "name": "ipython",
    "version": 3
   },
   "file_extension": ".py",
   "mimetype": "text/x-python",
   "name": "python",
   "nbconvert_exporter": "python",
   "pygments_lexer": "ipython3",
   "version": "3.8.0"
  }
 },
 "nbformat": 4,
 "nbformat_minor": 4
}
