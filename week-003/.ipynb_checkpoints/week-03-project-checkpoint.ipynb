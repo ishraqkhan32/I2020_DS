{
 "cells": [
  {
   "cell_type": "markdown",
   "metadata": {},
   "source": [
    "<div style=\"background: #000;\n",
    "            color: #FFF;\n",
    "            margin: 0px;\n",
    "                padding: 10px 0px 20px 0px;\n",
    "            text-align: center; \n",
    "                \">\n",
    "    <h1>Week 3 - Project</h1>\n",
    "</div>  \n",
    "\n",
    "\n",
    "# Cleaning up data.\n",
    "\n",
    "We've got some messy data we need to fix. Using loops and other things we've learned, take the original data and convert it to the format we need. \n",
    "\n",
    "Show all work. Make sure to clean up notebook and `Kernel -> Restart and Clear All Work` before you submit. We should be able to run your notebook from top to bottom and it should give us the expected output. \n",
    "\n",
    "If someone changes the data, it should still return the same sort of output.\n",
    "\n",
    "\n",
    "\n",
    "\n",
    "This is what we have:\n",
    "```python\n",
    "[['Open','High','Low','Volume','Close'],\n",
    "[828.659973,833.450012,828.349976,1247700,831.659973],\n",
    "[823.02002,828.070007,821.655029,1597800,828.070007],\n",
    "[819.929993,824.400024,818.97998,1281700,824.159973],\n",
    "[819.359985,823,818.469971,1304000,818.97998],\n",
    "[819,823,816,1053600,820.450012],\n",
    "[816,820.958984,815.48999,1198100,819.23999],\n",
    "[811.700012,815.25,809.780029,1129100,813.669983],\n",
    "[809.51001,810.659973,804.539978,989700,809.559998],\n",
    "[807,811.840027,803.190002,1155300,808.380005],\n",
    "[803.98999,810.5,801.780029,1235200,806.969971],\n",
    "[799.700012,801.669983,795.25,1174200,801.340027],\n",
    "[802.98999,806,800.369995,1460400,801.48999],\n",
    "[793.799988,802.700012,792,1525800,798.530029],\n",
    "[799.679993,801.190002,791.190002,2023300,795.695007],\n",
    "[796.859985,801.25,790.52002,2143500,],]\n",
    "```\n",
    "\n",
    "And this is what we need:\n",
    "```python\n",
    "{\n",
    "'Open': []\n",
    "'High': []\n",
    "'Low': []\n",
    "'Volume': []\n",
    "'Close': []\n",
    "}\n",
    "```\n"
   ]
  },
  {
   "cell_type": "code",
   "execution_count": 1,
   "metadata": {},
   "outputs": [
    {
     "name": "stdout",
     "output_type": "stream",
     "text": [
      "list_of_data is correct\n"
     ]
    }
   ],
   "source": [
    "# the \\ tells python the line conts. below\n",
    "list_of_data = \\\n",
    "[['Open','High','Low','Volume','Close'],\n",
    "[828.659973,833.450012,828.349976,1247700,831.659973],\n",
    "[823.02002,828.070007,821.655029,1597800,828.070007],\n",
    "[819.929993,824.400024,818.97998,1281700,824.159973],\n",
    "[819.359985,823,818.469971,1304000,818.97998],\n",
    "[819,823,816,1053600,820.450012],\n",
    "[816,820.958984,815.48999,1198100,819.23999],\n",
    "[811.700012,815.25,809.780029,1129100,813.669983],\n",
    "[809.51001,810.659973,804.539978,989700,809.559998],\n",
    "[807,811.840027,803.190002,1155300,808.380005],\n",
    "[803.98999,810.5,801.780029,1235200,806.969971],\n",
    "[799.700012,801.669983,795.25,1174200,801.340027],\n",
    "[802.98999,806,800.369995,1460400,801.48999],\n",
    "[793.799988,802.700012,792,1525800,798.530029],\n",
    "[799.679993,801.190002,791.190002,2023300,795.695007],\n",
    "[796.859985,801.25,790.52002,2143500,],]\n",
    "\n",
    "import hashlib;print(\"list_of_data is correct\" if hashlib.md5(str(list_of_data).encode()).hexdigest() == '06d2e9f1606fd8f0d79d3c13ccfe948d' else \"list_of_data is incorrect\")"
   ]
  },
  {
   "cell_type": "code",
   "execution_count": 13,
   "metadata": {},
   "outputs": [
    {
     "data": {
      "text/plain": [
       "{'Open': [], 'High': [], 'Low': [], 'Volume': [], 'Close': []}"
      ]
     },
     "execution_count": 13,
     "metadata": {},
     "output_type": "execute_result"
    }
   ],
   "source": [
    "dic = {header : [] for header in list_of_data[0]}\n",
    "dic"
   ]
  },
  {
   "cell_type": "code",
   "execution_count": 15,
   "metadata": {},
   "outputs": [
    {
     "name": "stdout",
     "output_type": "stream",
     "text": [
      "{'Open': [828.659973, 823.02002, 819.929993, 819.359985, 819, 816, 811.700012, 809.51001, 807, 803.98999, 799.700012, 802.98999, 793.799988, 799.679993, 796.859985, 828.659973, 823.02002, 819.929993, 819.359985, 819, 816, 811.700012, 809.51001, 807, 803.98999, 799.700012, 802.98999, 793.799988, 799.679993, 796.859985], 'High': [833.450012, 828.070007, 824.400024, 823, 823, 820.958984, 815.25, 810.659973, 811.840027, 810.5, 801.669983, 806, 802.700012, 801.190002, 801.25, 833.450012, 828.070007, 824.400024, 823, 823, 820.958984, 815.25, 810.659973, 811.840027, 810.5, 801.669983, 806, 802.700012, 801.190002, 801.25], 'Low': [828.349976, 821.655029, 818.97998, 818.469971, 816, 815.48999, 809.780029, 804.539978, 803.190002, 801.780029, 795.25, 800.369995, 792, 791.190002, 790.52002, 828.349976, 821.655029, 818.97998, 818.469971, 816, 815.48999, 809.780029, 804.539978, 803.190002, 801.780029, 795.25, 800.369995, 792, 791.190002, 790.52002], 'Volume': [1247700, 1597800, 1281700, 1304000, 1053600, 1198100, 1129100, 989700, 1155300, 1235200, 1174200, 1460400, 1525800, 2023300, 2143500, 1247700, 1597800, 1281700, 1304000, 1053600, 1198100, 1129100, 989700, 1155300, 1235200, 1174200, 1460400, 1525800, 2023300, 2143500], 'Close': [831.659973, 828.070007, 824.159973, 818.97998, 820.450012, 819.23999, 813.669983, 809.559998, 808.380005, 806.969971, 801.340027, 801.48999, 798.530029, 795.695007, 'n/a', 831.659973, 828.070007, 824.159973, 818.97998, 820.450012, 819.23999, 813.669983, 809.559998, 808.380005, 806.969971, 801.340027, 801.48999, 798.530029, 795.695007, 'n/a']}\n"
     ]
    }
   ],
   "source": [
    "for line in list_of_data[1:]:\n",
    "    # handling missing data by replacing IndexErrors with 'n/a'\n",
    "    for i in range(5):\n",
    "        try:\n",
    "            line[i]\n",
    "        except IndexError:\n",
    "            line.append('n/a')\n",
    "    dic['Open'].append(line[0])\n",
    "    dic['High'].append(line[1])\n",
    "    dic['Low'].append(line[2])\n",
    "    dic['Volume'].append(line[3])\n",
    "    dic['Close'].append(line[4])\n",
    "print(dic)"
   ]
  },
  {
   "cell_type": "code",
   "execution_count": null,
   "metadata": {},
   "outputs": [],
   "source": []
  }
 ],
 "metadata": {
  "kernelspec": {
   "display_name": "Python 3",
   "language": "python",
   "name": "python3"
  },
  "language_info": {
   "codemirror_mode": {
    "name": "ipython",
    "version": 3
   },
   "file_extension": ".py",
   "mimetype": "text/x-python",
   "name": "python",
   "nbconvert_exporter": "python",
   "pygments_lexer": "ipython3",
   "version": "3.8.0"
  }
 },
 "nbformat": 4,
 "nbformat_minor": 4
}
