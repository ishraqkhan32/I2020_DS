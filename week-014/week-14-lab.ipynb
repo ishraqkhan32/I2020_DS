{
 "cells": [
  {
   "cell_type": "markdown",
   "metadata": {},
   "source": [
    "<div style=\"background: #000;\n",
    "            color: #FFF;\n",
    "            margin: 0px;\n",
    "                padding: 10px 0px 20px 0px;\n",
    "            text-align: center; \n",
    "                \">\n",
    "    <h1>Week 14 Lab</h1>\n",
    "</div>"
   ]
  },
  {
   "cell_type": "code",
   "execution_count": 2,
   "metadata": {},
   "outputs": [],
   "source": [
    "# imports\n",
    "\n",
    "import numpy as np"
   ]
  },
  {
   "cell_type": "markdown",
   "metadata": {},
   "source": [
    "## Exercise 1\n",
    "\n",
    "Create the following numpy arrays:\n",
    "    \n",
    "a) An array using the following lists (make it interesting if you can)"
   ]
  },
  {
   "cell_type": "code",
   "execution_count": 5,
   "metadata": {},
   "outputs": [
    {
     "name": "stdout",
     "output_type": "stream",
     "text": [
      "[[0 0 0 0 0]\n",
      " [1 2 3 4 5]]\n",
      "2\n",
      "10\n",
      "(2, 5)\n"
     ]
    }
   ],
   "source": [
    "l = [0,0,0,0,0] \n",
    "m = [1,2,3,4,5]\n",
    "\n",
    "arr = np.array([l,m])\n",
    "\n",
    "print(arr)\n",
    "print(arr.ndim)\n",
    "print(arr.size)\n",
    "print(arr.shape)"
   ]
  },
  {
   "cell_type": "markdown",
   "metadata": {},
   "source": [
    "b) A 3 x 4 matrix of zeros: "
   ]
  },
  {
   "cell_type": "code",
   "execution_count": 15,
   "metadata": {},
   "outputs": [
    {
     "name": "stdout",
     "output_type": "stream",
     "text": [
      "[[0 0 0 0]\n",
      " [0 0 0 0]\n",
      " [0 0 0 0]]\n",
      "2\n",
      "12\n",
      "(3, 4)\n"
     ]
    }
   ],
   "source": [
    "arr2 = np.zeros((3,4), dtype=int)\n",
    "\n",
    "print(arr2)\n",
    "print(arr2.ndim)\n",
    "print(arr2.size)\n",
    "print(arr2.shape)"
   ]
  },
  {
   "cell_type": "markdown",
   "metadata": {},
   "source": [
    "c) A 2 x 4 matrix of zeros and ones of the following format:\n",
    "\n",
    "[[0,0,1,1], [0,0,1,1]]\n",
    "\n",
    "(try without using python lists)"
   ]
  },
  {
   "cell_type": "code",
   "execution_count": 14,
   "metadata": {},
   "outputs": [
    {
     "data": {
      "text/plain": [
       "array([[0, 0, 1, 1],\n",
       "       [0, 0, 1, 1]])"
      ]
     },
     "execution_count": 14,
     "metadata": {},
     "output_type": "execute_result"
    }
   ],
   "source": [
    "a1 = np.zeros((2,2), dtype=int)\n",
    "a2 = np.ones((2,2), dtype=int)\n",
    "new_arr = np.hstack((a1, a2))\n",
    "new_arr"
   ]
  },
  {
   "cell_type": "markdown",
   "metadata": {},
   "source": [
    "e) A 3 x 4 array from the following numpy array (do not change the already existing code):"
   ]
  },
  {
   "cell_type": "code",
   "execution_count": 9,
   "metadata": {},
   "outputs": [
    {
     "name": "stdout",
     "output_type": "stream",
     "text": [
      "[[ 0  1  2  3]\n",
      " [ 4  5  6  7]\n",
      " [ 8  9 10 11]]\n"
     ]
    }
   ],
   "source": [
    "r = np.arange(0,12)\n",
    "# enter your code below\n",
    "s = r.reshape(3,4)\n",
    "print(s)"
   ]
  },
  {
   "cell_type": "markdown",
   "metadata": {},
   "source": [
    "f) A 1 x 13 array from the following array\n",
    "\n",
    "look into the `resize` method"
   ]
  },
  {
   "cell_type": "code",
   "execution_count": 13,
   "metadata": {},
   "outputs": [
    {
     "name": "stdout",
     "output_type": "stream",
     "text": [
      "[[-3.10503618e+231 -3.10503618e+231  6.42285340e-323  0.00000000e+000\n",
      "   0.00000000e+000  0.00000000e+000  0.00000000e+000  0.00000000e+000\n",
      "   0.00000000e+000  0.00000000e+000  0.00000000e+000  0.00000000e+000\n",
      "   0.00000000e+000]]\n",
      "(1, 13)\n"
     ]
    }
   ],
   "source": [
    "n = np.empty(shape=(2,6))\n",
    "### enter your code below\n",
    "n.resize(1,13)\n",
    "print(n)\n",
    "print(n.shape)"
   ]
  },
  {
   "cell_type": "markdown",
   "metadata": {},
   "source": [
    "Using the following array, create an array that consists of the same numbers but squared and in order from smallest to largest"
   ]
  },
  {
   "cell_type": "code",
   "execution_count": 16,
   "metadata": {},
   "outputs": [
    {
     "name": "stdout",
     "output_type": "stream",
     "text": [
      "[ 49  36  81  25  64  81  36 100   9  16   9   9   1   4  25  64  36   1\n",
      "  36   0]\n"
     ]
    }
   ],
   "source": [
    "n = np.array([7, 6, 9, 5, 8, 9, 6, 10, 3, 4, 3, 3, 1, 2, 5, 8, 6, 1, 6, 0])\n",
    "### enter your code below\n",
    "new_n = n * n\n",
    "print(new_n)"
   ]
  },
  {
   "cell_type": "markdown",
   "metadata": {},
   "source": [
    "## Exercise 2\n",
    "\n",
    "Produce  the array as asked\n",
    "\n",
    "a) Create a 3x3x3 array with the numbers from 1, 27. Then slice it to produce the 3x3 array in the middle."
   ]
  },
  {
   "cell_type": "code",
   "execution_count": 25,
   "metadata": {},
   "outputs": [
    {
     "name": "stdout",
     "output_type": "stream",
     "text": [
      "[[[ 1  2  3]\n",
      "  [ 4  5  6]\n",
      "  [ 7  8  9]]\n",
      "\n",
      " [[10 11 12]\n",
      "  [13 14 15]\n",
      "  [16 17 18]]\n",
      "\n",
      " [[19 20 21]\n",
      "  [22 23 24]\n",
      "  [25 26 27]]]\n"
     ]
    },
    {
     "data": {
      "text/plain": [
       "array([[10, 11, 12],\n",
       "       [13, 14, 15],\n",
       "       [16, 17, 18]])"
      ]
     },
     "execution_count": 25,
     "metadata": {},
     "output_type": "execute_result"
    }
   ],
   "source": [
    "# produce 3x3x3 array\n",
    "n = np.arange(1,28).reshape(3,3,3)\n",
    "print(n)\n",
    "\n",
    "# return 3x3 array in middle\n",
    "n[1]"
   ]
  },
  {
   "cell_type": "markdown",
   "metadata": {},
   "source": [
    "b) Create a 3 x 3 array of random numbers. Then slice it to produce the numbers in the 2-index column."
   ]
  },
  {
   "cell_type": "code",
   "execution_count": 32,
   "metadata": {},
   "outputs": [
    {
     "name": "stdout",
     "output_type": "stream",
     "text": [
      "[0.04097352 0.91275558 0.54362499]\n"
     ]
    }
   ],
   "source": [
    "rng = np.random.default_rng(0)\n",
    "### enter your code below \n",
    "n = rng.random((3,3))\n",
    "\n",
    "two_index_column = n[:,2]\n",
    "print(two_index_column)"
   ]
  },
  {
   "cell_type": "markdown",
   "metadata": {},
   "source": [
    "c) Create a 3x3x3 array of zeros. Slice a 2x2 array from it and change the values to 1s. Then output the original 3x3x3 with `0`'s and `1`s"
   ]
  },
  {
   "cell_type": "code",
   "execution_count": 58,
   "metadata": {},
   "outputs": [
    {
     "name": "stdout",
     "output_type": "stream",
     "text": [
      "original 3x3x3 array of zeros:\n",
      " [[[0 0 0]\n",
      "  [0 0 0]\n",
      "  [0 0 0]]\n",
      "\n",
      " [[0 0 0]\n",
      "  [0 0 0]\n",
      "  [0 0 0]]\n",
      "\n",
      " [[0 0 0]\n",
      "  [0 0 0]\n",
      "  [0 0 0]]]\n",
      "--------------------------------\n",
      "2x2 array sliced from 3x3x3 array:\n",
      " [[0 0]\n",
      " [0 0]]\n",
      "--------------------------------\n",
      "2x2 array after changing values to 1:\n",
      " [[1 1]\n",
      " [1 1]]\n",
      "--------------------------------\n",
      "current values in 3x3x3 array:\n",
      " [[[1 1 0]\n",
      "  [1 1 0]\n",
      "  [0 0 0]]\n",
      "\n",
      " [[0 0 0]\n",
      "  [0 0 0]\n",
      "  [0 0 0]]\n",
      "\n",
      " [[0 0 0]\n",
      "  [0 0 0]\n",
      "  [0 0 0]]]\n"
     ]
    }
   ],
   "source": [
    "# create 3x3x3 array of zeros\n",
    "n = np.zeros((3,3,3), dtype=int)\n",
    "print(\"original 3x3x3 array of zeros:\\n\", n)\n",
    "print('--------------------------------')\n",
    "\n",
    "# slice 2x2 array\n",
    "n_slice = n[0][0:2, 0:2]\n",
    "print(\"2x2 array sliced from 3x3x3 array:\\n\", n_slice)\n",
    "print('--------------------------------')\n",
    "\n",
    "# change values of 2x2 array to 1s\n",
    "n_slice[:,:] = 1\n",
    "print(\"2x2 array after changing values to 1:\\n\", n_slice)\n",
    "print('--------------------------------')\n",
    "\n",
    "# print new values in original 3x3x3 array\n",
    "print(\"current values in 3x3x3 array:\\n\", n)"
   ]
  },
  {
   "cell_type": "markdown",
   "metadata": {},
   "source": [
    "d) Create an array of all the numbers from 1, 27 (inclusive). Then produce a slice that outputs only the even numbers less than 14."
   ]
  },
  {
   "cell_type": "code",
   "execution_count": 83,
   "metadata": {},
   "outputs": [
    {
     "data": {
      "text/plain": [
       "array([ 2,  4,  6,  8, 10, 12])"
      ]
     },
     "execution_count": 83,
     "metadata": {},
     "output_type": "execute_result"
    }
   ],
   "source": [
    "n = np.arange(1,28)\n",
    "n[(n < 14) & (n % 2 == 0)]"
   ]
  },
  {
   "cell_type": "markdown",
   "metadata": {},
   "source": [
    "## Exercise 3\n",
    "\n",
    "a) Create an array of all postive integers from 1 to 100.    \n",
    "b) Reshape it into a 10 x 10 matrix  \n",
    "c) Remove multiples (so numbers that aren't prime  \n",
    "d) Output the prime numbers.  \n",
    "\n",
    "a)"
   ]
  },
  {
   "cell_type": "code",
   "execution_count": 91,
   "metadata": {},
   "outputs": [
    {
     "data": {
      "text/plain": [
       "array([  1,   2,   3,   4,   5,   6,   7,   8,   9,  10,  11,  12,  13,\n",
       "        14,  15,  16,  17,  18,  19,  20,  21,  22,  23,  24,  25,  26,\n",
       "        27,  28,  29,  30,  31,  32,  33,  34,  35,  36,  37,  38,  39,\n",
       "        40,  41,  42,  43,  44,  45,  46,  47,  48,  49,  50,  51,  52,\n",
       "        53,  54,  55,  56,  57,  58,  59,  60,  61,  62,  63,  64,  65,\n",
       "        66,  67,  68,  69,  70,  71,  72,  73,  74,  75,  76,  77,  78,\n",
       "        79,  80,  81,  82,  83,  84,  85,  86,  87,  88,  89,  90,  91,\n",
       "        92,  93,  94,  95,  96,  97,  98,  99, 100])"
      ]
     },
     "execution_count": 91,
     "metadata": {},
     "output_type": "execute_result"
    }
   ],
   "source": [
    "n = np.arange(1,101)\n",
    "n"
   ]
  },
  {
   "cell_type": "markdown",
   "metadata": {},
   "source": [
    "b) reshape it into a 10 x 10 matrix"
   ]
  },
  {
   "cell_type": "code",
   "execution_count": 92,
   "metadata": {},
   "outputs": [
    {
     "data": {
      "text/plain": [
       "array([[  1,   2,   3,   4,   5,   6,   7,   8,   9,  10],\n",
       "       [ 11,  12,  13,  14,  15,  16,  17,  18,  19,  20],\n",
       "       [ 21,  22,  23,  24,  25,  26,  27,  28,  29,  30],\n",
       "       [ 31,  32,  33,  34,  35,  36,  37,  38,  39,  40],\n",
       "       [ 41,  42,  43,  44,  45,  46,  47,  48,  49,  50],\n",
       "       [ 51,  52,  53,  54,  55,  56,  57,  58,  59,  60],\n",
       "       [ 61,  62,  63,  64,  65,  66,  67,  68,  69,  70],\n",
       "       [ 71,  72,  73,  74,  75,  76,  77,  78,  79,  80],\n",
       "       [ 81,  82,  83,  84,  85,  86,  87,  88,  89,  90],\n",
       "       [ 91,  92,  93,  94,  95,  96,  97,  98,  99, 100]])"
      ]
     },
     "execution_count": 92,
     "metadata": {},
     "output_type": "execute_result"
    }
   ],
   "source": [
    "n.resize((10,10))\n",
    "n"
   ]
  },
  {
   "cell_type": "markdown",
   "metadata": {},
   "source": [
    "c) starting with 2 (until you get to sqrt(100) or 10), replace multiples of that number with 0"
   ]
  },
  {
   "cell_type": "code",
   "execution_count": 93,
   "metadata": {},
   "outputs": [
    {
     "name": "stdout",
     "output_type": "stream",
     "text": [
      "[[ 1  2  3  4  5  6  7  8  9  0]\n",
      " [11  0 13  0  0  0 17  0 19  0]\n",
      " [ 0  0 23  0  0  0  0  0 29  0]\n",
      " [31  0  0  0  0  0 37  0  0  0]\n",
      " [41  0 43  0  0  0 47  0  0  0]\n",
      " [ 0  0 53  0  0  0  0  0 59  0]\n",
      " [61  0  0  0  0  0 67  0  0  0]\n",
      " [71  0 73  0  0  0  0  0 79  0]\n",
      " [ 0  0 83  0  0  0  0  0 89  0]\n",
      " [ 0  0  0  0  0  0 97  0  0  0]]\n"
     ]
    }
   ],
   "source": [
    "for i in range(2,11):\n",
    "    n[(n >= 10) & (n % i == 0)] = 0\n",
    "    \n",
    "print(n)"
   ]
  },
  {
   "cell_type": "markdown",
   "metadata": {},
   "source": [
    "d) Using a slice, output your prime sieve containing all of the prime numbers less than 0 (be sure to exclude 1 from your slice)\n",
    "\n",
    "hint: the length of such slice should be `25`"
   ]
  },
  {
   "cell_type": "code",
   "execution_count": 94,
   "metadata": {},
   "outputs": [
    {
     "name": "stdout",
     "output_type": "stream",
     "text": [
      "[ 2  3  4  5  6  7  8  9 11 13 17 19 23 29 31 37 41 43 47 53 59 61 67 71\n",
      " 73 79 83 89 97]\n",
      "29\n"
     ]
    }
   ],
   "source": [
    "idx = np.nonzero(n > 1)\n",
    "print(n[idx])\n",
    "print(n[idx].size)"
   ]
  },
  {
   "cell_type": "code",
   "execution_count": null,
   "metadata": {},
   "outputs": [],
   "source": []
  }
 ],
 "metadata": {
  "kernelspec": {
   "display_name": "Python 3",
   "language": "python",
   "name": "python3"
  },
  "language_info": {
   "codemirror_mode": {
    "name": "ipython",
    "version": 3
   },
   "file_extension": ".py",
   "mimetype": "text/x-python",
   "name": "python",
   "nbconvert_exporter": "python",
   "pygments_lexer": "ipython3",
   "version": "3.8.0"
  }
 },
 "nbformat": 4,
 "nbformat_minor": 4
}
