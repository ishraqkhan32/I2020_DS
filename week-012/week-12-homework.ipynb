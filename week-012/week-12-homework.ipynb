{
 "cells": [
  {
   "cell_type": "markdown",
   "metadata": {},
   "source": [
    "# Week 12 Homework\n",
    "\n",
    "Due Wednesday December 8th. \n",
    "\n",
    "Try to take this as a practice test with a 3 hour limit."
   ]
  },
  {
   "cell_type": "markdown",
   "metadata": {},
   "source": [
    "### Exercise 1\n",
    "\n",
    "Create a function that takes a list of strings and outputs a dictionary where the key is the string and the value is the length of the corresponding string."
   ]
  },
  {
   "cell_type": "code",
   "execution_count": 1,
   "metadata": {},
   "outputs": [
    {
     "name": "stdout",
     "output_type": "stream",
     "text": [
      "solution is correct\n"
     ]
    }
   ],
   "source": [
    "def ex1(lst):\n",
    "    return {string: len(string) for string in lst}\n",
    " \n",
    "try:\n",
    "    assert(ex1(['']) == {'': 0})\n",
    "    assert(ex1(['a']) == {'a': 1})\n",
    "    assert(ex1(['hello', 'world']) == {'hello': 5, 'world': 5})\n",
    "    assert(ex1(['python', 'data', 'science']) == {'python': 6, 'data': 4, 'science': 7})\n",
    "    assert(ex1(['a']) == {'a': 1})\n",
    "    print(\"solution is correct\")\n",
    "except:\n",
    "    print(\"solution is incorrect\")"
   ]
  },
  {
   "cell_type": "markdown",
   "metadata": {},
   "source": [
    "### Exercise 2\n",
    "\n",
    "Create a function that outputs all the even numbers under 500 that are also divisible by 9."
   ]
  },
  {
   "cell_type": "code",
   "execution_count": 3,
   "metadata": {},
   "outputs": [
    {
     "name": "stdout",
     "output_type": "stream",
     "text": [
      "solution is correct\n"
     ]
    }
   ],
   "source": [
    "def ex2():\n",
    "    return [x for x in range(500) if not x % 18]\n",
    "\n",
    "try:\n",
    "    assert(ex2() == [0,18,36,54,72,90,108,126,144,162,180,198,216,234,252,270,288,306,324,342,360,378,396,414,432,450,468,486])\n",
    "    print(\"solution is correct\")\n",
    "except:\n",
    "    print(\"solution is incorrect\")"
   ]
  },
  {
   "cell_type": "markdown",
   "metadata": {},
   "source": [
    "### Exercise 3\n",
    "\n",
    "Create a class that implements a linked list."
   ]
  },
  {
   "cell_type": "code",
   "execution_count": 12,
   "metadata": {},
   "outputs": [],
   "source": [
    "class Node:\n",
    "    def __init__(self, data, link=None):\n",
    "        self.data = data\n",
    "        self.next = link\n",
    "    \n",
    "    def __repr__(self):\n",
    "        return f\"Node ({self.data})\"\n",
    "\n",
    "class LinkedList:\n",
    "    def __init__(self, node):\n",
    "        self.head = node\n",
    "        self.tail = node\n",
    "        self.count = 1 if node else 0\n",
    "        \n",
    "    def append(self, data):\n",
    "        new_node = Node(data)\n",
    "        \n",
    "        # if empty list\n",
    "        if not self.count:\n",
    "            self.head = new_node\n",
    "            self.tail = new_node\n",
    "        # if non-empty list\n",
    "        else:\n",
    "            self.tail.next = new_node\n",
    "            self.tail = new_node\n",
    "        \n",
    "        self.count += 1\n",
    "        \n",
    "    def print_list(self):\n",
    "        curr = self.head\n",
    "        while curr:\n",
    "            print(curr)\n",
    "            curr = curr.next\n",
    "\n",
    "    # in-place\n",
    "    def reverse(self):\n",
    "        if self.count:\n",
    "            \n",
    "            self.tail = Node(self.head.data, None)\n",
    "            prev = self.tail\n",
    "            curr = self.head.next\n",
    "            \n",
    "            while curr:\n",
    "                temp = Node(curr.data, prev)\n",
    "                prev = temp\n",
    "                curr = curr.next\n",
    "            \n",
    "            self.head = prev\n",
    "        return \n",
    "        \n",
    "    def __repr__(self):\n",
    "        return f\"Linked List starting with {self.head}\""
   ]
  },
  {
   "cell_type": "code",
   "execution_count": 14,
   "metadata": {},
   "outputs": [
    {
     "name": "stdout",
     "output_type": "stream",
     "text": [
      "Node (5)\n",
      "Node (10)\n",
      "Node (15)\n"
     ]
    }
   ],
   "source": [
    "node = Node(5)\n",
    "myLL = LinkedList(node)\n",
    "myLL.append(10)\n",
    "myLL.append(15)\n",
    "myLL.print_list()"
   ]
  },
  {
   "cell_type": "code",
   "execution_count": 15,
   "metadata": {},
   "outputs": [
    {
     "name": "stdout",
     "output_type": "stream",
     "text": [
      "Node (15)\n",
      "Node (10)\n",
      "Node (5)\n"
     ]
    }
   ],
   "source": [
    "myLL.reverse()\n",
    "myLL.print_list()"
   ]
  },
  {
   "cell_type": "markdown",
   "metadata": {},
   "source": [
    "### Exercise 4\n",
    "\n",
    "Given the following two sets, assign to variable `m` the numbers that are contained by both sets (the numbers that are in both s and t)."
   ]
  },
  {
   "cell_type": "code",
   "execution_count": 16,
   "metadata": {},
   "outputs": [
    {
     "name": "stdout",
     "output_type": "stream",
     "text": [
      "solution is correct\n"
     ]
    }
   ],
   "source": [
    "s = {0,2,4,6,8,10}\n",
    "t = {0,1,3,5,7,9}\n",
    "\n",
    "m = s.intersection(t)\n",
    "\n",
    "try:\n",
    "    assert(m == {0})\n",
    "    print(\"solution is correct\")\n",
    "except:\n",
    "    print(\"solution is incorrect\")"
   ]
  },
  {
   "cell_type": "markdown",
   "metadata": {},
   "source": [
    "### Exercise 5\n",
    "\n",
    "Fix the following class definition so that the code runs without error. (Only change the class definition)."
   ]
  },
  {
   "cell_type": "code",
   "execution_count": 17,
   "metadata": {},
   "outputs": [
    {
     "name": "stdout",
     "output_type": "stream",
     "text": [
      "solution is correct\n"
     ]
    }
   ],
   "source": [
    "class Exercise5:\n",
    "    def __init__(self, num, lname, fname):\n",
    "        self.num = num\n",
    "        self.last_name = lname\n",
    "        self.first_name = fname\n",
    "        \n",
    "    @property\n",
    "    def get_attrs(self):\n",
    "        return [self.num, self.last_name, self.first_name]\n",
    "    \n",
    "instance = Exercise5('46', 'Biden', 'Joe')\n",
    "\n",
    "try:\n",
    "    assert(instance.get_attrs == ['46', 'Biden', 'Joe'])\n",
    "    print(\"solution is correct\")\n",
    "except:\n",
    "    print(\"solution is incorrect\")"
   ]
  },
  {
   "cell_type": "markdown",
   "metadata": {},
   "source": [
    "### Exercise 6\n",
    "\n",
    "Create a class called `Time` that takes two arguments (`hours` and `minutes`) and sets them as instance attributes. Then create a function that overloads the addition and equality operators so you can add the times together and then check if two instances are equal in time."
   ]
  },
  {
   "cell_type": "code",
   "execution_count": 43,
   "metadata": {},
   "outputs": [
    {
     "name": "stdout",
     "output_type": "stream",
     "text": [
      "solution is correct\n"
     ]
    }
   ],
   "source": [
    "class Time:\n",
    "    def __init__(self, hours, minutes):\n",
    "        self.hours = hours\n",
    "        self.minutes = minutes\n",
    "        self.total_time = hours * 60 + minutes\n",
    "        \n",
    "    def __add__(self, other):\n",
    "        added_time = self.total_time + other.total_time\n",
    "        return Time(added_time / 60, added_time % 60)\n",
    "\n",
    "    def __eq__(self, other):\n",
    "        return self.total_time == other.total_time\n",
    "    \n",
    "time1 = Time(0, 30)\n",
    "time2 = Time(1, 30)\n",
    "time3 = Time(2, 0)\n",
    "\n",
    "try:\n",
    "    assert(time1 + time2 == time3)\n",
    "    print(\"solution is correct\")\n",
    "except:\n",
    "    print(\"solution is incorrect\")"
   ]
  },
  {
   "cell_type": "markdown",
   "metadata": {},
   "source": [
    "### Exercise 7\n",
    "\n",
    "Create a function that creates an `m` by `n` matrix (`m` rows and `n` columns) filled with zeros."
   ]
  },
  {
   "cell_type": "code",
   "execution_count": 47,
   "metadata": {},
   "outputs": [
    {
     "name": "stdout",
     "output_type": "stream",
     "text": [
      "solution is correct\n"
     ]
    }
   ],
   "source": [
    "# def ex7(m,n):\n",
    "#     matrix = []\n",
    "#     for i in range(m):\n",
    "#         row = []\n",
    "#         for j in range(n):\n",
    "#             row.append(0)\n",
    "#         matrix.append(row)\n",
    "#     return matrix\n",
    "\n",
    "def ex7(m,n):\n",
    "    return [[0 for i in range(n)] for j in range(m)]\n",
    "\n",
    "try:\n",
    "    assert(ex7(0,0) == [])\n",
    "    assert(ex7(1,1) == [[0]])\n",
    "    assert(ex7(2,2) == [[0,0],[0,0]])\n",
    "    assert(ex7(3,5) == [[0, 0, 0, 0, 0], [0, 0, 0, 0, 0], [0, 0, 0, 0, 0]])\n",
    "    print(\"solution is correct\")\n",
    "except:\n",
    "    print(\"solution is incorrect\")"
   ]
  },
  {
   "cell_type": "markdown",
   "metadata": {},
   "source": [
    "### Exercise 8\n",
    "\n",
    "Create a function that takes an arbitrary number of integer arguments and sums them."
   ]
  },
  {
   "cell_type": "code",
   "execution_count": 51,
   "metadata": {},
   "outputs": [
    {
     "name": "stdout",
     "output_type": "stream",
     "text": [
      "solution is correct\n"
     ]
    }
   ],
   "source": [
    "# def ex8(*args):\n",
    "#     running_sum = 0\n",
    "#     for arg in args:\n",
    "#         running_sum += arg\n",
    "#     return running_sum\n",
    "        \n",
    "def ex8(*args):\n",
    "    return sum(args)\n",
    "\n",
    "try:\n",
    "    assert(ex8(3,5,7) == 15)\n",
    "    assert(ex8(2,4) == 6)\n",
    "    assert(ex8(*range(10)) == 45)\n",
    "    print(\"solution is correct\")\n",
    "except:\n",
    "    print(\"solution is incorrect\")"
   ]
  },
  {
   "cell_type": "markdown",
   "metadata": {},
   "source": [
    "### Exercise 9\n",
    "\n",
    "Create a decorator function that wraps the following function so that the string returned has anchor tags (e.g `<a>hello world</a>`)"
   ]
  },
  {
   "cell_type": "code",
   "execution_count": 59,
   "metadata": {},
   "outputs": [
    {
     "name": "stdout",
     "output_type": "stream",
     "text": [
      "solution is correct\n"
     ]
    }
   ],
   "source": [
    "def decorator(func):\n",
    "    def wrapper():\n",
    "        return f\"<a>{func()}</a>\"\n",
    "    return wrapper\n",
    "\n",
    "@decorator\n",
    "def func():\n",
    "    return \"hello world\"\n",
    "\n",
    "try:\n",
    "    assert(func() == '<a>hello world</a>')\n",
    "    print(\"solution is correct\")\n",
    "except:\n",
    "    print(\"solution is incorrect\")"
   ]
  },
  {
   "cell_type": "markdown",
   "metadata": {},
   "source": [
    "### Exercise 10\n",
    "\n",
    "Using list comprehension, create a list with two for loops that generate the following output:\n",
    "\n",
    "[('0', '0'), ('0', '1'), ('1', '0'), ('1', '1')]"
   ]
  },
  {
   "cell_type": "code",
   "execution_count": 61,
   "metadata": {},
   "outputs": [
    {
     "name": "stdout",
     "output_type": "stream",
     "text": [
      "solution is correct\n"
     ]
    }
   ],
   "source": [
    "l = [(str(i),str(j)) for i in range(2) for j in range(2)]\n",
    "try:\n",
    "    assert(l == [('0', '0'), ('0', '1'), ('1', '0'), ('1', '1')])\n",
    "    print(\"solution is correct\")\n",
    "except:\n",
    "    print(\"solution is incorrect\")"
   ]
  },
  {
   "cell_type": "markdown",
   "metadata": {},
   "source": [
    "### Exercise 11\n",
    "\n",
    "Create a dictionary comprehension that generates the following dictionary:\n",
    "```\n",
    "{'a': ['*'], 'b': ['*'], 'c': ['*']}\n",
    "```"
   ]
  },
  {
   "cell_type": "code",
   "execution_count": 62,
   "metadata": {},
   "outputs": [
    {
     "name": "stdout",
     "output_type": "stream",
     "text": [
      "solution is correct\n"
     ]
    }
   ],
   "source": [
    "d = {letter: ['*'] for letter in ['a', 'b', 'c']}\n",
    "\n",
    "try:\n",
    "    assert(d == {'a': ['*'], 'b': ['*'], 'c': ['*']})\n",
    "    print(\"solution is correct\")\n",
    "except:\n",
    "    print(\"solution is incorrect\")"
   ]
  },
  {
   "cell_type": "markdown",
   "metadata": {},
   "source": [
    "### Exercise 12\n",
    "\n",
    "Create a lambda expression that takes `a` and `b` and computes `c`: \n",
    "\n",
    "$$ a^2 + b^2 = c^2 $$"
   ]
  },
  {
   "cell_type": "code",
   "execution_count": 66,
   "metadata": {},
   "outputs": [
    {
     "name": "stdout",
     "output_type": "stream",
     "text": [
      "solution is correct\n"
     ]
    }
   ],
   "source": [
    "from math import sqrt\n",
    "f = lambda a,b: sqrt(a**2 + b**2)\n",
    "\n",
    "try:\n",
    "    assert(f(3,4) == 5.0)\n",
    "    assert(f(5,12) == 13.0)\n",
    "    print(\"solution is correct\")\n",
    "except:\n",
    "    print(\"solution is incorrect\")"
   ]
  },
  {
   "cell_type": "markdown",
   "metadata": {},
   "source": [
    "### Exercise 13\n",
    "\n",
    "Create a generator function that yields one even number at a time."
   ]
  },
  {
   "cell_type": "code",
   "execution_count": 70,
   "metadata": {},
   "outputs": [
    {
     "name": "stdout",
     "output_type": "stream",
     "text": [
      "[0, 2, 4, 6, 8, 10]\n"
     ]
    }
   ],
   "source": [
    "# generator function that returns even number up to n\n",
    "def evens(n):\n",
    "    num = 0\n",
    "    while num <= n:\n",
    "        if not num % 2:\n",
    "            yield num\n",
    "        num += 2\n",
    "        \n",
    "\n",
    "print(list(evens(10)))"
   ]
  },
  {
   "cell_type": "markdown",
   "metadata": {},
   "source": [
    "### Exercise 14\n",
    "\n",
    "Write a function that recursively calculates the following if `n` is greater than 0. If `n` is less than 0, return 0.5.\n",
    "\n",
    "$$ n = (n-1) + (n-1)$$"
   ]
  },
  {
   "cell_type": "code",
   "execution_count": 74,
   "metadata": {},
   "outputs": [
    {
     "name": "stdout",
     "output_type": "stream",
     "text": [
      "solution is correct\n"
     ]
    }
   ],
   "source": [
    "def ex14(n):\n",
    "    if n < 0:\n",
    "        return 0.5\n",
    "    else:\n",
    "        return ex14(n-1) + ex14(n-1)\n",
    "    pass\n",
    "\n",
    "try:\n",
    "    assert(ex14(1) == 2**1)\n",
    "    assert(ex14(2) == 2**2) \n",
    "    assert(ex14(3) == 2**3) \n",
    "    assert(ex14(4) == 2**4) \n",
    "    assert(ex14(10) == 2**10) \n",
    "    print(\"solution is correct\")\n",
    "except:\n",
    "    print(\"solution is incorrect\")"
   ]
  },
  {
   "cell_type": "markdown",
   "metadata": {},
   "source": [
    "#### Exercise 15\n",
    "\n",
    "Write a function that sends a get request to a url and returns the headers. Use the following url to test.\n",
    "\n",
    "https://www.httpbin.org"
   ]
  },
  {
   "cell_type": "code",
   "execution_count": 80,
   "metadata": {},
   "outputs": [
    {
     "data": {
      "text/plain": [
       "{'Date': 'Tue, 08 Dec 2020 22:27:22 GMT',\n",
       " 'Content-Type': 'text/html; charset=utf-8',\n",
       " 'Content-Length': '9593',\n",
       " 'Connection': 'keep-alive',\n",
       " 'Server': 'gunicorn/19.9.0',\n",
       " 'Access-Control-Allow-Origin': '*',\n",
       " 'Access-Control-Allow-Credentials': 'true'}"
      ]
     },
     "execution_count": 80,
     "metadata": {},
     "output_type": "execute_result"
    }
   ],
   "source": [
    "import requests\n",
    "\n",
    "def get_headers(url):\n",
    "    r = requests.get(url)\n",
    "    return {key:value for key,value in r.headers.items()}\n",
    "\n",
    "get_headers(\"https://www.httpbin.org\")"
   ]
  },
  {
   "cell_type": "markdown",
   "metadata": {},
   "source": [
    "### Exercise 16\n",
    "\n",
    "Write a ternary operator that sets the variable `s` to an input if the length of the input is greater than 25 characters, otherwise set `s` to `None`"
   ]
  },
  {
   "cell_type": "code",
   "execution_count": 82,
   "metadata": {},
   "outputs": [
    {
     "name": "stdout",
     "output_type": "stream",
     "text": [
      "use this inputabcdefghijklmnopqrstuvwxy\n",
      "None\n"
     ]
    }
   ],
   "source": [
    "m = input(\"use this input\")\n",
    "\n",
    "s = m if len(m) > 25 else None\n",
    "\n",
    "print(s)"
   ]
  },
  {
   "cell_type": "markdown",
   "metadata": {},
   "source": [
    "### Exercise 17\n",
    "\n",
    "Using the json library, output the value of the key `menuitem`."
   ]
  },
  {
   "cell_type": "code",
   "execution_count": 83,
   "metadata": {},
   "outputs": [
    {
     "data": {
      "text/plain": [
       "[{'value': 'New', 'onclick': 'CreateNewDoc()'},\n",
       " {'value': 'Open', 'onclick': 'OpenDoc()'},\n",
       " {'value': 'Close', 'onclick': 'CloseDoc()'}]"
      ]
     },
     "execution_count": 83,
     "metadata": {},
     "output_type": "execute_result"
    }
   ],
   "source": [
    "import json\n",
    "\n",
    "s = \"\"\"{\"menu\": {\n",
    "  \"id\": \"file\",\n",
    "  \"value\": \"File\",\n",
    "  \"popup\": {\n",
    "    \"menuitem\": [\n",
    "      {\"value\": \"New\", \"onclick\": \"CreateNewDoc()\"},\n",
    "      {\"value\": \"Open\", \"onclick\": \"OpenDoc()\"},\n",
    "      {\"value\": \"Close\", \"onclick\": \"CloseDoc()\"}\n",
    "    ]\n",
    "  }\n",
    "}}\"\"\"\n",
    "\n",
    "data = json.loads(s)\n",
    "data['menu']['popup']['menuitem']"
   ]
  },
  {
   "cell_type": "markdown",
   "metadata": {},
   "source": [
    "### Exercise 18\n",
    "\n",
    "Using a slice, output the even numbers backwards"
   ]
  },
  {
   "cell_type": "code",
   "execution_count": 90,
   "metadata": {},
   "outputs": [
    {
     "name": "stdout",
     "output_type": "stream",
     "text": [
      "[10, 8, 6, 4, 2]\n",
      "solution is correct\n"
     ]
    }
   ],
   "source": [
    "s = [1,2,3,4,5,6,7,8,9,10]\n",
    "\n",
    "s = s[::-2]\n",
    "print(s)\n",
    "try:\n",
    "    assert(s == [10, 8, 6, 4, 2])\n",
    "    print(\"solution is correct\")\n",
    "except:\n",
    "    print(\"solution is incorrect\")"
   ]
  },
  {
   "cell_type": "markdown",
   "metadata": {},
   "source": [
    "### Exercise 19\n",
    "\n",
    "Create a class called `Square` that inherits from `Shape` and overrides the area method."
   ]
  },
  {
   "cell_type": "code",
   "execution_count": 94,
   "metadata": {},
   "outputs": [
    {
     "name": "stdout",
     "output_type": "stream",
     "text": [
      "None\n",
      "36\n"
     ]
    }
   ],
   "source": [
    "class Shape:\n",
    "    def __init__(self, color):\n",
    "        self.color = color\n",
    "        \n",
    "    def area(self):\n",
    "        pass\n",
    "    \n",
    "class Square(Shape):\n",
    "    def __init__(self, color, side):\n",
    "        super().__init__(color)\n",
    "        self.side = side\n",
    "\n",
    "    def area(self):\n",
    "        return self.side ** 2\n",
    "\n",
    "\n",
    "shape = Shape('blue')\n",
    "print(shape.area())\n",
    "sq = Square('green', 6)\n",
    "print(sq.area())"
   ]
  },
  {
   "cell_type": "markdown",
   "metadata": {},
   "source": [
    "### Exercise 20\n",
    "\n",
    "Create a function that at worst executes in linear time."
   ]
  },
  {
   "cell_type": "code",
   "execution_count": 97,
   "metadata": {},
   "outputs": [
    {
     "name": "stdout",
     "output_type": "stream",
     "text": [
      "3\n",
      "None\n"
     ]
    }
   ],
   "source": [
    "# function checks lst for elem_to_find and returns index of element\n",
    "# if not found, return None\n",
    "def find_element(lst, elem_to_find):\n",
    "    for index, element in enumerate(lst):\n",
    "        if elem_to_find == element:\n",
    "            return index\n",
    "    return None\n",
    "\n",
    "print(find_element([1,2,3,4,5], 4))\n",
    "print(find_element([1,2,3,4,5], 6))"
   ]
  },
  {
   "cell_type": "markdown",
   "metadata": {},
   "source": [
    "### Topics for final assessment:\n",
    "\n",
    "### Data Types\n",
    "* Strings\n",
    "* Ints\n",
    "* Floats\n",
    "* Bools\n",
    "\n",
    "### Python Collection Data Structures\n",
    "* Lists \n",
    "* Tuples\n",
    "* Sets\n",
    "* Dictionaries\n",
    "\n",
    "Related topics:\n",
    "* related methods (string, list, dict, set)\n",
    "* built in methods (`abs`, `all`, `any`, `dir`, `format`, `input`, `getattr`, `len`, `max`, `min`, `ord`, `pow`, `print`, `range`, `reversed`, `round`, `setattr`, `sum`, `type`)\n",
    "* indexing/slicing\n",
    "* casting (`bool`, `int`, `str`, `float`, `dict`, `set`)\n",
    "* comprehensions\n",
    "* mutability\n",
    "* arithmetic operators (`+`, `-`, `*`, `/`, `//`, `%`,`**`)\n",
    "* assignment operators (`=`, `+=`, `-=`, `/=`, `//=`, etc.)\n",
    "* comparison operator (`==`, `!=`, `>`, `<`, `>=`, `<=`)\n",
    "* identity operators (`is`, `is not`)\n",
    "* membership operators (`in`, `not in`)\n",
    "\n",
    "### Control Flow/Structures\n",
    "* `if`/`elif`/`else`\n",
    "* `for`\n",
    "* `while`\n",
    "* `with`\n",
    "* `try`/`except`\n",
    "* `pass`/`break`/`continue`\n",
    "* `finally`\n",
    "\n",
    "Related topics:\n",
    "* conditional statements\n",
    "* logical operators (`and`/`or`/`not`)\n",
    "* nested conditionals/loops\n",
    "* boolean values of objects\n",
    "* ternary operators\n",
    "\n",
    "### Functions\n",
    "* function definition/declaration\n",
    "* scope of variables inside functions\n",
    "* positional arguments\n",
    "* keyword arguments\n",
    "* arbitrary arguments (positional and keyword)\n",
    "* unpacking arguments (`*` and `**`)\n",
    "* lambda functions\n",
    "* currying functions\n",
    "* decorator functions\n",
    "* recursion\n",
    "* iterators/generators (`yield`, `next`, `iter`)\n",
    "* functional programming built ins (`map`, `filter`, `zip`)\n",
    "\n",
    "### Classes\n",
    "* class definition\n",
    "* class objects\n",
    "* instance objects\n",
    "* class/instance attributes\n",
    "* class methods\n",
    "* inheritance\n",
    "* multiple inheritance\n",
    "* operator overloading\n",
    "* decorators (`classmethod`, `staticmethod`, `property`)\n",
    "\n",
    "### Modules\n",
    "* modules\n",
    "* packages\n",
    "* importing\n",
    "* scripts\n",
    "\n",
    "### Algorithms and Data Structures\n",
    "* sorting algorithms (no code)\n",
    "* queues\n",
    "* stacks\n",
    "* linked lists\n",
    "* Big O Notation\n",
    "\n",
    "### Other Topics:\n",
    "* errors (handling with `try`/`except` and raising with `raise`\n",
    "* reading and writing files (`with` statement)\n",
    "* file formats (json and csv)\n",
    "* sending web requests (`requests`)\n",
    "* parsing html (`BeautifulSoup`)\n",
    "* crawling/scraping\n",
    "* web requests (`GET`, `POST`, `PUT`, `DELETE`)\n",
    "* CRUD (create, read, update, delete\n",
    "* SQL (tables, columns, rows)\n",
    "* git (adding files, committing, pushing)"
   ]
  },
  {
   "cell_type": "code",
   "execution_count": null,
   "metadata": {},
   "outputs": [],
   "source": []
  }
 ],
 "metadata": {
  "kernelspec": {
   "display_name": "Python 3",
   "language": "python",
   "name": "python3"
  },
  "language_info": {
   "codemirror_mode": {
    "name": "ipython",
    "version": 3
   },
   "file_extension": ".py",
   "mimetype": "text/x-python",
   "name": "python",
   "nbconvert_exporter": "python",
   "pygments_lexer": "ipython3",
   "version": "3.8.0"
  }
 },
 "nbformat": 4,
 "nbformat_minor": 4
}
