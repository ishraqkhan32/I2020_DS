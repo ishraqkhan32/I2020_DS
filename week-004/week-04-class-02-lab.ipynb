{
 "cells": [
  {
   "cell_type": "markdown",
   "metadata": {},
   "source": [
    "<div style=\"background: #000;\n",
    "            color: #FFF;\n",
    "            margin: 0px;\n",
    "                padding: 10px 0px 20px 0px;\n",
    "            text-align: center; \n",
    "                \">\n",
    "    <h1>Week 4 - Class 2 - Lab</h1>\n",
    "</div>\n"
   ]
  },
  {
   "cell_type": "markdown",
   "metadata": {},
   "source": [
    "# Question 1\n",
    "\n",
    "What's a situation where you might need to use curried functions? Write the pseudocode of the steps needed when using it."
   ]
  },
  {
   "cell_type": "markdown",
   "metadata": {},
   "source": [
    "A situation when you might need to use curried functions is when you want to minimize the possibility of user error when entering arguments into a function. One example is creating a unary adder function. The user only needs to give the number they want to add a specific value to. "
   ]
  },
  {
   "cell_type": "code",
   "execution_count": 1,
   "metadata": {},
   "outputs": [],
   "source": [
    "# Pseudocode:\n",
    "# def general_adder(n):\n",
    "#    return n_adder (defined below)\n",
    "    \n",
    "# def n_adder(x):\n",
    "#    return n + x"
   ]
  },
  {
   "cell_type": "markdown",
   "metadata": {},
   "source": [
    "usage: general_adder(3)(4) which would return 7 because it first creates a function that adds 3 to any argument and then applies that function to 4, returning 7."
   ]
  },
  {
   "cell_type": "markdown",
   "metadata": {},
   "source": [
    "# Exercise 1\n",
    "\n",
    "Create a lambda function that takes two arguments and returns an output using the two. \n",
    "\n",
    "Show the function being called with the correct arguments."
   ]
  },
  {
   "cell_type": "code",
   "execution_count": 2,
   "metadata": {},
   "outputs": [
    {
     "data": {
      "text/plain": [
       "4"
      ]
     },
     "execution_count": 2,
     "metadata": {},
     "output_type": "execute_result"
    }
   ],
   "source": [
    "lambda_adder = lambda a, b: a+b\n",
    "lambda_adder(1,3)"
   ]
  },
  {
   "cell_type": "markdown",
   "metadata": {},
   "source": [
    "# Exercise 2\n",
    "\n",
    "Given the two functions, create a function that curries the two. Show the function being called."
   ]
  },
  {
   "cell_type": "code",
   "execution_count": 4,
   "metadata": {},
   "outputs": [],
   "source": [
    "# f(x)\n",
    "def upper(string):\n",
    "    if type(string) == str:\n",
    "        return string.upper()\n",
    "\n",
    "# g(x)\n",
    "def lower(string):\n",
    "    if type(string) == str:\n",
    "        return string.lower()"
   ]
  },
  {
   "cell_type": "code",
   "execution_count": 5,
   "metadata": {},
   "outputs": [
    {
     "name": "stdout",
     "output_type": "stream",
     "text": [
      "ABCD\n",
      "ABCD\n",
      "ABCD\n"
     ]
    }
   ],
   "source": [
    "# h(x)\n",
    "def lower_then_upper(string):\n",
    "    return upper(lower(string))\n",
    "\n",
    "print(lower_then_upper('aBcD'))\n",
    "print(lower_then_upper('ABCD'))\n",
    "print(lower_then_upper('abcd'))"
   ]
  },
  {
   "cell_type": "markdown",
   "metadata": {},
   "source": [
    "# Exercise 3\n",
    "\n",
    "Using recursion, create a function that finds the factorial of a number. Use the following formula. \n",
    "$$ n! = n * (n-1)! $$\n"
   ]
  },
  {
   "cell_type": "code",
   "execution_count": 8,
   "metadata": {},
   "outputs": [],
   "source": [
    "def fact(n):\n",
    "    if n == 1:\n",
    "        return 1\n",
    "    else:\n",
    "        return n * fact(n-1)"
   ]
  },
  {
   "cell_type": "code",
   "execution_count": 11,
   "metadata": {},
   "outputs": [
    {
     "data": {
      "text/plain": [
       "24"
      ]
     },
     "execution_count": 11,
     "metadata": {},
     "output_type": "execute_result"
    }
   ],
   "source": [
    "fact(4)"
   ]
  },
  {
   "cell_type": "markdown",
   "metadata": {},
   "source": [
    "# Bonus: \n",
    "\n",
    "Create your own example of a decorator function. "
   ]
  },
  {
   "cell_type": "code",
   "execution_count": 16,
   "metadata": {},
   "outputs": [
    {
     "name": "stdout",
     "output_type": "stream",
     "text": [
      "Please enter first name.Ishraq\n",
      "Please enter last name.Khan\n",
      "<h>Ishraq Khan</h>\n"
     ]
    }
   ],
   "source": [
    "def make_header_html(func):\n",
    "    def wrapper():\n",
    "        new_str = \"<h>\" + func() + \"</h>\"\n",
    "        print(new_str)\n",
    "    return wrapper\n",
    "\n",
    "@make_header_html\n",
    "def get_name():\n",
    "    first_name = input(\"Please enter first name.\")\n",
    "    last_name = input(\"Please enter last name.\")\n",
    "    return first_name + ' ' + last_name\n",
    "\n",
    "get_name()"
   ]
  },
  {
   "cell_type": "code",
   "execution_count": null,
   "metadata": {},
   "outputs": [],
   "source": []
  }
 ],
 "metadata": {
  "kernelspec": {
   "display_name": "Python 3",
   "language": "python",
   "name": "python3"
  },
  "language_info": {
   "codemirror_mode": {
    "name": "ipython",
    "version": 3
   },
   "file_extension": ".py",
   "mimetype": "text/x-python",
   "name": "python",
   "nbconvert_exporter": "python",
   "pygments_lexer": "ipython3",
   "version": "3.8.0"
  }
 },
 "nbformat": 4,
 "nbformat_minor": 4
}
