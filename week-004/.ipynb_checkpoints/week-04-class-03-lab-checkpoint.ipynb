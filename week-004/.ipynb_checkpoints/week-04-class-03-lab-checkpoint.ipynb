{
 "cells": [
  {
   "cell_type": "markdown",
   "metadata": {},
   "source": [
    "<div style=\"background: #000;\n",
    "            color: #FFF;\n",
    "            margin: 0px;\n",
    "                padding: 10px 0px 20px 0px;\n",
    "            text-align: center; \n",
    "                \">\n",
    "    <h1>Week 4 - Class 3 - Lab</h1>\n",
    "</div>\n"
   ]
  },
  {
   "cell_type": "markdown",
   "metadata": {},
   "source": [
    "# Question 1:\n",
    "\n",
    "What are the improvements of Dynamic Programming over recursion? How could we improve the factorial function we had to create for yesterday's lab? \n",
    "\n",
    "(Pseudocode is fine, no need to rewrite the function in python)"
   ]
  },
  {
   "cell_type": "markdown",
   "metadata": {},
   "source": [
    "The improvements of dynamic programming over recursion are that you don't need to repeat recursive calls for inputs that you have already run once before. Dynamic programming allows you to cache those values to reduce the space and time complexity significantly.\n",
    "\n",
    "To improve the factorial function, I would add a cache dictionary and save the value of each factorial starting with 0:1, and 1:1 as the defaults. Any calls to factorial after that would first check the cache dictionary to see if the value exists (so it doesn't have to call factorial for all the values before that). If it doesn't exist, then it would evaluate by multiplying the current value with the recursive call on the current value minus 1. "
   ]
  },
  {
   "cell_type": "markdown",
   "metadata": {},
   "source": [
    "# Exercise 2:\n",
    "\n",
    "Write a function that executes in constant time."
   ]
  },
  {
   "cell_type": "code",
   "execution_count": 2,
   "metadata": {},
   "outputs": [
    {
     "data": {
      "text/plain": [
       "5"
      ]
     },
     "execution_count": 2,
     "metadata": {},
     "output_type": "execute_result"
    }
   ],
   "source": [
    "def last_of_list(lst):\n",
    "    return lst[len(lst)-1]\n",
    "\n",
    "last_of_list([1,2,3,4,5])"
   ]
  },
  {
   "cell_type": "markdown",
   "metadata": {},
   "source": [
    "# Exercise 3:\n",
    "\n",
    "Write a function that executes in linear time."
   ]
  },
  {
   "cell_type": "code",
   "execution_count": 3,
   "metadata": {},
   "outputs": [
    {
     "name": "stdout",
     "output_type": "stream",
     "text": [
      "Value found in list!\n",
      "Value not found in list.\n"
     ]
    }
   ],
   "source": [
    "def containsValue(lst, value):\n",
    "    for n in lst:\n",
    "        if n == value:\n",
    "            print('Value found in list!')\n",
    "            return\n",
    "    print('Value not found in list.')\n",
    "    return\n",
    "    \n",
    "containsValue([1,2,3,4,5], 3)"
   ]
  },
  {
   "cell_type": "markdown",
   "metadata": {},
   "source": [
    "# Exercise 4:\n",
    "\n",
    "Rewrite this code so that it is more efficient."
   ]
  },
  {
   "cell_type": "code",
   "execution_count": 20,
   "metadata": {},
   "outputs": [
    {
     "data": {
      "text/plain": [
       "[0, 6, 12, 18, 24, 30, 36, 42, 48, 54, 60, 66, 72, 78, 84, 90, 96]"
      ]
     },
     "execution_count": 20,
     "metadata": {},
     "output_type": "execute_result"
    }
   ],
   "source": [
    "lst = [i for i in range(100)]\n",
    "\n",
    "def divisible_by_6(lst):\n",
    "    new_list = []\n",
    "    for i in lst:\n",
    "        if i % 2 == 0:\n",
    "            new_list.append(i)\n",
    "    final_list = []\n",
    "    for j in new_list:\n",
    "        if j % 3 == 0:\n",
    "            final_list.append(j)\n",
    "    return final_list\n",
    "\n",
    "divisible_by_6(lst)\n",
    "            "
   ]
  },
  {
   "cell_type": "code",
   "execution_count": null,
   "metadata": {},
   "outputs": [],
   "source": []
  }
 ],
 "metadata": {
  "kernelspec": {
   "display_name": "Python 3",
   "language": "python",
   "name": "python3"
  },
  "language_info": {
   "codemirror_mode": {
    "name": "ipython",
    "version": 3
   },
   "file_extension": ".py",
   "mimetype": "text/x-python",
   "name": "python",
   "nbconvert_exporter": "python",
   "pygments_lexer": "ipython3",
   "version": "3.8.0"
  }
 },
 "nbformat": 4,
 "nbformat_minor": 4
}
