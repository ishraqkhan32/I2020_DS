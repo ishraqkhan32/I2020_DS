{
 "cells": [
  {
   "cell_type": "markdown",
   "metadata": {},
   "source": [
    "<div style=\"background: #000;\n",
    "            color: #FFF;\n",
    "            margin: 0px;\n",
    "                padding: 10px 0px 20px 0px;\n",
    "            text-align: center; \n",
    "                \">\n",
    "    <h1>Lab</h1>\n",
    "</div>\n"
   ]
  },
  {
   "cell_type": "markdown",
   "metadata": {},
   "source": [
    "# Question 1 \n",
    "\n",
    "We'd like to create a function that takes a number and outputs the number with it's ordinal indictator (e.g. 1 -> 1st, 2 -> 2nd, and so on).\n",
    "\n",
    "Walk us through the steps we might need to take. DO NOT write any code. Try writing what we call \"pseudocode\"."
   ]
  },
  {
   "cell_type": "markdown",
   "metadata": {},
   "source": [
    "First we'd define the function and have on argument that is the number we want to convert to an ordinal indicator. Then we'd have to specify how to handle the special cases (1st, 2nd, 3rd) and then how to handle all other cases (4th, 5th,...)."
   ]
  },
  {
   "cell_type": "code",
   "execution_count": 1,
   "metadata": {},
   "outputs": [],
   "source": [
    "# def ordinal_indicator(n):\n",
    "#    if 1: return '1st'\n",
    "#    if 2: return '2nd'\n",
    "#    if 3: return '3rd'\n",
    "#    else: return n + 'th'"
   ]
  },
  {
   "cell_type": "markdown",
   "metadata": {},
   "source": [
    "# Exercise 1\n",
    "\n",
    "Create a function that takes two parameters and returns a list."
   ]
  },
  {
   "cell_type": "code",
   "execution_count": 2,
   "metadata": {},
   "outputs": [
    {
     "data": {
      "text/plain": [
       "[1, 2]"
      ]
     },
     "execution_count": 2,
     "metadata": {},
     "output_type": "execute_result"
    }
   ],
   "source": [
    "def func(a,b):\n",
    "    return [a,b]\n",
    "\n",
    "func(1,2)"
   ]
  },
  {
   "cell_type": "markdown",
   "metadata": {},
   "source": [
    "# Exercise 2\n"
   ]
  },
  {
   "cell_type": "markdown",
   "metadata": {},
   "source": [
    "Create a function that will return the list of square roots from numbers from 1 to `n` (where `n` is the input)\n",
    "\n"
   ]
  },
  {
   "cell_type": "code",
   "execution_count": 4,
   "metadata": {},
   "outputs": [
    {
     "data": {
      "text/plain": [
       "[0.0,\n",
       " 1.0,\n",
       " 1.4142135623730951,\n",
       " 1.7320508075688772,\n",
       " 2.0,\n",
       " 2.23606797749979,\n",
       " 2.449489742783178,\n",
       " 2.6457513110645907,\n",
       " 2.8284271247461903,\n",
       " 3.0]"
      ]
     },
     "execution_count": 4,
     "metadata": {},
     "output_type": "execute_result"
    }
   ],
   "source": [
    "import math\n",
    "\n",
    "def sqr_root(n):\n",
    "    return[math.sqrt(n) for n in range(n+1)]\n",
    "\n",
    "sqr_root(9)"
   ]
  },
  {
   "cell_type": "markdown",
   "metadata": {},
   "source": [
    "# Exercise 3\n",
    "\n",
    "Create a mad-lib that instead of using the `input` function, uses keyword arguments."
   ]
  },
  {
   "cell_type": "code",
   "execution_count": 5,
   "metadata": {},
   "outputs": [
    {
     "data": {
      "text/plain": [
       "'It was a gloomy, cold November day. I woke up to the strong    smell of puppy downstairs. I quickly got ready, grabbing my backpack    and skipped downstairs.'"
      ]
     },
     "execution_count": 5,
     "metadata": {},
     "output_type": "execute_result"
    }
   ],
   "source": [
    "def mad_lib(first_adjective, second_adjective, first_noun, second_noun=\"sneakers\", first_verb =\"skipped\"):\n",
    "    mad_lib = f\"It was a {first_adjective}, cold November day. I woke up to the {second_adjective}\\\n",
    "    smell of {first_noun} downstairs. I quickly got ready, grabbing my {second_noun}\\\n",
    "    and {first_verb} downstairs.\"\n",
    "    return mad_lib\n",
    "    \n",
    "mad_lib('gloomy','strong','puppy','backpack')"
   ]
  },
  {
   "cell_type": "markdown",
   "metadata": {},
   "source": [
    "# Exercise 4\n",
    "\n",
    "Create a function that takes `n` as the input and returns a `n`x`n` matrix where all the values are zeros. "
   ]
  },
  {
   "cell_type": "code",
   "execution_count": 6,
   "metadata": {},
   "outputs": [
    {
     "data": {
      "text/plain": [
       "[[0, 0, 0, 0, 0, 0, 0, 0, 0, 0],\n",
       " [0, 0, 0, 0, 0, 0, 0, 0, 0, 0],\n",
       " [0, 0, 0, 0, 0, 0, 0, 0, 0, 0],\n",
       " [0, 0, 0, 0, 0, 0, 0, 0, 0, 0],\n",
       " [0, 0, 0, 0, 0, 0, 0, 0, 0, 0],\n",
       " [0, 0, 0, 0, 0, 0, 0, 0, 0, 0],\n",
       " [0, 0, 0, 0, 0, 0, 0, 0, 0, 0],\n",
       " [0, 0, 0, 0, 0, 0, 0, 0, 0, 0],\n",
       " [0, 0, 0, 0, 0, 0, 0, 0, 0, 0],\n",
       " [0, 0, 0, 0, 0, 0, 0, 0, 0, 0]]"
      ]
     },
     "execution_count": 6,
     "metadata": {},
     "output_type": "execute_result"
    }
   ],
   "source": [
    "def make_matrix(n):\n",
    "    inner_lis = [0 for i in range(n)] # make list of size 1 x n\n",
    "    \n",
    "    # add inner_lis to matrix n times\n",
    "    matrix = []\n",
    "    for i in range(n):\n",
    "        matrix.append(inner_lis)\n",
    "    \n",
    "    return matrix\n",
    "\n",
    "make_matrix(10)"
   ]
  },
  {
   "cell_type": "markdown",
   "metadata": {},
   "source": [
    "# Exercise 5\n",
    "\n",
    "Find an exercise from a previous lab and convert it into a function demonstrating the ability to define the function and call it using the correct arguments/keywords"
   ]
  },
  {
   "cell_type": "code",
   "execution_count": 8,
   "metadata": {},
   "outputs": [
    {
     "name": "stdout",
     "output_type": "stream",
     "text": [
      "fizzbuzz\n",
      "fizz\n",
      "buzz\n"
     ]
    }
   ],
   "source": [
    "def fizz_buzz(n):\n",
    "    if n % 15 == 0:\n",
    "        print('fizzbuzz')\n",
    "    elif n % 3 == 0:\n",
    "        print('fizz')\n",
    "    elif n % 5 == 0:\n",
    "        print('buzz')\n",
    "\n",
    "fizz_buzz(30)\n",
    "fizz_buzz(12)\n",
    "fizz_buzz(10)\n",
    "fizz_buzz(11) # prints nothing"
   ]
  },
  {
   "cell_type": "markdown",
   "metadata": {},
   "source": [
    "# Bonus:\n",
    "    \n",
    "Create a function that has a function within. Demonstrate how you might use this function in a real world application."
   ]
  },
  {
   "cell_type": "code",
   "execution_count": 9,
   "metadata": {},
   "outputs": [],
   "source": [
    "def power(x,n):\n",
    "    # inner power function\n",
    "    def calculate_power(x,n):\n",
    "        return x ** n\n",
    "    \n",
    "    # type checking \n",
    "    if type(n) is not int:\n",
    "        print(\"Please enter an integer exponent.\")\n",
    "    elif type(x) is not int or not float:\n",
    "        print(\"Please make sure the base is an integer or float.\")\n",
    "    else:\n",
    "        print(calculate_power(x,n))"
   ]
  },
  {
   "cell_type": "code",
   "execution_count": 10,
   "metadata": {},
   "outputs": [
    {
     "name": "stdout",
     "output_type": "stream",
     "text": [
      "25\n",
      "Please make sure the base is an integer or float.\n",
      "Please enter an integer exponent.\n"
     ]
    }
   ],
   "source": [
    "power(5, 2)\n",
    "power('a',2)\n",
    "power(2,'f')"
   ]
  },
  {
   "cell_type": "markdown",
   "metadata": {},
   "source": [
    "This function might be used in a real world application where you have to use a specific piece of code over and over again and want to isolate that functionality. Here for example, we want to isolate the power function in an inner function from the type checking that goes on in the outer function. This abstraction makes it easier to maintain and update code since each function ultimately does only one thing (although this is a very simple example)."
   ]
  }
 ],
 "metadata": {
  "kernelspec": {
   "display_name": "Python 3",
   "language": "python",
   "name": "python3"
  },
  "language_info": {
   "codemirror_mode": {
    "name": "ipython",
    "version": 3
   },
   "file_extension": ".py",
   "mimetype": "text/x-python",
   "name": "python",
   "nbconvert_exporter": "python",
   "pygments_lexer": "ipython3",
   "version": "3.8.0"
  }
 },
 "nbformat": 4,
 "nbformat_minor": 4
}
