{
 "cells": [
  {
   "cell_type": "markdown",
   "metadata": {},
   "source": [
    "<div style=\"background: #000;\n",
    "            color: #FFF;\n",
    "            margin: 0px;\n",
    "                padding: 10px 0px 20px 0px;\n",
    "            text-align: center; \n",
    "                \">\n",
    "    <h1>Week 6 - Class 1 - Lab</h1>\n",
    "</div>\n"
   ]
  },
  {
   "cell_type": "markdown",
   "metadata": {},
   "source": [
    "# Question 1\n",
    "\n",
    "What is a class? What is an object? What is the difference? How can we use objects in python?"
   ]
  },
  {
   "cell_type": "markdown",
   "metadata": {},
   "source": [
    "A class is a code template for creating objects whereas objects are instances of classes. Objects have both attributes and methods for manipulating those attributes. We can use objects to represent multiple versions of a certain class that has mutable properties. For example, you chould have a Person class and use that to store information for many different people, such as their name, address, phone number, etc."
   ]
  },
  {
   "cell_type": "markdown",
   "metadata": {},
   "source": [
    "# Execise 1\n",
    "\n",
    "Create a class. Show that the class can be used to create an object."
   ]
  },
  {
   "cell_type": "code",
   "execution_count": 3,
   "metadata": {},
   "outputs": [
    {
     "name": "stdout",
     "output_type": "stream",
     "text": [
      "1000\n"
     ]
    }
   ],
   "source": [
    "class Random:\n",
    "    i = 1000\n",
    "    \n",
    "    def hello(self):\n",
    "        print(self.i)\n",
    "        return \n",
    "\n",
    "r = Random() \n",
    "r.hello()"
   ]
  },
  {
   "cell_type": "markdown",
   "metadata": {},
   "source": [
    "# Exercise 2\n",
    "\n",
    "Create a class including an `__init__` function that initializes some sort of state when objects are created. Demonstrate that the state is initialized."
   ]
  },
  {
   "cell_type": "code",
   "execution_count": 8,
   "metadata": {},
   "outputs": [
    {
     "name": "stdout",
     "output_type": "stream",
     "text": [
      "Ishraq Khan\n"
     ]
    }
   ],
   "source": [
    "class Person:\n",
    "    def __init__(self, first_name, last_name, state=\"NY\"):\n",
    "        self.first_name = first_name\n",
    "        self.last_name = last_name\n",
    "        self.state = state\n",
    "    def print_name(self):\n",
    "        print(f\"{self.first_name.title()} {self.last_name.title()}\")\n",
    "        \n",
    "me = Person(\"ishraq\", \"khan\")\n",
    "me.print_name()"
   ]
  },
  {
   "cell_type": "markdown",
   "metadata": {},
   "source": [
    "# Exercise 3\n",
    "\n",
    "Building on our point example, add code to alter the class to store three values `x`, `y`, and `z`. Bonus if you're able to implement the distance method for this new class."
   ]
  },
  {
   "cell_type": "code",
   "execution_count": 18,
   "metadata": {},
   "outputs": [
    {
     "data": {
      "text/plain": [
       "1.7320508075688772"
      ]
     },
     "execution_count": 18,
     "metadata": {},
     "output_type": "execute_result"
    }
   ],
   "source": [
    "class Point:\n",
    "    def __init__(self,x,y,z):\n",
    "        self.x = x\n",
    "        self.y = y\n",
    "        self.z = z\n",
    "    \n",
    "    def print_coords(self):\n",
    "        print(f\"x: {self.x}, y:{self.y}, z:{self.z}\")\n",
    "        \n",
    "    def calculate_distance(self, other_point):\n",
    "        if isinstance(other_point, Point):\n",
    "            return ((other_point.x - self.x)**2 + (other_point.y - self.y)**2 + (other_point.z - self.z)**2) ** 0.5\n",
    "        else:\n",
    "            print(\"other point is not point\")\n",
    "\n",
    "p1 = Point(1,2,3)\n",
    "p2 = Point(2,3,4)\n",
    "p2.calculate_distance(p1)"
   ]
  },
  {
   "cell_type": "markdown",
   "metadata": {},
   "source": [
    "# Exercise 4\n",
    "\n",
    "Create an example of a class that uses either `@staticmethod` or `@classmethod`"
   ]
  },
  {
   "cell_type": "code",
   "execution_count": 20,
   "metadata": {},
   "outputs": [
    {
     "name": "stdout",
     "output_type": "stream",
     "text": [
      "meow\n",
      "woof\n",
      "bawk\n"
     ]
    }
   ],
   "source": [
    "class Animal:\n",
    "    @staticmethod\n",
    "    def cat():\n",
    "        print('meow')\n",
    "        return\n",
    "    @staticmethod\n",
    "    def dog():\n",
    "        print('woof')\n",
    "        return\n",
    "    @staticmethod\n",
    "    def chicken():\n",
    "        print('bawk')\n",
    "        return\n",
    "    \n",
    "Animal.cat()\n",
    "Animal.dog()\n",
    "Animal.chicken()"
   ]
  },
  {
   "cell_type": "markdown",
   "metadata": {},
   "source": [
    "# Exercise 5\n",
    "\n",
    "Create an object called `Student` with attributes that store the `first_name`, `last_name`, and `age` of the student. Also create an attribute `hw_grades` that stores hw grades depending on how you think it might be stored. Create methods that prints the full name of the student, adds grades to the attribute`hw_grades` and even calculates the average hw grade. Use additional attributes and methods if needed.\n",
    "\n",
    "Demonstrate that your code works by creating an instance of the class and storing the requisite information."
   ]
  },
  {
   "cell_type": "code",
   "execution_count": 25,
   "metadata": {},
   "outputs": [],
   "source": [
    "class Student:\n",
    "    def __init__(self,first_name,last_name,age,hw_grades):\n",
    "        self.first_name = first_name\n",
    "        self.last_name = last_name\n",
    "        self.age = age\n",
    "        self.hw_grades = hw_grades # list to store grades\n",
    "    \n",
    "    def print_name(self):\n",
    "        print(f\"{self.first_name.title()} {self.last_name.title()}\")\n",
    "        return\n",
    "    \n",
    "    def add_grade(self,grade):\n",
    "        self.hw_grades.append(grade)\n",
    "        return\n",
    "        \n",
    "    def grade_average(self):\n",
    "        grade_sum = 0\n",
    "        for grade in self.hw_grades:\n",
    "            grade_sum += grade\n",
    "        return grade_sum / len(self.hw_grades)\n",
    "    \n",
    "me = Student('Ishraq', 'Khan', 22, [100,85,15])\n",
    "me.add_grade(100)"
   ]
  },
  {
   "cell_type": "code",
   "execution_count": 26,
   "metadata": {},
   "outputs": [
    {
     "name": "stdout",
     "output_type": "stream",
     "text": [
      "Ishraq Khan\n"
     ]
    }
   ],
   "source": [
    "me.print_name()"
   ]
  },
  {
   "cell_type": "code",
   "execution_count": 27,
   "metadata": {},
   "outputs": [
    {
     "data": {
      "text/plain": [
       "75.0"
      ]
     },
     "execution_count": 27,
     "metadata": {},
     "output_type": "execute_result"
    }
   ],
   "source": [
    "me.grade_average()"
   ]
  }
 ],
 "metadata": {
  "kernelspec": {
   "display_name": "Python 3",
   "language": "python",
   "name": "python3"
  },
  "language_info": {
   "codemirror_mode": {
    "name": "ipython",
    "version": 3
   },
   "file_extension": ".py",
   "mimetype": "text/x-python",
   "name": "python",
   "nbconvert_exporter": "python",
   "pygments_lexer": "ipython3",
   "version": "3.8.0"
  }
 },
 "nbformat": 4,
 "nbformat_minor": 4
}
