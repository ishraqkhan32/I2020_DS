{
 "cells": [
  {
   "cell_type": "markdown",
   "metadata": {},
   "source": [
    "<div style=\"background: #000;\n",
    "            color: #FFF;\n",
    "            margin: 0px;\n",
    "                padding: 10px 0px 20px 0px;\n",
    "            text-align: center; \n",
    "                \">\n",
    "    <h1>Week 6 - Class 2 - Lab</h1>\n",
    "</div>\n"
   ]
  },
  {
   "cell_type": "markdown",
   "metadata": {},
   "source": [
    "## Question 1:\n",
    "    \n",
    "Explain one of the dunder methods describing what it does, how it works and why we might need to use it."
   ]
  },
  {
   "cell_type": "markdown",
   "metadata": {},
   "source": [
    "The __init__ dunder method is called whenever you create a new instance of an object from a class. It defines the steps that need to be taking during the initialization step, which may include setting attributes to the given arguments. Like other dunder methods, it is not called by its name, rather it is called like this (assuming you have a class called Example):\n",
    "\n",
    "\n",
    "new = Example(a,b,c)\n",
    "\n",
    "\n",
    "This would initialize an instance of Example with a, b, and c as attributes being passed to the built-in or user-defined __init__ method. "
   ]
  },
  {
   "cell_type": "markdown",
   "metadata": {},
   "source": [
    "## Exercise 1:\n",
    "\n",
    "Create a class called `Employee`, add in attributes and methods you think would be associated with an employee. Use at least 2 attributes and 2 methods (not including the `__init__` method you'll create as well)."
   ]
  },
  {
   "cell_type": "code",
   "execution_count": 1,
   "metadata": {},
   "outputs": [
    {
     "name": "stdout",
     "output_type": "stream",
     "text": [
      "John Smith\n",
      "Google\n",
      "Software Engineer\n"
     ]
    }
   ],
   "source": [
    "class Employee:\n",
    "    def __init__(self, name, company, title, salary):\n",
    "        self.name = name\n",
    "        self.company = company\n",
    "        self.title = title\n",
    "        self.salary = int(salary)\n",
    "    \n",
    "    def promotion(self, title, pay_increase):\n",
    "        self.title = title\n",
    "        self.salary += int(pay_increase)\n",
    "    \n",
    "    def fire():\n",
    "        self.company = None\n",
    "        print(f\"{name.title()} was fired from {company.title()}. Good luck finding a new job :(\")\n",
    "        \n",
    "new_employee = Employee('John Smith', 'Google', 'Software Engineer', '95000')\n",
    "print(new_employee.name)\n",
    "print(new_employee.company)\n",
    "print(new_employee.title)"
   ]
  },
  {
   "cell_type": "code",
   "execution_count": 2,
   "metadata": {},
   "outputs": [
    {
     "name": "stdout",
     "output_type": "stream",
     "text": [
      "Lead Software Engineer\n",
      "105000\n"
     ]
    }
   ],
   "source": [
    "new_employee.promotion('Lead Software Engineer', '10000')\n",
    "print(new_employee.title)\n",
    "print(new_employee.salary)"
   ]
  },
  {
   "cell_type": "markdown",
   "metadata": {},
   "source": [
    "## Exercise 2:\n",
    "\n",
    "Create a class called `Paper` with the `content`, `length`, `width`, `margin`, `print_layout` (landscape or portrait) and `doublesided` (boolean value) as attributes. Provide methods that allow us to change those attributes."
   ]
  },
  {
   "cell_type": "code",
   "execution_count": 3,
   "metadata": {},
   "outputs": [
    {
     "name": "stdout",
     "output_type": "stream",
     "text": [
      "11 portrait\n",
      "10 landscape\n"
     ]
    }
   ],
   "source": [
    "class Paper:\n",
    "    layouts = ['portrait', 'landscape']\n",
    "\n",
    "    def __init__(self,content='',length=11,width=8.5,margin=1.0,print_layout='portrait', doublesided=False):\n",
    "        if type(content) is str:\n",
    "            self.content = content\n",
    "            \n",
    "        # length, width, and margin assume correct input (float or int)\n",
    "        # does not handle strings but could update to include typecasting and checking for valid string inputs\n",
    "        if type(length) is float or type(length) is int:\n",
    "            self.length = length\n",
    "            \n",
    "        if type(width) is float or type(width) is int:\n",
    "            self.width = width\n",
    "            \n",
    "        if type(margin) is float or type(margin) is int:\n",
    "            self.margin = margin\n",
    "        \n",
    "        # include check for valid print_layout\n",
    "        if print_layout in self.layouts:\n",
    "            self.print_layout = print_layout\n",
    "            \n",
    "        if type(doublesided) is bool:\n",
    "            self.doublesided = doublesided\n",
    "            \n",
    "    # allow subscripting\n",
    "    def __getitem__(self, key):\n",
    "        return getattr(self,key)\n",
    "    \n",
    "    # allow changing of attributes using subscripting\n",
    "    def __setitem__(self, key, value):\n",
    "        return setattr(self,key, value)\n",
    "    \n",
    "standard = Paper() # initialize with default values\n",
    "\n",
    "print(standard['length'], standard['print_layout'])\n",
    "\n",
    "# change length to 10\n",
    "standard['length'] = 10\n",
    "standard['print_layout'] = 'landscape'\n",
    "print(standard['length'], standard['print_layout'])"
   ]
  },
  {
   "cell_type": "markdown",
   "metadata": {},
   "source": [
    "## Exercise 3\n",
    "\n",
    "Create a class called `Printer` that implements a queue. You should be able to store `Paper` objects in this queue so provide methods that add instances of `Paper` to the `Printer`'s queue and a toy method that \"prints\" `n` amount of \"jobs\" from the queue at a time. Demonstrate that this code works."
   ]
  },
  {
   "cell_type": "code",
   "execution_count": 4,
   "metadata": {},
   "outputs": [
    {
     "data": {
      "text/plain": [
       "[]"
      ]
     },
     "execution_count": 4,
     "metadata": {},
     "output_type": "execute_result"
    }
   ],
   "source": [
    "class Printer:\n",
    "    \n",
    "    def __init__(self,queue=[]):\n",
    "        self.queue = queue # all printers contain empty queue; queue only holds paper objects\n",
    "        \n",
    "    def add_to_queue(self, paper):\n",
    "        # if valid entry, add paper to end of queue\n",
    "        if isinstance(paper, Paper):\n",
    "            self.queue.append(paper)\n",
    "        else:\n",
    "            print('Cannot add invalid object to queue')\n",
    "            \n",
    "    def print_from_queue(self,n):\n",
    "        if type(n) is int:\n",
    "            for i in range(n):\n",
    "                printed = self.queue.pop(0)\n",
    "                print(f\"Printed paper with content: {printed['content']}\")\n",
    "            return\n",
    "\n",
    "\n",
    "# shows the queue is initialized as empty\n",
    "my_printer = Printer()\n",
    "my_printer.queue "
   ]
  },
  {
   "cell_type": "code",
   "execution_count": 5,
   "metadata": {},
   "outputs": [],
   "source": [
    "# adding papers to queue (only content attributes are non-default)\n",
    "papers = [Paper(content=random_str) for random_str in ['abc', 'def', 'ghi']]\n",
    "\n",
    "for paper in papers:\n",
    "    my_printer.add_to_queue(paper)"
   ]
  },
  {
   "cell_type": "code",
   "execution_count": 6,
   "metadata": {},
   "outputs": [
    {
     "data": {
      "text/plain": [
       "[<__main__.Paper at 0x10ccf5610>,\n",
       " <__main__.Paper at 0x10ccf58b0>,\n",
       " <__main__.Paper at 0x10ccf5700>]"
      ]
     },
     "execution_count": 6,
     "metadata": {},
     "output_type": "execute_result"
    }
   ],
   "source": [
    "# showing that queue is no longer empty and contains 3 paper jobs\n",
    "my_printer.queue"
   ]
  },
  {
   "cell_type": "code",
   "execution_count": 7,
   "metadata": {},
   "outputs": [
    {
     "name": "stdout",
     "output_type": "stream",
     "text": [
      "Cannot add invalid object to queue\n"
     ]
    }
   ],
   "source": [
    "# only paper jobs can be added to queue\n",
    "my_printer.add_to_queue('string')"
   ]
  },
  {
   "cell_type": "code",
   "execution_count": 8,
   "metadata": {},
   "outputs": [
    {
     "name": "stdout",
     "output_type": "stream",
     "text": [
      "Printed paper with content: abc\n",
      "Printed paper with content: def\n"
     ]
    }
   ],
   "source": [
    "# printing first 2 papers in queue\n",
    "my_printer.print_from_queue(2)"
   ]
  },
  {
   "cell_type": "markdown",
   "metadata": {},
   "source": [
    "## Exercise 4:\n",
    "    \n",
    "Create a class called `Square` that overloads the addition operator by adding the area of two squares. You will need at least an attribute for length, a method for calculating area and the overloaded `+` operator method.\n",
    "\n",
    "e.g. `Square(3) + Square(4) == 25`"
   ]
  },
  {
   "cell_type": "code",
   "execution_count": 9,
   "metadata": {},
   "outputs": [
    {
     "name": "stdout",
     "output_type": "stream",
     "text": [
      "9\n",
      "16\n"
     ]
    },
    {
     "data": {
      "text/plain": [
       "25"
      ]
     },
     "execution_count": 9,
     "metadata": {},
     "output_type": "execute_result"
    }
   ],
   "source": [
    "class Square:\n",
    "    def __init__(self,length):\n",
    "        # only accepting int side lengths for simplicity\n",
    "        if type(length) is int:\n",
    "            self.length = length\n",
    "        \n",
    "    def calculate_area(self):\n",
    "        return self.length ** 2\n",
    "    \n",
    "    def __add__(self, other):\n",
    "        return self.calculate_area() + other.calculate_area()\n",
    "\n",
    "    \n",
    "sq1 = Square(3)\n",
    "sq2 = Square(4)\n",
    "\n",
    "print(sq1.calculate_area())\n",
    "print(sq2.calculate_area())\n",
    "\n",
    "sq1 + sq2 # overloaded addition operator"
   ]
  }
 ],
 "metadata": {
  "kernelspec": {
   "display_name": "Python 3",
   "language": "python",
   "name": "python3"
  },
  "language_info": {
   "codemirror_mode": {
    "name": "ipython",
    "version": 3
   },
   "file_extension": ".py",
   "mimetype": "text/x-python",
   "name": "python",
   "nbconvert_exporter": "python",
   "pygments_lexer": "ipython3",
   "version": "3.8.0"
  }
 },
 "nbformat": 4,
 "nbformat_minor": 4
}
