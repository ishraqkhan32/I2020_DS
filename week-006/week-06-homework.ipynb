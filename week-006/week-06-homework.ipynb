{
 "cells": [
  {
   "cell_type": "markdown",
   "metadata": {},
   "source": [
    "<div style=\"background: #000;\n",
    "            color: #FFF;\n",
    "            margin: 0px;\n",
    "                padding: 10px 0px 20px 0px;\n",
    "            text-align: center; \n",
    "                \">\n",
    "    <h1>Week 6 - Homework</h1>\n",
    "</div>\n",
    "\n",
    "<pre style=\"text-align:center;\">\n",
    "Exercise 1 is due Monday 10/26\n",
    "Exercise 2 is due Tuesday 10/27\n",
    "Exercise 3 is due Wednesday 10/28\n",
    "</pre>"
   ]
  },
  {
   "cell_type": "markdown",
   "metadata": {},
   "source": [
    "# Exercise 1\n",
    "\n",
    "Create a class called `Course` and a class called `Student` based on what you think they will need. Create a way to store 20 \"students\" (instances of the `Student` class into an instance of `Course` to represent our Data Science course. \n",
    "\n",
    "Demonstrate that your code works. Message on slack if stuck or need clarification."
   ]
  },
  {
   "cell_type": "code",
   "execution_count": 8,
   "metadata": {},
   "outputs": [],
   "source": [
    "class Course:  \n",
    "    def __init__(self, course_name):\n",
    "        self.course_name = course_name\n",
    "        self.students = [] # create new empty list to hold students\n",
    "        self.current_capacity = 0\n",
    "        \n",
    "    # add student to course\n",
    "    def add_student(self, student):\n",
    "        if self.current_capacity == 20:\n",
    "            print('Sorry, this class is full.')\n",
    "        else:\n",
    "            self.students.append(student)\n",
    "            self.current_capacity += 1\n",
    "            student.add_course(self)\n",
    "    \n",
    "    # return top-performing student based on grades\n",
    "    def top_student(self):\n",
    "        # create gradebook based on current grades\n",
    "        grades = {}\n",
    "        \n",
    "        # check if course is not empty\n",
    "        if self.current_capacity > 0:\n",
    "            for student in self.students:\n",
    "                grades[student.first_name] = student.calculate_average()\n",
    "\n",
    "            # create list of keys and values\n",
    "            k = list(grades.keys())\n",
    "            v = list(grades.values())\n",
    "\n",
    "            return k[v.index(max(v))]\n",
    "        else:\n",
    "            print('Class is empty.')\n",
    "    \n",
    "    # print each student (student.__repr__ updated to return full name)\n",
    "    def all_students(self):\n",
    "        for student in self.students:\n",
    "            print(student)\n",
    "            \n",
    "            \n",
    "class Student:\n",
    "    def __init__(self, first_name, last_name, age):\n",
    "        self.first_name = first_name\n",
    "        self.last_name = last_name\n",
    "        self.age = age\n",
    "        self.grades = [] # initialize grades with list, default is empty \n",
    "        self.courses = [] # relational link to courses\n",
    "\n",
    "    # add grade to grades list\n",
    "    def add_grade(self,grade):\n",
    "        self.grades.append(grade)\n",
    "    \n",
    "    # calculate current average based on grades\n",
    "    def calculate_average(self):\n",
    "        return sum(self.grades) / len(self.grades)\n",
    "    \n",
    "    # add course to student course list\n",
    "    def add_course(self, course):\n",
    "        if not course in self.courses: \n",
    "            self.courses.append(course)\n",
    "    \n",
    "    # overload __repr__ function to return full name\n",
    "    def __repr__(self):\n",
    "        return f\"{type(self)}: {self.first_name.title()} {self.last_name.title()}\"\n",
    " "
   ]
  },
  {
   "cell_type": "code",
   "execution_count": 9,
   "metadata": {},
   "outputs": [],
   "source": [
    "ds2020 = Course('Data Science')"
   ]
  },
  {
   "cell_type": "code",
   "execution_count": 10,
   "metadata": {},
   "outputs": [
    {
     "name": "stdout",
     "output_type": "stream",
     "text": [
      "95.0\n",
      "[90, 95, 100]\n"
     ]
    }
   ],
   "source": [
    "# initialize 4 students\n",
    "s1 = Student('Amy', 'Rosa', 100)\n",
    "s2 = Student('Bryant', 'Novas', 100)\n",
    "s3 = Student('Michael', 'Alford', 100)\n",
    "s4 = Student('Ishraq', 'Khan', 100)\n",
    "\n",
    "# add grades and calculate average\n",
    "s1.add_grade(90)\n",
    "s1.add_grade(95)\n",
    "s1.add_grade(100)\n",
    "\n",
    "s2.add_grade(80)\n",
    "s2.add_grade(85)\n",
    "s2.add_grade(90)\n",
    "\n",
    "s3.add_grade(70)\n",
    "s3.add_grade(75)\n",
    "s3.add_grade(80)\n",
    "\n",
    "s4.add_grade(60)\n",
    "s4.add_grade(65)\n",
    "s4.add_grade(70)\n",
    "\n",
    "print(s1.calculate_average())\n",
    "print(s1.grades)"
   ]
  },
  {
   "cell_type": "code",
   "execution_count": 11,
   "metadata": {},
   "outputs": [
    {
     "name": "stdout",
     "output_type": "stream",
     "text": [
      "4\n",
      "<class '__main__.Student'>: Amy Rosa\n",
      "<class '__main__.Student'>: Bryant Novas\n",
      "<class '__main__.Student'>: Michael Alford\n",
      "<class '__main__.Student'>: Ishraq Khan\n"
     ]
    }
   ],
   "source": [
    "# add students to data science course\n",
    "for s in [s1,s2,s3,s4]:\n",
    "    ds2020.add_student(s)\n",
    "\n",
    "# display current capacity\n",
    "print(ds2020.current_capacity)\n",
    "ds2020.all_students()"
   ]
  },
  {
   "cell_type": "code",
   "execution_count": 12,
   "metadata": {},
   "outputs": [
    {
     "name": "stdout",
     "output_type": "stream",
     "text": [
      "Amy\n"
     ]
    }
   ],
   "source": [
    "print(ds2020.top_student())"
   ]
  },
  {
   "cell_type": "code",
   "execution_count": 13,
   "metadata": {},
   "outputs": [
    {
     "data": {
      "text/plain": [
       "[<class '__main__.Student'>: Amy Fitz,\n",
       " <class '__main__.Student'>: Amy Green,\n",
       " <class '__main__.Student'>: Amy Herro,\n",
       " <class '__main__.Student'>: Amy Ish,\n",
       " <class '__main__.Student'>: Amy John,\n",
       " <class '__main__.Student'>: Bob Fitz,\n",
       " <class '__main__.Student'>: Bob Green,\n",
       " <class '__main__.Student'>: Bob Herro,\n",
       " <class '__main__.Student'>: Bob Ish,\n",
       " <class '__main__.Student'>: Bob John,\n",
       " <class '__main__.Student'>: Chris Fitz,\n",
       " <class '__main__.Student'>: Chris Green,\n",
       " <class '__main__.Student'>: Chris Herro,\n",
       " <class '__main__.Student'>: Chris Ish,\n",
       " <class '__main__.Student'>: Chris John,\n",
       " <class '__main__.Student'>: Dan Fitz,\n",
       " <class '__main__.Student'>: Dan Green,\n",
       " <class '__main__.Student'>: Dan Herro,\n",
       " <class '__main__.Student'>: Dan Ish,\n",
       " <class '__main__.Student'>: Dan John,\n",
       " <class '__main__.Student'>: Emily Fitz,\n",
       " <class '__main__.Student'>: Emily Green,\n",
       " <class '__main__.Student'>: Emily Herro,\n",
       " <class '__main__.Student'>: Emily Ish,\n",
       " <class '__main__.Student'>: Emily John]"
      ]
     },
     "execution_count": 13,
     "metadata": {},
     "output_type": "execute_result"
    }
   ],
   "source": [
    "# creating list of 20 students\n",
    "s_list = [Student(first_name, last_name, 21) for first_name in ['Amy', 'Bob', 'Chris', 'Dan', 'Emily'] for last_name in ['Fitz', 'Green', 'Herro', 'Ish', 'John']]\n",
    "s_list"
   ]
  },
  {
   "cell_type": "code",
   "execution_count": null,
   "metadata": {},
   "outputs": [],
   "source": []
  },
  {
   "cell_type": "markdown",
   "metadata": {},
   "source": [
    "# Exercise 2\n",
    "\n",
    "Create a class called `SafeFloat` that stores an attribute called `num` as an instance attribute set during initialization and sets `num_as_float` based on `num`\n",
    "\n",
    "Include the following three methods:\n",
    "\n",
    "`to_float` - that converts `num` to a float and stores that an attribute `num_as_float`. If `num` cannot be converted, set `num_as_float` to `None`. Do on mutate the original `num`, we'd like to keep it.\n",
    "\n",
    "`check_type` - that returns `True` if `num_as_float` is a float. It should create `num_as_float` if it doesn't exist. \n",
    "\n",
    "and a method that overrides the addition operator so that when instances of `SafeFloat` are added, `num_as_float` is used to add. Return the sum of the two instances or return `None` if the two cannot be added.\n",
    "\n",
    "Demonstrate that this works for strings, ints, bools and floats."
   ]
  },
  {
   "cell_type": "code",
   "execution_count": 1,
   "metadata": {},
   "outputs": [],
   "source": [
    "class SafeFloat:\n",
    "    def __init__(self,num):\n",
    "        self.num = num \n",
    "        self.num_as_float = self.to_float(num) # convert num to num_as_float if possible\n",
    "    \n",
    "    # converts num to float if conversion is possible\n",
    "    def to_float(self,num):\n",
    "        \n",
    "        #if num is int, float, or bool\n",
    "        if isinstance(num, (int, float, bool)):\n",
    "            return float(num)\n",
    "            \n",
    "        # if num is numeric string\n",
    "        elif isinstance(num,str) and num.isnumeric():\n",
    "            return float(num)\n",
    "     \n",
    "        # if conversion is not possible\n",
    "        else:\n",
    "            return None\n",
    "    \n",
    "    # returns whether num_as_float is float\n",
    "    def check_type(self):\n",
    "        return isinstance(self.num_as_float, float)\n",
    "    \n",
    "    # override addition\n",
    "    def __add__(self,other):\n",
    "        # if other is SafeFloat\n",
    "        if other.check_type:\n",
    "            return self.num_as_float + other.num_as_float\n",
    "        \n",
    "        # if instances cannot be added\n",
    "        else:\n",
    "            return None"
   ]
  },
  {
   "cell_type": "markdown",
   "metadata": {},
   "source": [
    "# Exercise 3\n",
    "\n",
    "Create a base class `Shape` and two classes that inherits that base class called `Triangle` and `Rectangle`. Consider what those two share in common (height and width) and use that to create your base class `Shape`. Create a method for base class called `area` that returns `None` for the base class. Override that method for `Triangle` and `Rectangle` so instances of those two classes can calculate the correct area.\n",
    "\n",
    "Demonstrate that your code works."
   ]
  },
  {
   "cell_type": "code",
   "execution_count": null,
   "metadata": {},
   "outputs": [],
   "source": []
  }
 ],
 "metadata": {
  "kernelspec": {
   "display_name": "Python 3",
   "language": "python",
   "name": "python3"
  },
  "language_info": {
   "codemirror_mode": {
    "name": "ipython",
    "version": 3
   },
   "file_extension": ".py",
   "mimetype": "text/x-python",
   "name": "python",
   "nbconvert_exporter": "python",
   "pygments_lexer": "ipython3",
   "version": "3.8.0"
  }
 },
 "nbformat": 4,
 "nbformat_minor": 4
}
