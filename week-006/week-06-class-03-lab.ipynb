{
 "cells": [
  {
   "cell_type": "markdown",
   "metadata": {},
   "source": [
    "<div style=\"background: #000;\n",
    "            color: #FFF;\n",
    "            margin: 0px;\n",
    "                padding: 10px 0px 20px 0px;\n",
    "            text-align: center; \n",
    "                \">\n",
    "    <h1>Week 6 - Class 3 - Lab</h1>\n",
    "</div>\n"
   ]
  },
  {
   "cell_type": "markdown",
   "metadata": {},
   "source": [
    "# Question 1\n",
    "\n",
    "What is object inheritance? What does it mean for a class instance to inherit another? How can this be useful in our programming?"
   ]
  },
  {
   "cell_type": "raw",
   "metadata": {},
   "source": [
    "Object inheritance is when an instance of an object inherits all the attributes and structure of a parent class. When a class instance inherits another, it can access all the attributes and methods associated with the parent class. This is extremely useful in that it allows you to reuse and extend functionality for similar classes without necessarily having to rewrite code. It also means you don't have to edit the parent class to make small tweaks to specific parts of the code."
   ]
  },
  {
   "cell_type": "markdown",
   "metadata": {},
   "source": [
    "# Exercise 1\n",
    "\n",
    "Create a class that uses `@property` with the associated `setter` and `deleter` methods."
   ]
  },
  {
   "cell_type": "code",
   "execution_count": 8,
   "metadata": {},
   "outputs": [
    {
     "name": "stdout",
     "output_type": "stream",
     "text": [
      "old size: 4\n",
      "old area: 16\n",
      "new size: None\n",
      "new area: None\n"
     ]
    }
   ],
   "source": [
    "class Square():\n",
    "    def __init__(self, size):\n",
    "        self.__size = size\n",
    "        \n",
    "    @property\n",
    "    def size(self):\n",
    "        return self.__size\n",
    "    \n",
    "    @size.setter\n",
    "    def size(self, size):\n",
    "        if type(size) is int:\n",
    "            self.__size = size\n",
    "            \n",
    "    @size.deleter\n",
    "    def size(self):\n",
    "        self.__size = None\n",
    "        \n",
    "    def calculate_area(self):\n",
    "        if self.__size:\n",
    "            return self.__size ** 2\n",
    "        else:\n",
    "            return None\n",
    "    \n",
    "        \n",
    "sq1 = Square(4)\n",
    "print('old size:', sq1.size) # setter\n",
    "print('old area:', sq1.calculate_area())\n",
    "\n",
    "del sq1.size # deleter\n",
    "print('new size:', sq1.size)\n",
    "print('new area:', sq1.calculate_area())"
   ]
  },
  {
   "cell_type": "markdown",
   "metadata": {},
   "source": [
    "# Exercise 2\n",
    "\n",
    "Using the following class, overload the `+` operator so when the two instances are added, the salaries are added and the sum is outputted. Also override the `__repr__` method so you can output a string that will create the same exact class (`\"Employee(**insert correct values here**)\"`)"
   ]
  },
  {
   "cell_type": "code",
   "execution_count": 10,
   "metadata": {},
   "outputs": [
    {
     "name": "stdout",
     "output_type": "stream",
     "text": [
      "Employee(('Kamala', 55, 166000))\n",
      "Employee(('Joe', 77, 250000))\n"
     ]
    },
    {
     "data": {
      "text/plain": [
       "416000"
      ]
     },
     "execution_count": 10,
     "metadata": {},
     "output_type": "execute_result"
    }
   ],
   "source": [
    "class Employee:\n",
    "    def __init__(self, name, age, salary):\n",
    "        self.name = name\n",
    "        self.age = age\n",
    "        self.salary = salary\n",
    "        \n",
    "    def __add__(self,other):\n",
    "        return self.salary + other.salary\n",
    "    \n",
    "    def __repr__(self):\n",
    "       return f\"Employee({self.name,self.age,self.salary})\"\n",
    "    \n",
    "empl1 = Employee('Kamala', 55, 166000)\n",
    "empl2 = Employee('Joe', 77, 250000)\n",
    "\n",
    "print(empl1)\n",
    "print(empl2)\n",
    "empl1 + empl2"
   ]
  },
  {
   "cell_type": "markdown",
   "metadata": {},
   "source": [
    "# Exercise 3:\n",
    "\n",
    "Create a class called `Store`, create an attribute called `inventory` that holds the product name as key and an int representing the count/number of that product as the value. \n",
    "\n",
    "Create a method that decrements from the product's count each time a specific product is purchased. Create a least one addtional method to help your class simulate a store (e.g. a method that lists the products for sale could be one). Also consider how you might want to add products to the store via the `__init__` method and later when the instance has already been created.\n",
    "\n",
    "When you're finished, create an instance of `Store` and demonstrate that your methods/code work. Bonus points for addtional methods/functionality."
   ]
  },
  {
   "cell_type": "code",
   "execution_count": 50,
   "metadata": {},
   "outputs": [
    {
     "name": "stdout",
     "output_type": "stream",
     "text": [
      "-- Current Inventory --\n",
      "eggs: 3\n",
      "milk: 10\n",
      "chips: 15\n",
      "-----------------------\n",
      "\n",
      "After purchasing 2 eggs:\n",
      "-- Current Inventory --\n",
      "eggs: 1\n",
      "milk: 10\n",
      "chips: 15\n",
      "-----------------------\n",
      "\n",
      "After trying to purchase 3 eggs:\n",
      "Sorry! eggs only has 1 units left to purchase. Please request an appropriate amount.\n",
      "\n",
      "\n",
      "After adding 6 soda to inventory:\n",
      "-- Current Inventory --\n",
      "eggs: 1\n",
      "milk: 10\n",
      "chips: 15\n",
      "soda: 6\n",
      "-----------------------\n",
      "\n"
     ]
    }
   ],
   "source": [
    "class Store:\n",
    "    inventory = {} # class attribute to represent all inventory\n",
    "    \n",
    "    def __init__(self, **kwargs):\n",
    "        self._stock(**kwargs)\n",
    "      \n",
    "    # initialize inventory with kwargs\n",
    "    @classmethod\n",
    "    def _stock(cls, **kwargs):\n",
    "        for k,v in kwargs.items():\n",
    "            cls.inventory[k] = v\n",
    "        return cls.inventory\n",
    "    \n",
    "    # update inventory based on item purchase and amount\n",
    "    @classmethod\n",
    "    def purchase(cls, item, count=1):\n",
    "        if item in cls.inventory.keys():\n",
    "            current_stock = cls.inventory[item]\n",
    "            \n",
    "            # only allow purchase if more stock that requested\n",
    "            if current_stock >= count:\n",
    "                cls.inventory[item] -= count\n",
    "             \n",
    "            # if not enough stock\n",
    "            else:\n",
    "                print(f\"Sorry! {item} only has {current_stock} units left to purchase. Please request an appropriate amount.\")\n",
    "        \n",
    "        # if requested item does not exist in inventory\n",
    "        else:\n",
    "            print(f\"Sorry! Store does not hold: {item}\")\n",
    "                \n",
    "    \n",
    "    # update stock of given item in inventory by count\n",
    "    @classmethod\n",
    "    def add(cls, item, count=1):\n",
    "        if item in cls.inventory.keys():\n",
    "            cls.inventory[item] += count\n",
    "        else:\n",
    "            cls.inventory[item] = count\n",
    "    \n",
    "    # print current inventory of store\n",
    "    @classmethod\n",
    "    def show_inventory(cls):\n",
    "        print('-- Current Inventory --')\n",
    "        for k,v in cls.inventory.items():\n",
    "            print(f\"{k}: {v}\")\n",
    "        print('-----------------------\\n')\n",
    "    \n",
    "my_store = Store(eggs=3, milk=10, chips=15)\n",
    "my_store.show_inventory()\n",
    "\n",
    "print('After purchasing 2 eggs:')\n",
    "my_store.purchase('eggs', 2) # after buying 2 eggs\n",
    "my_store.show_inventory()\n",
    "\n",
    "print('After trying to purchase 3 eggs:')\n",
    "my_store.purchase('eggs', 3) # buying 3 more eggs (should not work)\n",
    "\n",
    "print(\"\\n\\nAfter adding 6 soda to inventory:\")\n",
    "my_store.add('soda', 6)\n",
    "my_store.show_inventory()"
   ]
  },
  {
   "cell_type": "markdown",
   "metadata": {},
   "source": [
    "# Exercise 4:\n",
    "\n",
    "Create two classes. One that acts as a parent class and the other that acts as a child class that inherits from the parent. Create a method of the child class that uses attributes from the parent class. Demonstrate your code works by creating an instance of the child class and showing that the method works."
   ]
  },
  {
   "cell_type": "code",
   "execution_count": 54,
   "metadata": {},
   "outputs": [
    {
     "ename": "TypeError",
     "evalue": "__init__() takes 3 positional arguments but 4 were given",
     "output_type": "error",
     "traceback": [
      "\u001b[0;31m---------------------------------------------------------------------------\u001b[0m",
      "\u001b[0;31mTypeError\u001b[0m                                 Traceback (most recent call last)",
      "\u001b[0;32m<ipython-input-54-29ad5b9cb49a>\u001b[0m in \u001b[0;36m<module>\u001b[0;34m\u001b[0m\n\u001b[1;32m     12\u001b[0m         \u001b[0;32mreturn\u001b[0m \u001b[0;34mf\"Hello. My name is {first_name.title()} {last_name.title()}. I work at {company.title()}\"\u001b[0m\u001b[0;34m\u001b[0m\u001b[0;34m\u001b[0m\u001b[0m\n\u001b[1;32m     13\u001b[0m \u001b[0;34m\u001b[0m\u001b[0m\n\u001b[0;32m---> 14\u001b[0;31m \u001b[0mme\u001b[0m \u001b[0;34m=\u001b[0m \u001b[0mBoss\u001b[0m\u001b[0;34m(\u001b[0m\u001b[0;34m'Ishraq'\u001b[0m\u001b[0;34m,\u001b[0m \u001b[0;34m'khan'\u001b[0m\u001b[0;34m,\u001b[0m \u001b[0;34m'Microsoft'\u001b[0m\u001b[0;34m)\u001b[0m\u001b[0;34m\u001b[0m\u001b[0;34m\u001b[0m\u001b[0m\n\u001b[0m",
      "\u001b[0;31mTypeError\u001b[0m: __init__() takes 3 positional arguments but 4 were given"
     ]
    }
   ],
   "source": [
    "class Person:\n",
    "    def __init__(self, first_name, last_name):\n",
    "        self.first_name = first_name\n",
    "        self.last_name = last_name\n",
    "        \n",
    "class Boss(Person):\n",
    "    def __init (self, first_name, last_name, company):\n",
    "        self.company = company\n",
    "        Person.__init__(self, first_name, last_name)\n",
    "        \n",
    "    def greet(self):\n",
    "        return f\"Hello. My name is {first_name.title()} {last_name.title()}. I work at {company.title()}\"\n",
    "    \n",
    "me = Boss('Ishraq', 'khan', 'Microsoft') "
   ]
  },
  {
   "cell_type": "code",
   "execution_count": null,
   "metadata": {},
   "outputs": [],
   "source": []
  }
 ],
 "metadata": {
  "kernelspec": {
   "display_name": "Python 3",
   "language": "python",
   "name": "python3"
  },
  "language_info": {
   "codemirror_mode": {
    "name": "ipython",
    "version": 3
   },
   "file_extension": ".py",
   "mimetype": "text/x-python",
   "name": "python",
   "nbconvert_exporter": "python",
   "pygments_lexer": "ipython3",
   "version": "3.8.0"
  }
 },
 "nbformat": 4,
 "nbformat_minor": 4
}
