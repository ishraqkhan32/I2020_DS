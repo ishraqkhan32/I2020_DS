{
 "cells": [
  {
   "cell_type": "markdown",
   "metadata": {},
   "source": [
    "<div style=\"background: #000;\n",
    "            color: #FFF;\n",
    "            margin: 0px;\n",
    "                padding: 10px 0px 20px 0px;\n",
    "            text-align: center; \n",
    "                \">\n",
    "    <h1>Week 5 - Class 2 - Lab</h1>\n",
    "</div>"
   ]
  },
  {
   "cell_type": "markdown",
   "metadata": {},
   "source": [
    "# Question 1:\n",
    "\n",
    "What is the time complexity of the following code? Explain your answer.\n",
    "\n",
    "```python3\n",
    "def function_a(*args):\n",
    "    array = []\n",
    "    length = len(args)\n",
    "    \n",
    "    for i in range(0, length-1):\n",
    "        print(i)\n",
    "    \n",
    "    for i in range(0, length-1):\n",
    "        for j in range(0, length-1):\n",
    "            for k in range(0, length-1):\n",
    "                array.append([i, j, k])\n",
    "    \n",
    "    for val in array:\n",
    "        print(val)\n",
    "    \n",
    "    return array\n",
    "            \n",
    "\n",
    "\n",
    "```\n"
   ]
  },
  {
   "cell_type": "markdown",
   "metadata": {},
   "source": [
    "The time complexity of this algorithm is O(n^3). I calculated this by noticing that there are 3 different loops in the function. \n",
    "\n",
    "The first one has a time complexity of O(n) since it prints numbers based on the size of the input (which can vary). \n",
    "\n",
    "The second loop has a time complexity of O(n^3) because of the triple nested for loops. The innermost loop runs n-1 times for every value of the 2nd innermost loop which also runs n-1 times. This inner loop runs another n-1 times for each value of the outermost loop. \n",
    "\n",
    "The final for loop also runs O(n^3) because that is the size of the array created during the 2nd for loop. \n",
    "\n",
    "The last 2 for loops dominate the time complexity so the code runs in O(n^3) time. "
   ]
  },
  {
   "cell_type": "markdown",
   "metadata": {},
   "source": [
    "# Exercise 1:\n",
    "\n",
    "Create a function of your own choosing that uses `if`, `for` or `while`. What is the time complexity?"
   ]
  },
  {
   "cell_type": "code",
   "execution_count": 11,
   "metadata": {},
   "outputs": [
    {
     "data": {
      "text/plain": [
       "30"
      ]
     },
     "execution_count": 11,
     "metadata": {},
     "output_type": "execute_result"
    }
   ],
   "source": [
    "import sys\n",
    "\n",
    "# input: list of integers ()\n",
    "def findMax(lst):\n",
    "    currentMax = -sys.maxsize - 1 # smallest integer possible according to StackOverflow post\n",
    "    for val in lst:\n",
    "        if val > currentMax:\n",
    "            currentMax = val\n",
    "    return currentMax\n",
    "\n",
    "findMax([-1,2,30,4,5,10])"
   ]
  },
  {
   "cell_type": "markdown",
   "metadata": {},
   "source": [
    "The time complexity of this algorithm which finds the maximum number in a list of integers is O(n). This is because the loop has to run through every single element in the list to determine whether it has actually found the max or not. The best case would still be O(n) because even if the max element was the first element in the list, Python does not know that and has to check the rest of the elements as well. The average case is also O(n)."
   ]
  },
  {
   "cell_type": "markdown",
   "metadata": {},
   "source": [
    "# Exercise 2:\n",
    "\n",
    "Write a lambda function that checks whether or not a given string starts with a given character. \n",
    "\n",
    "Hint: Use a string method."
   ]
  },
  {
   "cell_type": "code",
   "execution_count": 12,
   "metadata": {},
   "outputs": [],
   "source": [
    "stringStart = lambda c, string: True if string[0] == c else False"
   ]
  },
  {
   "cell_type": "code",
   "execution_count": 17,
   "metadata": {},
   "outputs": [
    {
     "data": {
      "text/plain": [
       "False"
      ]
     },
     "execution_count": 17,
     "metadata": {},
     "output_type": "execute_result"
    }
   ],
   "source": [
    "stringStart('a', 'xaaaabapple')"
   ]
  },
  {
   "cell_type": "markdown",
   "metadata": {},
   "source": [
    "# Exercise 3:\n",
    "\n",
    "Create a function called `checker` that takes a tuple of three values, checks if there's a pair of numbers and returns the 3rd. If no doubles, return False. If there's a triple return the non-paired number and \"triple\" Use the code in the following cell to generate tuples.\n",
    "\n",
    "E.g. \n",
    "\n",
    "`checker(2,3,2)` would return 3    \n",
    "`checker(1,2,3)` would return False  \n",
    "`checker(3,3,3)` would return 3, \"triple\"  \n"
   ]
  },
  {
   "cell_type": "code",
   "execution_count": 46,
   "metadata": {},
   "outputs": [
    {
     "data": {
      "text/plain": [
       "(3, 3, 6)"
      ]
     },
     "execution_count": 46,
     "metadata": {},
     "output_type": "execute_result"
    }
   ],
   "source": [
    "import random\n",
    "\n",
    "def dice_roller():\n",
    "    return (random.randint(1,6), random.randint(1,6), random.randint(1,6))\n",
    "\n",
    "three_dice_rolls = dice_roller()\n",
    "\n",
    "three_dice_rolls"
   ]
  },
  {
   "cell_type": "code",
   "execution_count": 48,
   "metadata": {},
   "outputs": [
    {
     "data": {
      "text/plain": [
       "False"
      ]
     },
     "execution_count": 48,
     "metadata": {},
     "output_type": "execute_result"
    }
   ],
   "source": [
    "def checker(three_tuple):\n",
    "    dct = {}\n",
    "    \n",
    "    # adds each element of tuple to dictionary where value is frequency of element\n",
    "    for i in three_tuple:\n",
    "        if i in dct.keys():\n",
    "            dct[i] += 1\n",
    "        else:\n",
    "            dct[i] = 1\n",
    "    \n",
    "    # iterate through dictionary to determine whether max frequency is ever 2 or 3 (special cases)\n",
    "    for k,v in dct.items():\n",
    "        if v == 3:\n",
    "            return k, \"triple\"\n",
    "        elif v == 2:\n",
    "            return k\n",
    "    \n",
    "    # if no special cases are found, then all elements are unique \n",
    "    return False\n",
    "\n",
    "#checker([1,1,1])\n",
    "#checker([1,2,2])\n",
    "#checker([1,2,3])"
   ]
  },
  {
   "cell_type": "markdown",
   "metadata": {},
   "source": [
    "# Bonus: \n",
    "\n",
    "Create your own naive (unsophisticated) sorting algorithm that takes a list of ints and sorts the elements. It doesn't not have to be efficient, it just needs to give the correct sorted list as output. No points for using any built in or library method that sorts."
   ]
  },
  {
   "cell_type": "code",
   "execution_count": 67,
   "metadata": {},
   "outputs": [
    {
     "data": {
      "text/plain": [
       "[-3, 1, 4, 5, 6, 6, 120]"
      ]
     },
     "execution_count": 67,
     "metadata": {},
     "output_type": "execute_result"
    }
   ],
   "source": [
    "import sys\n",
    "\n",
    "# input: list of integers \n",
    "def findMin(lst):\n",
    "    currentMin = sys.maxsize # largest integer possible according to StackOverflow post\n",
    "    for val in lst:\n",
    "        if val < currentMin:\n",
    "            currentMin = val\n",
    "    return currentMin\n",
    "\n",
    "def sort_func(lst):\n",
    "    new_lst = []\n",
    "    \n",
    "    # while old lst is not empty, find the minimum element, append to new list, remove from old list, and repeat\n",
    "    while len(lst) > 0:\n",
    "        lst_min = findMin(lst)\n",
    "        new_lst.append(lst_min)\n",
    "        lst.remove(lst_min)\n",
    "        \n",
    "    return new_lst\n",
    "lst = [1,-3,5,6,120,4,6]\n",
    "sort_func(lst)"
   ]
  }
 ],
 "metadata": {
  "kernelspec": {
   "display_name": "Python 3",
   "language": "python",
   "name": "python3"
  },
  "language_info": {
   "codemirror_mode": {
    "name": "ipython",
    "version": 3
   },
   "file_extension": ".py",
   "mimetype": "text/x-python",
   "name": "python",
   "nbconvert_exporter": "python",
   "pygments_lexer": "ipython3",
   "version": "3.8.0"
  }
 },
 "nbformat": 4,
 "nbformat_minor": 4
}
