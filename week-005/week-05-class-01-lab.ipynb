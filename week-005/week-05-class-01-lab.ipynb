{
 "cells": [
  {
   "cell_type": "markdown",
   "metadata": {},
   "source": [
    "<div style=\"background: #000;\n",
    "            color: #FFF;\n",
    "            margin: 0px;\n",
    "                padding: 10px 0px 20px 0px;\n",
    "            text-align: center; \n",
    "                \">\n",
    "    <h1>Week 5 - Class 1 - Lab</h1>\n",
    "</div>"
   ]
  },
  {
   "cell_type": "markdown",
   "metadata": {},
   "source": [
    "# Question 1:\n",
    "\n",
    "What are signs you should use a recursive function? What happens when you do a recursive function call in a return statement?\n",
    "\n",
    "Walk us through how recursive functions work in your answer."
   ]
  },
  {
   "cell_type": "markdown",
   "metadata": {},
   "source": [
    "Signs that solving a problem using recursion might work is when you can solve a smaller version of the same exact problem and repeat that process until you hit a base case. \n",
    "\n",
    "When you do a recursive function call in a return statement, that current function call will halt (and I think wait on the stack) while the new function call evaluates on the smaller input. This process will repeat, running through the entire code in the function call until it either hits the base case or a new recursive call. This input will run until it returns a value which it will send back to the original function call."
   ]
  },
  {
   "cell_type": "markdown",
   "metadata": {},
   "source": [
    "# Exercise 1:\n",
    "\n",
    "Create a function that executes in constant time. Then create a function that executes in linear time. Curry the two functions to produce an output."
   ]
  },
  {
   "cell_type": "code",
   "execution_count": null,
   "metadata": {},
   "outputs": [],
   "source": [
    "# returns n (int) multiplied by x; executes in constant time\n",
    "def multiplier(n, x):\n",
    "    return n * x\n",
    "\n",
    "# requires list (int) and returns list (int) with all values tripled; executes in linear time\n",
    "def triple_list(lst):\n",
    "    new_lst = []\n",
    "    for val in lst:\n",
    "        new_lst.append(multiplier(val, 3))\n",
    "    return new_lst\n",
    "\n",
    "triple_list([1,2,3,4,5,6])"
   ]
  },
  {
   "cell_type": "markdown",
   "metadata": {},
   "source": [
    "# Exercise 2:\n",
    "\n",
    "Create a function using the following function that will take your choice of the following and input:\n",
    "\n",
    "\"R\" (rock), \"P\" (paper), or \"S\" (scissors) \n",
    "\n",
    "and return whether or not you beat the computer.\n"
   ]
  },
  {
   "cell_type": "code",
   "execution_count": null,
   "metadata": {},
   "outputs": [],
   "source": [
    "import random\n",
    "def computers_turn():\n",
    "    choices = {\n",
    "        0: 'rock',\n",
    "        1: 'paper',\n",
    "        2: 'scissors',\n",
    "    }\n",
    "    turn = random.randint(0,2)\n",
    "    return (turn, choices[turn])\n",
    "\n",
    "computers_turn()"
   ]
  },
  {
   "cell_type": "code",
   "execution_count": null,
   "metadata": {},
   "outputs": [],
   "source": [
    "# input: 'R', 'P', 'S' (strings) to represent rock, paper, scissors \n",
    "# output: True if player beat computer; False if player lost or tied \n",
    "def play(input):\n",
    "    num, comp_hand = computers_turn()\n",
    "    \n",
    "    choices = {\n",
    "        'R': 'rock',\n",
    "        'P': 'paper',\n",
    "        'S': 'scissors',\n",
    "    }\n",
    "    \n",
    "    print(f\"Player: {choices[input]} \\nComputer: {comp_hand}\")\n",
    "    # if both hands are the same, you did not beat the computer, therefore return False\n",
    "    if choices[input] == comp_hand:\n",
    "        return False\n",
    "    \n",
    "    # if player chooses rock\n",
    "    if input == 'R':\n",
    "        if comp_hand == 'scissors':\n",
    "            return True\n",
    "        elif comp_hand == 'paper':\n",
    "            return False\n",
    "\n",
    "    # if player chooses scissor\n",
    "    if input == 'S':\n",
    "        if comp_hand == 'paper':\n",
    "            return True\n",
    "        elif comp_hand == 'rock':\n",
    "            return False\n",
    "            \n",
    "    # if player chooses paper\n",
    "    if input == 'P':\n",
    "        if comp_hand == 'rock':\n",
    "            return True\n",
    "        elif comp_hand == 'scissors':\n",
    "            return False       \n",
    "    \n",
    "play('R')\n",
    "#play('S')\n",
    "#play('P')"
   ]
  },
  {
   "cell_type": "markdown",
   "metadata": {},
   "source": [
    "# Exercise 3:\n",
    "\n",
    "Create a function that takes a string, converts it to upper, sorts it and then take the `ord()` of each element of the string and adds it to a list. Output the final list.\n",
    "\n",
    "Once your function runs, optimize it to make it more efficient. "
   ]
  },
  {
   "cell_type": "code",
   "execution_count": null,
   "metadata": {},
   "outputs": [],
   "source": [
    "# input: str\n",
    "# output: list\n",
    "def unoptimized_func(string):\n",
    "    upper_str = string.upper()\n",
    "    print(upper_str)\n",
    "    sorted_str = ''.join(sorted(upper_str))\n",
    "    print(sorted_str)\n",
    "    \n",
    "    lst = []\n",
    "    for i in sorted_str:\n",
    "        lst.append(ord(i))\n",
    "    return lst\n",
    "\n",
    "unoptimized_func('alpha')"
   ]
  },
  {
   "cell_type": "code",
   "execution_count": null,
   "metadata": {},
   "outputs": [],
   "source": [
    "# optimized version of above function made more efficient using map function to apply ordinal\n",
    "def optimized_func(string):\n",
    "    return list(map(ord, sorted(string.upper())))\n",
    "\n",
    "optimized_func('alpha')"
   ]
  },
  {
   "cell_type": "markdown",
   "metadata": {},
   "source": [
    "# Exercise 4:\n",
    "\n",
    "Create a recursive function that computers the powers of a number using the following equation:\n",
    "\n",
    "   $$ x^{n} = x * x^{n-1} $$ "
   ]
  },
  {
   "cell_type": "code",
   "execution_count": null,
   "metadata": {},
   "outputs": [],
   "source": [
    "# input: function assumes base and integer will be whole number greater than or equal to 0\n",
    "# output: value of x raised to the power of n\n",
    "def recursive_pow(x,n):\n",
    "    # base cases \n",
    "    # 1. when the base (x) is 0 or 1 or when exponent (n) is 1\n",
    "    # 2. when the exponent (n) is 0\n",
    "    if x == 0 or x == 1 or n == 1:\n",
    "        return x\n",
    "    elif n == 0:\n",
    "        return 1\n",
    "    else:\n",
    "        return x * recursive_pow(x,n-1)\n",
    "    \n",
    "#recursive_pow(10,0)\n",
    "#recursive_pow(10,1)\n",
    "#recursive_pow(10,2)\n",
    "recursive_pow(10,3)"
   ]
  },
  {
   "cell_type": "markdown",
   "metadata": {},
   "source": [
    "# Bonus: \n",
    "\n",
    "Find a lab exercise solution that you previously submitted that you can optimize, make a function out of the solution and make it more efficient."
   ]
  },
  {
   "cell_type": "code",
   "execution_count": null,
   "metadata": {},
   "outputs": [],
   "source": []
  }
 ],
 "metadata": {
  "kernelspec": {
   "display_name": "Python 3",
   "language": "python",
   "name": "python3"
  },
  "language_info": {
   "codemirror_mode": {
    "name": "ipython",
    "version": 3
   },
   "file_extension": ".py",
   "mimetype": "text/x-python",
   "name": "python",
   "nbconvert_exporter": "python",
   "pygments_lexer": "ipython3",
   "version": "3.8.0"
  }
 },
 "nbformat": 4,
 "nbformat_minor": 4
}
