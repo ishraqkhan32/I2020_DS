{
 "cells": [
  {
   "cell_type": "markdown",
   "metadata": {},
   "source": [
    "<div style=\"background: #000;\n",
    "            color: #FFF;\n",
    "            margin: 0px;\n",
    "                padding: 10px 0px 20px 0px;\n",
    "            text-align: center; \n",
    "                \">\n",
    "    <h1>Week 10 Lab</h1>\n",
    "</div>"
   ]
  },
  {
   "cell_type": "markdown",
   "metadata": {},
   "source": [
    "# Exercise 1\n",
    "\n",
    "Building off of your portfolio web application, we'd like to add a form to the page.\n",
    "Use the example flask application code to add a contact page to your web application with an associated form. If you already have a portfolio web app, then add a form of some sort to the same application you created a git repo for.\n",
    "\n",
    "Commit your code to that same repo and submit the link with your lab submission."
   ]
  },
  {
   "cell_type": "code",
   "execution_count": null,
   "metadata": {},
   "outputs": [],
   "source": []
  },
  {
   "cell_type": "markdown",
   "metadata": {},
   "source": [
    "# Exercise 2\n",
    "\n",
    "Write a function that creates a sqlite database with a table `customer` with the following columns:\n",
    "* `name` - string of length 255 \n",
    "* `address` - string of length 255\n",
    "* `email` - string of length 255\n",
    "* `company` - string of length 255\n",
    "* `outstanding_invoices` - int"
   ]
  },
  {
   "cell_type": "code",
   "execution_count": 2,
   "metadata": {},
   "outputs": [],
   "source": [
    "from sqlalchemy.ext.declarative import declarative_base\n",
    "from sqlalchemy import Column, Integer, String, create_engine\n",
    "from sqlalchemy.orm import Session\n",
    "from sqlalchemy.orm import sessionmaker\n",
    " \n",
    "Base = declarative_base()\n",
    "\n",
    "class Customer(Base):\n",
    "    __tablename__ = 'customer'\n",
    "    id = Column(Integer, primary_key=True)\n",
    "    name = Column(String(255), nullable=False)\n",
    "    address = Column(String(255), nullable=False)\n",
    "    email = Column(String(255), nullable=False)\n",
    "    company = Column(String(255), nullable=False)\n",
    "    outstanding_invoices = Column(Integer, nullable=False)\n",
    "\n",
    "def create_database(base):\n",
    "    # create engine that stores data in the .db file\n",
    "    engine = create_engine('sqlite:///exercise2_ishraqkhan.db')\n",
    "\n",
    "    # create all tables in engine\n",
    "    base.metadata.create_all(engine)\n",
    "    base.metadata.bind = engine\n",
    "\n",
    "    # create db session \n",
    "    DBSession = sessionmaker(bind=engine)\n",
    "    session = DBSession()\n",
    "\n",
    "# create_database(Base)"
   ]
  },
  {
   "cell_type": "markdown",
   "metadata": {},
   "source": [
    "# Exercise 2\n",
    "\n",
    "Start to create a python script that scrapes the data from the source for your final project.\n",
    "\n",
    "Answer the following below for your lab submission:\n",
    "\n",
    "**What is the source of your data?**\n",
    "\n",
    "The source of my data will be blinkfitness's website which provides real-time gym capacity at its 110 locations across the United States:\n",
    "\n",
    "* California (8)\n",
    "* Florida (2)\n",
    "* Illinois (6)\n",
    "* Massachusetts (2)\n",
    "* Michigan (2)\n",
    "* New Jersey (16)\n",
    "* New York (62)\n",
    "* Pennsylvania (3)\n",
    "* Texas (8)\n",
    "* Virginia (1)\n",
    "\n",
    "**What is the page you will be scraping the data from?**\n",
    "\n",
    "https://www.blinkfitness.com/capacity/ + 'location_name'\n",
    "This link will have the location named appended at the end of the URL so the link to a gym near me would be:\n",
    "https://www.blinkfitness.com/capacity/jamaica\n",
    "\n",
    "**What sort of link/elements do you need to target in order to get your data?**\n",
    "\n",
    "I need to target the capacity element as shown in the right hand side of this image.\n",
    "\n",
    "[Imgur](https://imgur.com/8zVNh08)\n",
    "\n",
    "**What will be the structure of your sqlite database?**  \n",
    "\n",
    "My database will have 2 tables that are relationally linked together. One table will be for all the data about a specific gym. The second table will be the capacity at a location recorded over time. I could possibly have a table for each gym location but that would get too complex and unnecessary. \n",
    "\n",
    "**What tables will you need?**  \n",
    "\n",
    "1. Gym location data\n",
    "2. Scraped capacity over time\n",
    "\n",
    "**What columns will those tables have?  **\n",
    "\n",
    "1. Gym id, location, city, state, zip code, hours, phone number\n",
    "2. Gym id, Datetime, capacity (%) \n",
    "\n",
    "**What connections between tables might you need?**\n",
    "\n",
    "The connection between tables would be a primary key - foreign key relationship with the gym location id in the first table with the gym location id in the second table."
   ]
  },
  {
   "cell_type": "code",
   "execution_count": null,
   "metadata": {},
   "outputs": [],
   "source": []
  }
 ],
 "metadata": {
  "kernelspec": {
   "display_name": "Python 3",
   "language": "python",
   "name": "python3"
  },
  "language_info": {
   "codemirror_mode": {
    "name": "ipython",
    "version": 3
   },
   "file_extension": ".py",
   "mimetype": "text/x-python",
   "name": "python",
   "nbconvert_exporter": "python",
   "pygments_lexer": "ipython3",
   "version": "3.8.0"
  }
 },
 "nbformat": 4,
 "nbformat_minor": 4
}
