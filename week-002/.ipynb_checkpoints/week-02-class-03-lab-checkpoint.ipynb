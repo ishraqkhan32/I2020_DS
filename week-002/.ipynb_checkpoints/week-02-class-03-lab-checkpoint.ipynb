{
 "cells": [
  {
   "cell_type": "markdown",
   "metadata": {},
   "source": [
    "<div style=\"background: #000;\n",
    "            color: #FFF;\n",
    "            margin: 0px;\n",
    "                padding: 10px 0px 20px 0px;\n",
    "            text-align: center; \n",
    "                \">\n",
    "    <h1>Week 2 Class 3 Lab</h1>\n",
    "</div>"
   ]
  },
  {
   "cell_type": "markdown",
   "metadata": {},
   "source": [
    "# Question 1\n",
    "\n",
    "When might you use a dictionary? Why? Explain in your own words"
   ]
  },
  {
   "cell_type": "markdown",
   "metadata": {},
   "source": [
    "A dictionary would be helpful when you need to store labeled data that you need would like to access easily. For example, if your dictionary represents a person, then the key-value pairs would represent information about the person such as first-name, last-name, address, etc. And because of how a dictionary works, you can access each piece of information in a single call as opposed to iterating through a list to get what you need."
   ]
  },
  {
   "cell_type": "markdown",
   "metadata": {},
   "source": [
    "# Question 2\n",
    "\n",
    "When might you use a set? Why? Explain in your own words."
   ]
  },
  {
   "cell_type": "markdown",
   "metadata": {},
   "source": [
    "A set can be very useful when you want to remove any duplicates or check if an element exists in a collection of data. This is because sets are unordered group of unique values and unlike lists, cannot have repeating elements. This makes it quick to search since you'd only have to search through the unique values."
   ]
  },
  {
   "cell_type": "markdown",
   "metadata": {},
   "source": [
    "# Exercise 1 \n",
    "\n",
    "Create a dictionary and populate it with keys from 0 to 9 and a default value of \"None\". Then set the values of all keys divisible by 2 to be the value times itself. "
   ]
  },
  {
   "cell_type": "code",
   "execution_count": 1,
   "metadata": {},
   "outputs": [
    {
     "name": "stdout",
     "output_type": "stream",
     "text": [
      "{0: None, 1: None, 2: None, 3: None, 4: None, 5: None, 6: None, 7: None, 8: None, 9: None}\n",
      "{0: 0, 1: None, 2: 2, 3: None, 4: 4, 5: None, 6: 6, 7: None, 8: 8, 9: None}\n"
     ]
    }
   ],
   "source": [
    "d = {}\n",
    "\n",
    "# populate dictionary with default value of None\n",
    "for i in range(10):\n",
    "    d.setdefault(i, None)\n",
    "print(d)\n",
    "\n",
    "# update values for even numbers\n",
    "for i in range(10):\n",
    "    if not i % 2:\n",
    "        d[i] = i\n",
    "print(d)"
   ]
  },
  {
   "cell_type": "markdown",
   "metadata": {},
   "source": [
    "# Exercise 2\n",
    "\n",
    "Given a list of words and utilizing set methods print the words that can be typed using letters of alphabet on only one row's of the (American) keyboard. You may use one character in the keyboard more than once. \n",
    "\n",
    " "
   ]
  },
  {
   "cell_type": "code",
   "execution_count": 2,
   "metadata": {},
   "outputs": [
    {
     "name": "stdout",
     "output_type": "stream",
     "text": [
      "type\n",
      "router\n",
      "dash\n",
      "top\n",
      "rower\n"
     ]
    }
   ],
   "source": [
    "words = ['type', 'router', 'pine', 'dash', 'top', 'rower', 'freedom']\n",
    "top_row = set('qwertyuiop')\n",
    "mid_row = set('asdfghjkl')\n",
    "bot_row = set('zxcvbnm')\n",
    "\n",
    "for word in words:\n",
    "    word_set = set(word)\n",
    "    \n",
    "    # if word is subset of any row of keyboard, then print \n",
    "    if word_set.issubset(top_row) or word_set.issubset(mid_row) or word_set.issubset(bot_row):\n",
    "        print(word)"
   ]
  },
  {
   "cell_type": "markdown",
   "metadata": {},
   "source": [
    "# Exercise 3\n",
    "\n",
    "Given a list of students, find the students who favorite colors are the same utitlizng set methods. Print the name of the students who share similar tastes in colors. "
   ]
  },
  {
   "cell_type": "code",
   "execution_count": 3,
   "metadata": {},
   "outputs": [
    {
     "name": "stdout",
     "output_type": "stream",
     "text": [
      "[{'name': 'Rob', 'student_id': 115, 'favorite_colors': {'green', 'red'}}, {'name': 'Clara', 'student_id': 15, 'favorite_colors': {'green', 'blue', 'red'}}, {'name': 'Sally', 'student_id': 21, 'favorite_colors': {'black'}}, {'name': 'Jim', 'student_id': 33, 'favorite_colors': {'green', 'blue'}}]\n"
     ]
    }
   ],
   "source": [
    "students = [{\"name\":\"Rob\",\"student_id\": 115, \"favorite_colors\":{\"red\",\"green\"}},{\"name\":\"Clara\",\"student_id\": 15, \"favorite_colors\":{\"blue\",\"red\",\"green\"}}, {\"name\":\"Sally\",\"student_id\": 21, \"favorite_colors\":{\"black\"}}, {\"name\":\"Jim\",\"student_id\": 33, \"favorite_colors\":{\"blue\",\"green\"}}]\n",
    "\n",
    "print(students)"
   ]
  },
  {
   "cell_type": "code",
   "execution_count": 4,
   "metadata": {},
   "outputs": [
    {
     "name": "stdout",
     "output_type": "stream",
     "text": [
      "{'name': 'Rob', 'student_id': 115, 'favorite_colors': {'green', 'red'}}\n",
      "{'name': 'Clara', 'student_id': 15, 'favorite_colors': {'green', 'blue', 'red'}}\n",
      "{'name': 'Sally', 'student_id': 21, 'favorite_colors': {'black'}}\n",
      "{'name': 'Jim', 'student_id': 33, 'favorite_colors': {'green', 'blue'}}\n"
     ]
    }
   ],
   "source": [
    "for student in students:\n",
    "    print(student)"
   ]
  },
  {
   "cell_type": "code",
   "execution_count": 5,
   "metadata": {},
   "outputs": [
    {
     "name": "stdout",
     "output_type": "stream",
     "text": [
      "Rob and Clara both like {'green', 'red'}\n",
      "Rob and Jim both like {'green'}\n",
      "Clara and Rob both like {'green', 'red'}\n",
      "Clara and Jim both like {'green', 'blue'}\n",
      "Jim and Rob both like {'green'}\n",
      "Jim and Clara both like {'green', 'blue'}\n"
     ]
    }
   ],
   "source": [
    "# compare every student to another student\n",
    "for student in students:\n",
    "    for temp in students:\n",
    "        # make sure you aren't comparing one student to themselves\n",
    "        if student['name'] != temp['name']:\n",
    "            # check for similar taste using intersection \n",
    "            common_colors = student['favorite_colors'].intersection(temp['favorite_colors'])\n",
    "            if common_colors:\n",
    "                print(f\"{student['name']} and {temp['name']} both like {common_colors}\")"
   ]
  },
  {
   "cell_type": "code",
   "execution_count": 6,
   "metadata": {},
   "outputs": [
    {
     "name": "stdout",
     "output_type": "stream",
     "text": [
      "{'green': ['Rob', 'Clara', 'Jim']}\n",
      "{'blue': ['Clara', 'Jim']}\n",
      "{'red': ['Rob', 'Clara']}\n",
      "{'black': ['Sally']}\n"
     ]
    }
   ],
   "source": [
    "# I also attempted a different solution where each color is followed by the list of students who like that color \n",
    "# instead of just listing the similarities between two students at a time.\n",
    "all_colors = set()\n",
    "\n",
    "# get set of all colors from student list\n",
    "for student in students:\n",
    "    all_colors = all_colors.union(student['favorite_colors'])\n",
    "\n",
    "\n",
    "for color in all_colors:\n",
    "    color_dict = {color: []}\n",
    "\n",
    "    # check if color is in favorite color set of each studetn and add to dict if true\n",
    "    for student in students:\n",
    "        if color in student['favorite_colors']:\n",
    "            color_dict[color].append(student['name'])\n",
    "    print(color_dict)\n",
    "        "
   ]
  }
 ],
 "metadata": {
  "kernelspec": {
   "display_name": "Python 3",
   "language": "python",
   "name": "python3"
  },
  "language_info": {
   "codemirror_mode": {
    "name": "ipython",
    "version": 3
   },
   "file_extension": ".py",
   "mimetype": "text/x-python",
   "name": "python",
   "nbconvert_exporter": "python",
   "pygments_lexer": "ipython3",
   "version": "3.8.0"
  }
 },
 "nbformat": 4,
 "nbformat_minor": 4
}
