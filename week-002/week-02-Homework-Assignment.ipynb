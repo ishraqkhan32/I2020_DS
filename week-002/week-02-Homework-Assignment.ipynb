{
 "cells": [
  {
   "cell_type": "markdown",
   "metadata": {},
   "source": [
    "# Week 2 HW\n",
    "\n",
    "Exercise 1 is due Monday.  \n",
    "Exercise 2 is due Tuesday.  \n",
    "Exercise 3 is due Wednesday.  "
   ]
  },
  {
   "cell_type": "markdown",
   "metadata": {},
   "source": [
    "# Exercise #1\n",
    "\n",
    "### Given the following variable `money_moves`"
   ]
  },
  {
   "cell_type": "code",
   "execution_count": 1,
   "metadata": {},
   "outputs": [],
   "source": [
    "money_moves = [\"fur coats\",\"money fans\",\"Diamonds\",\"MoNeY FaNs\",\"FUR COATS\",\"barrels of gold\"]"
   ]
  },
  {
   "cell_type": "markdown",
   "metadata": {},
   "source": [
    "### a. Print the list of unique elements. Then output the length."
   ]
  },
  {
   "cell_type": "code",
   "execution_count": 2,
   "metadata": {},
   "outputs": [
    {
     "name": "stdout",
     "output_type": "stream",
     "text": [
      "['fur coats', 'money fans', 'Diamonds', 'MoNeY FaNs', 'FUR COATS', 'barrels of gold']\n",
      "6\n"
     ]
    }
   ],
   "source": [
    "# place code here\n",
    "print(money_moves)\n",
    "print(len(money_moves))"
   ]
  },
  {
   "cell_type": "markdown",
   "metadata": {},
   "source": [
    "### b. Set the 4th and 5th elements of the original list in lowercase. Pop that value and append it to the end of the list. Print the list."
   ]
  },
  {
   "cell_type": "code",
   "execution_count": 3,
   "metadata": {},
   "outputs": [
    {
     "name": "stdout",
     "output_type": "stream",
     "text": [
      "['fur coats', 'money fans', 'Diamonds', 'FUR COATS', 'barrels of gold', 'money fans']\n"
     ]
    }
   ],
   "source": [
    "money_moves[3] = money_moves[3].lower() # set 4th element to lower\n",
    "money_moves.append(money_moves.pop(3)) # pop and append to end of list\n",
    "print(money_moves)"
   ]
  },
  {
   "cell_type": "code",
   "execution_count": 4,
   "metadata": {},
   "outputs": [
    {
     "name": "stdout",
     "output_type": "stream",
     "text": [
      "['fur coats', 'money fans', 'Diamonds', 'barrels of gold', 'money fans', 'fur coats']\n"
     ]
    }
   ],
   "source": [
    "money_moves[3] = money_moves[3].lower() # set 5th element to lower (which has now become the 4th element)\n",
    "money_moves.append(money_moves.pop(3)) # pop and append to end of list\n",
    "print(money_moves)"
   ]
  },
  {
   "cell_type": "markdown",
   "metadata": {},
   "source": [
    "### d. Create a new list, append odd number items from the original list`money_moves` and output the new list"
   ]
  },
  {
   "cell_type": "code",
   "execution_count": 5,
   "metadata": {},
   "outputs": [
    {
     "data": {
      "text/plain": [
       "['money fans', 'MoNeY FaNs', 'barrels of gold']"
      ]
     },
     "execution_count": 5,
     "metadata": {},
     "output_type": "execute_result"
    }
   ],
   "source": [
    "money_moves = [\"fur coats\",\"money fans\",\"Diamonds\",\"MoNeY FaNs\",\"FUR COATS\",\"barrels of gold\"]\n",
    "\n",
    "new_list = []\n",
    "\n",
    "for i in range(len(money_moves)):\n",
    "    # if index is odd, then append to new_list\n",
    "    if i % 2:\n",
    "        new_list.append(money_moves[i])\n",
    "new_list"
   ]
  },
  {
   "cell_type": "markdown",
   "metadata": {},
   "source": [
    "### e. Create a new dict. Add each item of `money_moves` to the dict using it's place in the list as the key for the dict. Print the dict."
   ]
  },
  {
   "cell_type": "code",
   "execution_count": 6,
   "metadata": {},
   "outputs": [],
   "source": [
    "money_moves = [\"fur coats\",\"money fans\",\"Diamonds\",\"MoNeY FaNs\",\"FUR COATS\",\"barrels of gold\"]\n"
   ]
  },
  {
   "cell_type": "code",
   "execution_count": 7,
   "metadata": {},
   "outputs": [],
   "source": [
    "dic = {}\n",
    "for i in range(len(money_moves)):\n",
    "    dic[i] = money_moves[i]"
   ]
  },
  {
   "cell_type": "code",
   "execution_count": 8,
   "metadata": {},
   "outputs": [
    {
     "name": "stdout",
     "output_type": "stream",
     "text": [
      "{0: 'fur coats', 1: 'money fans', 2: 'Diamonds', 3: 'MoNeY FaNs', 4: 'FUR COATS', 5: 'barrels of gold'}\n"
     ]
    }
   ],
   "source": [
    "print(dic)"
   ]
  },
  {
   "cell_type": "markdown",
   "metadata": {},
   "source": [
    "# Exercise 2\n",
    "\n",
    "### Given the string below:  "
   ]
  },
  {
   "cell_type": "code",
   "execution_count": 9,
   "metadata": {},
   "outputs": [],
   "source": [
    "original_string = \"Supercalifragilisticexpialadocious\""
   ]
  },
  {
   "cell_type": "markdown",
   "metadata": {},
   "source": [
    "### a. Extract the 3rd and 4th element separately. Return the two values in a tuple"
   ]
  },
  {
   "cell_type": "code",
   "execution_count": 10,
   "metadata": {},
   "outputs": [
    {
     "data": {
      "text/plain": [
       "('p', 'e')"
      ]
     },
     "execution_count": 10,
     "metadata": {},
     "output_type": "execute_result"
    }
   ],
   "source": [
    "tup = original_string[2], original_string[3]\n",
    "tup"
   ]
  },
  {
   "cell_type": "markdown",
   "metadata": {},
   "source": [
    "### b. Extract the 3rd through 5th element, inclusive.   "
   ]
  },
  {
   "cell_type": "code",
   "execution_count": 11,
   "metadata": {},
   "outputs": [
    {
     "data": {
      "text/plain": [
       "'per'"
      ]
     },
     "execution_count": 11,
     "metadata": {},
     "output_type": "execute_result"
    }
   ],
   "source": [
    "original_string[2:5]"
   ]
  },
  {
   "cell_type": "markdown",
   "metadata": {},
   "source": [
    "### c. Extract the 3rd (inclusive) through 5th (exclusive) element.  "
   ]
  },
  {
   "cell_type": "code",
   "execution_count": 12,
   "metadata": {},
   "outputs": [
    {
     "data": {
      "text/plain": [
       "'pe'"
      ]
     },
     "execution_count": 12,
     "metadata": {},
     "output_type": "execute_result"
    }
   ],
   "source": [
    "original_string[2:4]"
   ]
  },
  {
   "cell_type": "markdown",
   "metadata": {},
   "source": [
    "### d. What is the index of \"S\"? How many elements in the list are \"S\"? Output the results as a tuple"
   ]
  },
  {
   "cell_type": "code",
   "execution_count": 15,
   "metadata": {},
   "outputs": [
    {
     "data": {
      "text/plain": [
       "0"
      ]
     },
     "execution_count": 15,
     "metadata": {},
     "output_type": "execute_result"
    }
   ],
   "source": [
    "index_S = original_string.find('S') # find index of first \"S\"\n",
    "index_S"
   ]
  },
  {
   "cell_type": "code",
   "execution_count": 14,
   "metadata": {},
   "outputs": [
    {
     "data": {
      "text/plain": [
       "-1"
      ]
     },
     "execution_count": 14,
     "metadata": {},
     "output_type": "execute_result"
    }
   ],
   "source": [
    "# There is only one occurence of \"S\" since find returns -1 for all chars after the first index\n",
    "original_string[1:].find('S')"
   ]
  },
  {
   "cell_type": "code",
   "execution_count": 16,
   "metadata": {},
   "outputs": [
    {
     "data": {
      "text/plain": [
       "(0, 1)"
      ]
     },
     "execution_count": 16,
     "metadata": {},
     "output_type": "execute_result"
    }
   ],
   "source": [
    "num_S = 1\n",
    "tup_S = index_S, num_S\n",
    "tup_S"
   ]
  },
  {
   "cell_type": "markdown",
   "metadata": {},
   "source": [
    "### e. What are the last 3 elements of the string?  "
   ]
  },
  {
   "cell_type": "code",
   "execution_count": 18,
   "metadata": {},
   "outputs": [
    {
     "data": {
      "text/plain": [
       "'ous'"
      ]
     },
     "execution_count": 18,
     "metadata": {},
     "output_type": "execute_result"
    }
   ],
   "source": [
    "last_three = original_string[-3:]\n",
    "last_three"
   ]
  },
  {
   "cell_type": "markdown",
   "metadata": {},
   "source": [
    "### f. Output the string backwards"
   ]
  },
  {
   "cell_type": "code",
   "execution_count": 19,
   "metadata": {},
   "outputs": [
    {
     "data": {
      "text/plain": [
       "'suoicodalaipxecitsiligarfilacrepuS'"
      ]
     },
     "execution_count": 19,
     "metadata": {},
     "output_type": "execute_result"
    }
   ],
   "source": [
    "original_string[::-1]"
   ]
  },
  {
   "cell_type": "markdown",
   "metadata": {},
   "source": [
    "# Exercise 3\n",
    "\n",
    "### Given the following code, fix it so the code outputs `\"hello\"`:\n",
    "\n",
    "Hint: for each, you just have to edit one line of code\n",
    "\n",
    "(Don't worry, you aren't meant to understand everything going on in them yet)"
   ]
  },
  {
   "cell_type": "code",
   "execution_count": 21,
   "metadata": {},
   "outputs": [
    {
     "name": "stdout",
     "output_type": "stream",
     "text": [
      "hello\n"
     ]
    }
   ],
   "source": [
    "def function(x):\n",
    "    if type(x) == str: #changed type from bool to str\n",
    "        print(x)\n",
    "\n",
    "function(\"hello\")"
   ]
  },
  {
   "cell_type": "code",
   "execution_count": 24,
   "metadata": {},
   "outputs": [
    {
     "data": {
      "text/plain": [
       "'hello'"
      ]
     },
     "execution_count": 24,
     "metadata": {},
     "output_type": "execute_result"
    }
   ],
   "source": [
    "s = [\"h\", \"e\", \"l\", \"l\", \"o\"]\n",
    "\"\".join(s) # added join statement"
   ]
  },
  {
   "cell_type": "code",
   "execution_count": 31,
   "metadata": {},
   "outputs": [
    {
     "data": {
      "text/plain": [
       "'hello'"
      ]
     },
     "execution_count": 31,
     "metadata": {},
     "output_type": "execute_result"
    }
   ],
   "source": [
    "a = True\n",
    "b = False\n",
    "c = True\n",
    "d = False\n",
    "\"hello\" if (b or a and b == d or b or b) else \"\" # changed b == d and b to b == d or b"
   ]
  },
  {
   "cell_type": "code",
   "execution_count": 33,
   "metadata": {},
   "outputs": [
    {
     "name": "stdout",
     "output_type": "stream",
     "text": [
      "hello\n",
      "\n"
     ]
    }
   ],
   "source": [
    "class Example:\n",
    "    def __init__(self, val):\n",
    "        self.a = val and print(\"hello\")\n",
    "    def say_hi(self):\n",
    "        print(\"hello\") if self.a == \"fixed\" else print(\"\")\n",
    "    def hello(self):\n",
    "        return \"olleh\".reverse()\n",
    "        \n",
    "e = Example(\"hello\")\n",
    "e.say_hi()"
   ]
  }
 ],
 "metadata": {
  "kernelspec": {
   "display_name": "Python 3",
   "language": "python",
   "name": "python3"
  },
  "language_info": {
   "codemirror_mode": {
    "name": "ipython",
    "version": 3
   },
   "file_extension": ".py",
   "mimetype": "text/x-python",
   "name": "python",
   "nbconvert_exporter": "python",
   "pygments_lexer": "ipython3",
   "version": "3.8.0"
  }
 },
 "nbformat": 4,
 "nbformat_minor": 4
}
