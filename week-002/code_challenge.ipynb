{
 "cells": [
  {
   "cell_type": "markdown",
   "metadata": {},
   "source": [
    "Taking the following dictionary:\n",
    "\n",
    "Write a series of python statements that will:\n",
    "1. Access the value for key \"location\" of each element of dictionary `companies`\n",
    "2. Access the value of the key name of each element of dict companies\n",
    "3. Print the following \"<COMPANY NAME>, is located in <COMPANY LOCATION>\" for each dictionary element."
   ]
  },
  {
   "cell_type": "code",
   "execution_count": 5,
   "metadata": {},
   "outputs": [],
   "source": [
    "companies = {\n",
    "   \"msft\": {\"name\" : \"Microsoft\", \"ceo\":\"satya nadella\",\"location\":\"redmond, washington\"},\n",
    "   \"tlsa\": {\"name\" : \"Tesla\", \"ceo\":\"elon musk\",\"location\":\"palo alto, california\"},\n",
    "   \"aapl\": {\"name\": \"Apple\",\"ceo\":\"tim cook\",\"location\":\"cupertino, california\"},\n",
    "   \"goog\": {\"name\":\"Google\", \"ceo\":\"sundar pichai\",\"location\": \"mountain view, california\"},\n",
    "   \"amzn\": {\"name\":\"Amazon\",\"ceo\":\"jeff bezos\", \"location\":\"seattle, washington\"}}"
   ]
  },
  {
   "cell_type": "code",
   "execution_count": 10,
   "metadata": {},
   "outputs": [
    {
     "name": "stdout",
     "output_type": "stream",
     "text": [
      "redmond, washington\n",
      "palo alto, california\n",
      "cupertino, california\n",
      "mountain view, california\n",
      "seattle, washington\n"
     ]
    }
   ],
   "source": [
    "# 1. Access the value for key \"location\" of each element of dictionary `companies`\n",
    "print(companies[\"msft\"][\"location\"])\n",
    "print(companies[\"tlsa\"][\"location\"])\n",
    "print(companies[\"aapl\"][\"location\"])\n",
    "print(companies[\"goog\"][\"location\"])\n",
    "print(companies[\"amzn\"][\"location\"])"
   ]
  },
  {
   "cell_type": "code",
   "execution_count": 20,
   "metadata": {},
   "outputs": [
    {
     "name": "stdout",
     "output_type": "stream",
     "text": [
      "msft\n",
      "tlsa\n",
      "aapl\n",
      "goog\n",
      "amzn\n"
     ]
    }
   ],
   "source": [
    "# 2. Access the value of the key name of each element of dict companies\n",
    "for i in companies.keys():\n",
    "    print(i)"
   ]
  },
  {
   "cell_type": "code",
   "execution_count": 18,
   "metadata": {},
   "outputs": [
    {
     "name": "stdout",
     "output_type": "stream",
     "text": [
      "msft is located in redmond, washington for each dictionary element.\n",
      "tlsa is located in palo alto, california for each dictionary element.\n",
      "aapl is located in cupertino, california for each dictionary element.\n",
      "goog is located in mountain view, california for each dictionary element.\n",
      "amzn is located in seattle, washington for each dictionary element.\n"
     ]
    }
   ],
   "source": [
    "# 3. Print the following \"<COMPANY NAME>, is located in <COMPANY LOCATION>\" for each dictionary element.\n",
    "for company in companies.items():\n",
    "    name = company[0]\n",
    "    location = company[1]['location']\n",
    "    print(f\"{name} is located in {location} for each dictionary element.\")"
   ]
  }
 ],
 "metadata": {
  "kernelspec": {
   "display_name": "Python 3",
   "language": "python",
   "name": "python3"
  },
  "language_info": {
   "codemirror_mode": {
    "name": "ipython",
    "version": 3
   },
   "file_extension": ".py",
   "mimetype": "text/x-python",
   "name": "python",
   "nbconvert_exporter": "python",
   "pygments_lexer": "ipython3",
   "version": "3.8.0"
  }
 },
 "nbformat": 4,
 "nbformat_minor": 4
}
