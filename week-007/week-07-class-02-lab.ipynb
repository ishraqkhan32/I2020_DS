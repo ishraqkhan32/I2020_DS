{
 "cells": [
  {
   "cell_type": "markdown",
   "metadata": {},
   "source": [
    "<div style=\"background: #000;\n",
    "            color: #FFF;\n",
    "            margin: 0px;\n",
    "                padding: 10px 0px 20px 0px;\n",
    "            text-align: center; \n",
    "                \">\n",
    "    <h1>Week 7 - Class 2 - Lab</h1>\n",
    "</div>\n"
   ]
  },
  {
   "cell_type": "markdown",
   "metadata": {},
   "source": [
    "# Question\n",
    "\n",
    "What is something we could make with the python we know now? Give an example of something and then describe what parts it might need (functions, classes, etc.) that would be necessary in order to get it to work. "
   ]
  },
  {
   "cell_type": "raw",
   "metadata": {},
   "source": [
    "Something we can make in Python with everything we've learned is a game that doesn't require a user interface. Similar to how we created the guessing game today, we would need a Class Game that houses attributes and methods. \n",
    "\n",
    "For example, we could create Rock, Paper, Scissors.\n",
    "\n",
    "The game would require attributes to keep track of wins, losses, and ties. \n",
    "Then it would require functions to start the game, get user input, do the comparison between user and computer choices, and finally to exit the game if desired."
   ]
  },
  {
   "cell_type": "markdown",
   "metadata": {},
   "source": [
    "# Exercise 1\n",
    "\n",
    "Create a class of your own creation. Use at least 3 attributes and 3 methods (excluding `__init__`). Bonus points if you use other dunder methods."
   ]
  },
  {
   "cell_type": "code",
   "execution_count": 18,
   "metadata": {},
   "outputs": [],
   "source": [
    "class Date:\n",
    "    months = ['January','February','March','April','May','June','July','August','September','October',\n",
    "             'November','December']\n",
    "    \n",
    "    def __init__(self, month, day, year):\n",
    "        self.month = month\n",
    "        self.day = day\n",
    "        self.year = self.validate_year(year)\n",
    "        \n",
    "    def validate_year(self, year):\n",
    "        if len(str(year)) != 4:\n",
    "            print('ERROR: Please enter a full year (YYYY).')\n",
    "            return None\n",
    "        else:\n",
    "            return year\n",
    "        \n",
    "    def long_date(self):\n",
    "        if self.month and self.day and self.year:\n",
    "            return f\"{self.months[self.month-1]} {self.day}, {self.year}\"\n",
    "        else:\n",
    "            return 'Error with initialization. Please try again'\n",
    "    \n",
    "    def __lt__(self, other):\n",
    "        if isinstance(other,Date):\n",
    "            if self.year <= other.year and self.month <= other.month and self.day < other.day:\n",
    "                return True\n",
    "            else:\n",
    "                return False\n",
    "        else:\n",
    "            print(f'Cannot compare Date and {type(other)} classes')\n",
    "        "
   ]
  },
  {
   "cell_type": "code",
   "execution_count": 19,
   "metadata": {},
   "outputs": [],
   "source": [
    "today = Date(10,27,2020)\n",
    "tomorrow = Date(10,28,2020)"
   ]
  },
  {
   "cell_type": "code",
   "execution_count": 20,
   "metadata": {},
   "outputs": [
    {
     "name": "stdout",
     "output_type": "stream",
     "text": [
      "October 27, 2020\n",
      "October 28, 2020\n"
     ]
    }
   ],
   "source": [
    "print(today.long_date())\n",
    "print(tomorrow.long_date())"
   ]
  },
  {
   "cell_type": "code",
   "execution_count": 22,
   "metadata": {},
   "outputs": [
    {
     "name": "stdout",
     "output_type": "stream",
     "text": [
      "ERROR: Please enter a full year (YYYY).\n"
     ]
    },
    {
     "data": {
      "text/plain": [
       "'Error with initialization. Please try again'"
      ]
     },
     "execution_count": 22,
     "metadata": {},
     "output_type": "execute_result"
    }
   ],
   "source": [
    "print(yday = Date(10,26,20)) # should toss error string b/c YY instead of YYYY\n",
    "print(yday.long_date()) # should toss eror b/c year is null \n"
   ]
  },
  {
   "cell_type": "code",
   "execution_count": 24,
   "metadata": {},
   "outputs": [
    {
     "name": "stdout",
     "output_type": "stream",
     "text": [
      "True\n",
      "False\n"
     ]
    }
   ],
   "source": [
    "print(today < tomorrow) # returns true because today's date is before tomorrows date\n",
    "print(tomorrow < today) # returns false"
   ]
  },
  {
   "cell_type": "markdown",
   "metadata": {},
   "source": [
    "Notes:\n",
    "For the following exercises, you will create a file name using the following function and then submit that file with this notebook.\n"
   ]
  },
  {
   "cell_type": "code",
   "execution_count": 25,
   "metadata": {},
   "outputs": [
    {
     "name": "stdout",
     "output_type": "stream",
     "text": [
      "ishraqkhan-module.py\n"
     ]
    }
   ],
   "source": [
    "produce_file_name = lambda name: print(f\"{name}-module.py\")   \n",
    "produce_file_name('ishraqkhan')"
   ]
  },
  {
   "cell_type": "markdown",
   "metadata": {},
   "source": [
    "# Exercise 2\n",
    "\n",
    "Create a module that is a commmand line script similar to our guessing game. Include at least 1 class with the related methods. Submit the `.py` file that runs your script with no errors."
   ]
  },
  {
   "cell_type": "markdown",
   "metadata": {},
   "source": [
    "### If finished, work on Project."
   ]
  },
  {
   "cell_type": "code",
   "execution_count": null,
   "metadata": {},
   "outputs": [],
   "source": []
  }
 ],
 "metadata": {
  "kernelspec": {
   "display_name": "Python 3",
   "language": "python",
   "name": "python3"
  },
  "language_info": {
   "codemirror_mode": {
    "name": "ipython",
    "version": 3
   },
   "file_extension": ".py",
   "mimetype": "text/x-python",
   "name": "python",
   "nbconvert_exporter": "python",
   "pygments_lexer": "ipython3",
   "version": "3.8.0"
  }
 },
 "nbformat": 4,
 "nbformat_minor": 4
}
