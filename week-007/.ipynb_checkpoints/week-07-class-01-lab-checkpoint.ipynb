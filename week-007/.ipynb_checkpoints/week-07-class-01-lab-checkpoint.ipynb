{
 "cells": [
  {
   "cell_type": "markdown",
   "metadata": {},
   "source": [
    "<div style=\"background: #000;\n",
    "            color: #FFF;\n",
    "            margin: 0px;\n",
    "                padding: 10px 0px 20px 0px;\n",
    "            text-align: center; \n",
    "                \">\n",
    "    <h1>Lab</h1>\n",
    "</div>\n"
   ]
  },
  {
   "cell_type": "markdown",
   "metadata": {},
   "source": [
    "# HW Exercise 1\n",
    "\n",
    "Create a class called `Course` and a class called `Student` based on what you think they will need. Create a way to store 20 \"students\" (instances of the `Student` class into an instance of `Course` to represent our Data Science course. \n",
    "\n",
    "Demonstrate that your code works. Message on slack if stuck or need clarification."
   ]
  },
  {
   "cell_type": "raw",
   "metadata": {},
   "source": [
    "Exercise 1 submitted on Google Classroom."
   ]
  },
  {
   "cell_type": "markdown",
   "metadata": {},
   "source": [
    "# Complete previous weeks Labs"
   ]
  },
  {
   "cell_type": "markdown",
   "metadata": {},
   "source": [
    "# Question 1:\n",
    "\n",
    "Give an example of how we could use what we learned today in our python programming."
   ]
  },
  {
   "cell_type": "raw",
   "metadata": {},
   "source": [
    "Today's class material is very useful because it allows us to take in data into our programming environment. I've used the file commands and csv module to import csv files that contains logger data for a previous project so you can do the same for any data hosted on csv or txt files. Not only that but you could use txt files to hold logs for your program that can be referenced later on"
   ]
  },
  {
   "cell_type": "markdown",
   "metadata": {},
   "source": [
    "# Exercise 1:\n",
    "\n",
    "Create a file called `sample.txt`. Create a function takes one argument that opens the file and writes that argument to it."
   ]
  },
  {
   "cell_type": "code",
   "execution_count": 1,
   "metadata": {},
   "outputs": [],
   "source": [
    "f = open(\"sample.txt\", \"x\") # create file\n",
    "f.close()\n",
    "\n",
    "def write_to_file(arg):\n",
    "    f = open(\"sample.txt\", \"w\") \n",
    "    f.write(arg)\n",
    "    f.close()"
   ]
  },
  {
   "cell_type": "code",
   "execution_count": 2,
   "metadata": {},
   "outputs": [],
   "source": [
    "write_to_file('hello')"
   ]
  },
  {
   "cell_type": "markdown",
   "metadata": {},
   "source": [
    "# Exercise 2:\n",
    "    \n",
    "Create a function that takes an argument and opens the argument as a file and prints the contents.\n",
    "\n",
    "Demonstrate that this works for `sample.txt`"
   ]
  },
  {
   "cell_type": "code",
   "execution_count": 4,
   "metadata": {},
   "outputs": [
    {
     "name": "stdout",
     "output_type": "stream",
     "text": [
      "hello\n"
     ]
    }
   ],
   "source": [
    "def open_and_print(file):\n",
    "    with open(file, 'r') as f:\n",
    "        print(f.read())\n",
    "    return\n",
    "\n",
    "open_and_print('sample.txt')"
   ]
  },
  {
   "cell_type": "markdown",
   "metadata": {},
   "source": [
    "# Week 6 Project\n",
    "\n",
    "#### For this project, you'll be using your solution exercise 2 from week-05-class-01-lab.ipynb and the following piece of code:"
   ]
  },
  {
   "cell_type": "code",
   "execution_count": 7,
   "metadata": {},
   "outputs": [
    {
     "data": {
      "text/plain": [
       "(2, 'scissors')"
      ]
     },
     "execution_count": 7,
     "metadata": {},
     "output_type": "execute_result"
    }
   ],
   "source": [
    "import random\n",
    "def computers_turn():\n",
    "    choices = {\n",
    "        0: 'rock',\n",
    "        1: 'paper',\n",
    "        2: 'scissors',\n",
    "    }\n",
    "    turn = random.randint(0,2)\n",
    "    return (turn, choices[turn])\n",
    "\n",
    "computers_turn()"
   ]
  },
  {
   "cell_type": "markdown",
   "metadata": {},
   "source": [
    "#### Your solution for exercise 2"
   ]
  },
  {
   "cell_type": "code",
   "execution_count": 8,
   "metadata": {},
   "outputs": [
    {
     "name": "stdout",
     "output_type": "stream",
     "text": [
      "Player: rock \n",
      "Computer: paper\n"
     ]
    },
    {
     "data": {
      "text/plain": [
       "False"
      ]
     },
     "execution_count": 8,
     "metadata": {},
     "output_type": "execute_result"
    }
   ],
   "source": [
    "# input: 'R', 'P', 'S' (strings) to represent rock, paper, scissors \n",
    "# output: True if player beat computer; False if player lost or tied \n",
    "def play(input):\n",
    "    num, comp_hand = computers_turn()\n",
    "    \n",
    "    choices = {\n",
    "        'R': 'rock',\n",
    "        'P': 'paper',\n",
    "        'S': 'scissors',\n",
    "    }\n",
    "    \n",
    "    print(f\"Player: {choices[input]} \\nComputer: {comp_hand}\")\n",
    "    # if both hands are the same, you did not beat the computer, therefore return False\n",
    "    if choices[input] == comp_hand:\n",
    "        return False\n",
    "    \n",
    "    # if player chooses rock\n",
    "    if input == 'R':\n",
    "        if comp_hand == 'scissors':\n",
    "            return True\n",
    "        elif comp_hand == 'paper':\n",
    "            return False\n",
    "\n",
    "    # if player chooses scissor\n",
    "    if input == 'S':\n",
    "        if comp_hand == 'paper':\n",
    "            return True\n",
    "        elif comp_hand == 'rock':\n",
    "            return False\n",
    "            \n",
    "    # if player chooses paper\n",
    "    if input == 'P':\n",
    "        if comp_hand == 'rock':\n",
    "            return True\n",
    "        elif comp_hand == 'scissors':\n",
    "            return False       \n",
    "    \n",
    "play('R')\n",
    "#play('S')\n",
    "#play('P')"
   ]
  },
  {
   "cell_type": "markdown",
   "metadata": {},
   "source": [
    "Take your solution to exercise 2 and break it up into two separate functions:\n",
    "\n",
    "`your_turn` -  which takes an input and returns `(turn, choices[turn])` similar to `computers_turn`.\n",
    "\n",
    "`compare_turns` - which takes the two-tuples from `your_turn` and `computers_turn` to declare a winner\n",
    "\n"
   ]
  },
  {
   "cell_type": "code",
   "execution_count": 33,
   "metadata": {},
   "outputs": [],
   "source": [
    "# input: 'R', 'P', 'S' (strings) to represent rock, paper, scissors \n",
    "def your_turn():  \n",
    "    choices = {\n",
    "        'R': 'rock',\n",
    "        'P': 'paper',\n",
    "        'S': 'scissors',\n",
    "    }\n",
    "    your_choice = input('Please enter your choice (R, P, S)')\n",
    "    \n",
    "    return (your_choice, choices[your_choice])"
   ]
  },
  {
   "cell_type": "code",
   "execution_count": 35,
   "metadata": {},
   "outputs": [
    {
     "name": "stdout",
     "output_type": "stream",
     "text": [
      "Please enter your choice (R, P, S)R\n",
      "Player: rock \n",
      "Computer: rock\n",
      "Tie\n"
     ]
    }
   ],
   "source": [
    "def compare_turns(user,computer):\n",
    "    user_choice = user[1]\n",
    "    comp_hand = computer[1]\n",
    "\n",
    "    print(f\"Player: {user_choice} \\nComputer: {comp_hand}\")\n",
    "    \n",
    "    # if both hands are the same, you did not beat the computer, therefore return False\n",
    "    if user_choice == comp_hand:\n",
    "        return 'Tie'\n",
    "    \n",
    "    # if player chooses rock\n",
    "    if user_choice == 'rock':\n",
    "        if comp_hand == 'scissors':\n",
    "            return 'User Won'\n",
    "        elif comp_hand == 'paper':\n",
    "            return 'Computer Won'\n",
    "\n",
    "    # if player chooses scissor\n",
    "    if user_choice == 'scissors':\n",
    "        if comp_hand == 'paper':\n",
    "            return 'User Won'\n",
    "        elif comp_hand == 'rock':\n",
    "            return 'Computer Won'\n",
    "            \n",
    "    # if player chooses paper\n",
    "    if user_choice == 'paper':\n",
    "        if comp_hand == 'rock':\n",
    "            return 'User Won'\n",
    "        elif comp_hand == 'scissors':\n",
    "            return 'Computer Won'\n",
    "\n",
    "print(compare_turns(your_turn(), computers_turn()))"
   ]
  },
  {
   "cell_type": "markdown",
   "metadata": {},
   "source": [
    "Now create a function called `won_round` that calls `computers_turn`, `your_turn` and then `compare_turns` within the function body and then returns True if you won the round, else False."
   ]
  },
  {
   "cell_type": "code",
   "execution_count": 36,
   "metadata": {},
   "outputs": [
    {
     "name": "stdout",
     "output_type": "stream",
     "text": [
      "Please enter your choice (R, P, S)R\n",
      "Player: rock \n",
      "Computer: paper\n"
     ]
    },
    {
     "data": {
      "text/plain": [
       "False"
      ]
     },
     "execution_count": 36,
     "metadata": {},
     "output_type": "execute_result"
    }
   ],
   "source": [
    "def won_round():\n",
    "    comp_tuple = computers_turn()\n",
    "    your_tuple = your_turn()\n",
    "    \n",
    "    result = compare_turns(your_tuple, comp_tuple)\n",
    "    \n",
    "    if result == 'User Won':\n",
    "        return True\n",
    "    else:\n",
    "        return False\n",
    "    \n",
    "won_round()"
   ]
  },
  {
   "cell_type": "markdown",
   "metadata": {},
   "source": [
    "Create a class using these functions (converting them to methods that take `self`) tha has attributes to store the details of who's won. Create an `__init__` function that takes, at minimum, an argument asking how many rounds to play. Also create a function that displays the details of who won each round. Bonus points for implementing other features.\n",
    "\n",
    "Demonstrate that this class can be used to run games of Rock-Paper-Scissors.\n",
    "\n",
    "When submitting, make sure all of your code from above is in this class declaration below and that the below two cells run without error. Failure to do so will result in points taken off."
   ]
  },
  {
   "cell_type": "code",
   "execution_count": 54,
   "metadata": {},
   "outputs": [],
   "source": [
    "class RockPaperScissors:\n",
    "    def __init__(self, rounds=1):\n",
    "        self.rounds = rounds\n",
    "        self.user_wins = 0\n",
    "        self.computer_wins = 0\n",
    "        self.ties = 0\n",
    "\n",
    "    def computers_turn(self):\n",
    "        choices = {\n",
    "            0: 'rock',\n",
    "            1: 'paper',\n",
    "            2: 'scissors',\n",
    "        }\n",
    "        \n",
    "        turn = random.randint(0,2)\n",
    "        return (turn, choices[turn])\n",
    "\n",
    "    # input: 'R', 'P', 'S' (strings) to represent rock, paper, scissors \n",
    "    def your_turn(self):  \n",
    "        choices = {\n",
    "            'R': 'rock',\n",
    "            'P': 'paper',\n",
    "            'S': 'scissors',\n",
    "        }\n",
    "        your_choice = input('Please enter your choice (R, P, S)')\n",
    "\n",
    "        return (your_choice, choices[your_choice])\n",
    "    \n",
    "    def compare_turns(self, user, computer):\n",
    "        user_choice = user[1]\n",
    "        comp_hand = computer[1]\n",
    "\n",
    "        print(f\"Player: {user_choice} \\nComputer: {comp_hand}\\n\")\n",
    "\n",
    "        # if both hands are the same, you did not beat the computer, therefore return False\n",
    "        if user_choice == comp_hand:\n",
    "            return 'Tie'\n",
    "\n",
    "        # if player chooses rock\n",
    "        if user_choice == 'rock':\n",
    "            if comp_hand == 'scissors':\n",
    "                return 'User Won'\n",
    "            elif comp_hand == 'paper':\n",
    "                return 'Computer Won'\n",
    "\n",
    "        # if player chooses scissor\n",
    "        if user_choice == 'scissors':\n",
    "            if comp_hand == 'paper':\n",
    "                return 'User Won'\n",
    "            elif comp_hand == 'rock':\n",
    "                return 'Computer Won'\n",
    "\n",
    "        # if player chooses paper\n",
    "        if user_choice == 'paper':\n",
    "            if comp_hand == 'rock':\n",
    "                return 'User Won'\n",
    "            elif comp_hand == 'scissors':\n",
    "                return 'Computer Won'\n",
    "    \n",
    "    def won_round(self):\n",
    "        comp_tuple = self.computers_turn()\n",
    "        your_tuple = self.your_turn()\n",
    "\n",
    "        result = self.compare_turns(your_tuple, comp_tuple)\n",
    "\n",
    "        if result == 'User Won':\n",
    "            self.user_wins += 1\n",
    "        elif result == 'Computer Won':\n",
    "            self.computer_wins += 1\n",
    "        else:\n",
    "            self.ties += 1\n",
    "        print(result)\n",
    "        print('---------------------------------')\n",
    "            \n",
    "    def start(self):\n",
    "        while self.rounds > 0:\n",
    "            self.won_round()\n",
    "            self.rounds -= 1\n",
    "        self.declare_results()\n",
    "        \n",
    "    def declare_results(self):\n",
    "        print(f'User wins: {self.user_wins}')\n",
    "        print(f'Computer wins: {self.computer_wins}')\n",
    "        print(f'Ties: {self.ties}')"
   ]
  },
  {
   "cell_type": "markdown",
   "metadata": {},
   "source": [
    "Create an instance of your class below and run a game of 3 rounds. Then output the results\n",
    "\n"
   ]
  },
  {
   "cell_type": "code",
   "execution_count": 55,
   "metadata": {},
   "outputs": [],
   "source": [
    "game = RockPaperScissors(3)"
   ]
  },
  {
   "cell_type": "code",
   "execution_count": 56,
   "metadata": {},
   "outputs": [
    {
     "name": "stdout",
     "output_type": "stream",
     "text": [
      "Please enter your choice (R, P, S)R\n",
      "Player: rock \n",
      "Computer: paper\n",
      "\n",
      "Computer Won\n",
      "---------------------------------\n",
      "Please enter your choice (R, P, S)P\n",
      "Player: paper \n",
      "Computer: rock\n",
      "\n",
      "User Won\n",
      "---------------------------------\n",
      "Please enter your choice (R, P, S)S\n",
      "Player: scissors \n",
      "Computer: scissors\n",
      "\n",
      "Tie\n",
      "---------------------------------\n",
      "User wins: 1\n",
      "Computer wins: 1\n",
      "Ties: 1\n"
     ]
    }
   ],
   "source": [
    "game.start()"
   ]
  }
 ],
 "metadata": {
  "kernelspec": {
   "display_name": "Python 3",
   "language": "python",
   "name": "python3"
  },
  "language_info": {
   "codemirror_mode": {
    "name": "ipython",
    "version": 3
   },
   "file_extension": ".py",
   "mimetype": "text/x-python",
   "name": "python",
   "nbconvert_exporter": "python",
   "pygments_lexer": "ipython3",
   "version": "3.8.0"
  }
 },
 "nbformat": 4,
 "nbformat_minor": 4
}
